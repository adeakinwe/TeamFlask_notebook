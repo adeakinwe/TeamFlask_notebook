{
 "cells": [
  {
   "cell_type": "markdown",
   "metadata": {
    "id": "IASZTwoYb7qc"
   },
   "source": [
    "<center> <H1> Team Flask Capstone Project - Winter '23 </H1> </center>"
   ]
  },
  {
   "attachments": {},
   "cell_type": "markdown",
   "metadata": {
    "id": "3dJPMyVQb7qj"
   },
   "source": [
    "### Project Title: The Place of AI in Tackling the Challenge of Malaria in Africa\n",
    "### Content\n",
    "This dataset includes malaria data on all African countries from 2007 till 2017. The dataset includes the cases of malaria that have been reported in each country and each year, as well as data on preventive measures that have been taken to prevent malaria. The dataset was from the world bank open data source and retrieved from [Kaggle](https://www.kaggle.com/datasets/lydia70/malaria-in-africa)."
   ]
  },
  {
   "cell_type": "markdown",
   "metadata": {
    "id": "FatXzlZjb7qk"
   },
   "source": [
    "# Import libraries"
   ]
  },
  {
   "cell_type": "code",
   "execution_count": 1,
   "metadata": {
    "id": "LBAoQ-J2b7qk"
   },
   "outputs": [
    {
     "data": {
      "text/html": [
       "        <script type=\"text/javascript\">\n",
       "        window.PlotlyConfig = {MathJaxConfig: 'local'};\n",
       "        if (window.MathJax && window.MathJax.Hub && window.MathJax.Hub.Config) {window.MathJax.Hub.Config({SVG: {font: \"STIX-Web\"}});}\n",
       "        if (typeof require !== 'undefined') {\n",
       "        require.undef(\"plotly\");\n",
       "        requirejs.config({\n",
       "            paths: {\n",
       "                'plotly': ['https://cdn.plot.ly/plotly-2.12.1.min']\n",
       "            }\n",
       "        });\n",
       "        require(['plotly'], function(Plotly) {\n",
       "            window._Plotly = Plotly;\n",
       "        });\n",
       "        }\n",
       "        </script>\n",
       "        "
      ]
     },
     "metadata": {},
     "output_type": "display_data"
    }
   ],
   "source": [
    "# import libraries\n",
    "import pandas as pd\n",
    "import numpy as np\n",
    "import matplotlib.pyplot as plt \n",
    "import seaborn as sns\n",
    "import plotly.express as px\n",
    "\n",
    "from plotly.offline import init_notebook_mode\n",
    "init_notebook_mode(connected = True)\n",
    "\n",
    "import warnings\n",
    "warnings.filterwarnings(\"ignore\")"
   ]
  },
  {
   "cell_type": "code",
   "execution_count": 2,
   "metadata": {
    "colab": {
     "base_uri": "https://localhost:8080/"
    },
    "id": "uZzDlN0Cb7qm",
    "outputId": "4ea23380-fc15-49b5-ab7e-12ca232a1134"
   },
   "outputs": [
    {
     "name": "stdout",
     "output_type": "stream",
     "text": [
      "Data imported successfully\n"
     ]
    }
   ],
   "source": [
    "# load dataset\n",
    "dataset = pd.read_csv(\"DatasetAfricaMalaria.csv\")\n",
    "print(\"Data imported successfully\")"
   ]
  },
  {
   "cell_type": "code",
   "execution_count": 3,
   "metadata": {
    "id": "vuJPldoYTngP"
   },
   "outputs": [],
   "source": [
    "# create a copy of the original dataset\n",
    "df = dataset.copy()"
   ]
  },
  {
   "cell_type": "markdown",
   "metadata": {
    "id": "MtR-F8ZCdgTT"
   },
   "source": [
    "# Data Inspection"
   ]
  },
  {
   "cell_type": "code",
   "execution_count": 4,
   "metadata": {
    "colab": {
     "base_uri": "https://localhost:8080/",
     "height": 560
    },
    "id": "7dznXi_Mb7qo",
    "outputId": "5be09b7f-2ce3-47f2-d53f-d6020fd80c53"
   },
   "outputs": [
    {
     "data": {
      "text/html": [
       "<div>\n",
       "<style scoped>\n",
       "    .dataframe tbody tr th:only-of-type {\n",
       "        vertical-align: middle;\n",
       "    }\n",
       "\n",
       "    .dataframe tbody tr th {\n",
       "        vertical-align: top;\n",
       "    }\n",
       "\n",
       "    .dataframe thead th {\n",
       "        text-align: right;\n",
       "    }\n",
       "</style>\n",
       "<table border=\"1\" class=\"dataframe\">\n",
       "  <thead>\n",
       "    <tr style=\"text-align: right;\">\n",
       "      <th></th>\n",
       "      <th>Country Name</th>\n",
       "      <th>Year</th>\n",
       "      <th>Country Code</th>\n",
       "      <th>Incidence of malaria (per 1,000 population at risk)</th>\n",
       "      <th>Malaria cases reported</th>\n",
       "      <th>Use of insecticide-treated bed nets (% of under-5 population)</th>\n",
       "      <th>Children with fever receiving antimalarial drugs (% of children under age 5 with fever)</th>\n",
       "      <th>Intermittent preventive treatment (IPT) of malaria in pregnancy (% of pregnant women)</th>\n",
       "      <th>People using safely managed drinking water services (% of population)</th>\n",
       "      <th>People using safely managed drinking water services, rural (% of rural population)</th>\n",
       "      <th>...</th>\n",
       "      <th>Urban population growth (annual %)</th>\n",
       "      <th>People using at least basic drinking water services (% of population)</th>\n",
       "      <th>People using at least basic drinking water services, rural (% of rural population)</th>\n",
       "      <th>People using at least basic drinking water services, urban (% of urban population)</th>\n",
       "      <th>People using at least basic sanitation services (% of population)</th>\n",
       "      <th>People using at least basic sanitation services, rural (% of rural population)</th>\n",
       "      <th>People using at least basic sanitation services, urban  (% of urban population)</th>\n",
       "      <th>latitude</th>\n",
       "      <th>longitude</th>\n",
       "      <th>geometry</th>\n",
       "    </tr>\n",
       "  </thead>\n",
       "  <tbody>\n",
       "    <tr>\n",
       "      <th>0</th>\n",
       "      <td>Algeria</td>\n",
       "      <td>2007</td>\n",
       "      <td>DZA</td>\n",
       "      <td>0.01</td>\n",
       "      <td>26.0</td>\n",
       "      <td>NaN</td>\n",
       "      <td>NaN</td>\n",
       "      <td>NaN</td>\n",
       "      <td>NaN</td>\n",
       "      <td>NaN</td>\n",
       "      <td>...</td>\n",
       "      <td>2.71</td>\n",
       "      <td>91.68</td>\n",
       "      <td>85.83</td>\n",
       "      <td>94.78</td>\n",
       "      <td>85.85</td>\n",
       "      <td>76.94</td>\n",
       "      <td>90.57</td>\n",
       "      <td>28.033886</td>\n",
       "      <td>1.659626</td>\n",
       "      <td>POINT (28.033886 1.659626)</td>\n",
       "    </tr>\n",
       "    <tr>\n",
       "      <th>1</th>\n",
       "      <td>Angola</td>\n",
       "      <td>2007</td>\n",
       "      <td>AGO</td>\n",
       "      <td>286.72</td>\n",
       "      <td>1533485.0</td>\n",
       "      <td>18.0</td>\n",
       "      <td>29.8</td>\n",
       "      <td>1.5</td>\n",
       "      <td>NaN</td>\n",
       "      <td>NaN</td>\n",
       "      <td>...</td>\n",
       "      <td>5.01</td>\n",
       "      <td>47.96</td>\n",
       "      <td>23.77</td>\n",
       "      <td>65.83</td>\n",
       "      <td>37.26</td>\n",
       "      <td>14.00</td>\n",
       "      <td>54.44</td>\n",
       "      <td>-11.202692</td>\n",
       "      <td>17.873887</td>\n",
       "      <td>POINT (-11.202692 17.873887)</td>\n",
       "    </tr>\n",
       "    <tr>\n",
       "      <th>2</th>\n",
       "      <td>Benin</td>\n",
       "      <td>2007</td>\n",
       "      <td>BEN</td>\n",
       "      <td>480.24</td>\n",
       "      <td>0.0</td>\n",
       "      <td>NaN</td>\n",
       "      <td>NaN</td>\n",
       "      <td>NaN</td>\n",
       "      <td>NaN</td>\n",
       "      <td>NaN</td>\n",
       "      <td>...</td>\n",
       "      <td>4.09</td>\n",
       "      <td>63.78</td>\n",
       "      <td>54.92</td>\n",
       "      <td>76.24</td>\n",
       "      <td>11.80</td>\n",
       "      <td>4.29</td>\n",
       "      <td>22.36</td>\n",
       "      <td>9.307690</td>\n",
       "      <td>2.315834</td>\n",
       "      <td>POINT (9.307689999999999 2.315834)</td>\n",
       "    </tr>\n",
       "    <tr>\n",
       "      <th>3</th>\n",
       "      <td>Botswana</td>\n",
       "      <td>2007</td>\n",
       "      <td>BWA</td>\n",
       "      <td>1.03</td>\n",
       "      <td>390.0</td>\n",
       "      <td>NaN</td>\n",
       "      <td>NaN</td>\n",
       "      <td>NaN</td>\n",
       "      <td>NaN</td>\n",
       "      <td>NaN</td>\n",
       "      <td>...</td>\n",
       "      <td>4.80</td>\n",
       "      <td>78.89</td>\n",
       "      <td>57.60</td>\n",
       "      <td>94.35</td>\n",
       "      <td>61.60</td>\n",
       "      <td>39.99</td>\n",
       "      <td>77.30</td>\n",
       "      <td>-22.328474</td>\n",
       "      <td>24.684866</td>\n",
       "      <td>POINT (-22.328474 24.684866)</td>\n",
       "    </tr>\n",
       "    <tr>\n",
       "      <th>4</th>\n",
       "      <td>Burkina Faso</td>\n",
       "      <td>2007</td>\n",
       "      <td>BFA</td>\n",
       "      <td>503.80</td>\n",
       "      <td>44246.0</td>\n",
       "      <td>NaN</td>\n",
       "      <td>NaN</td>\n",
       "      <td>NaN</td>\n",
       "      <td>NaN</td>\n",
       "      <td>NaN</td>\n",
       "      <td>...</td>\n",
       "      <td>5.91</td>\n",
       "      <td>52.27</td>\n",
       "      <td>45.13</td>\n",
       "      <td>76.15</td>\n",
       "      <td>15.60</td>\n",
       "      <td>6.38</td>\n",
       "      <td>46.49</td>\n",
       "      <td>12.238333</td>\n",
       "      <td>-1.561593</td>\n",
       "      <td>POINT (12.238333 -1.561593)</td>\n",
       "    </tr>\n",
       "  </tbody>\n",
       "</table>\n",
       "<p>5 rows × 27 columns</p>\n",
       "</div>"
      ],
      "text/plain": [
       "   Country Name  Year Country Code  \\\n",
       "0       Algeria  2007          DZA   \n",
       "1        Angola  2007          AGO   \n",
       "2         Benin  2007          BEN   \n",
       "3      Botswana  2007          BWA   \n",
       "4  Burkina Faso  2007          BFA   \n",
       "\n",
       "   Incidence of malaria (per 1,000 population at risk)  \\\n",
       "0                                               0.01     \n",
       "1                                             286.72     \n",
       "2                                             480.24     \n",
       "3                                               1.03     \n",
       "4                                             503.80     \n",
       "\n",
       "   Malaria cases reported  \\\n",
       "0                    26.0   \n",
       "1               1533485.0   \n",
       "2                     0.0   \n",
       "3                   390.0   \n",
       "4                 44246.0   \n",
       "\n",
       "   Use of insecticide-treated bed nets (% of under-5 population)  \\\n",
       "0                                                NaN               \n",
       "1                                               18.0               \n",
       "2                                                NaN               \n",
       "3                                                NaN               \n",
       "4                                                NaN               \n",
       "\n",
       "   Children with fever receiving antimalarial drugs (% of children under age 5 with fever)  \\\n",
       "0                                                NaN                                         \n",
       "1                                               29.8                                         \n",
       "2                                                NaN                                         \n",
       "3                                                NaN                                         \n",
       "4                                                NaN                                         \n",
       "\n",
       "   Intermittent preventive treatment (IPT) of malaria in pregnancy (% of pregnant women)  \\\n",
       "0                                                NaN                                       \n",
       "1                                                1.5                                       \n",
       "2                                                NaN                                       \n",
       "3                                                NaN                                       \n",
       "4                                                NaN                                       \n",
       "\n",
       "   People using safely managed drinking water services (% of population)  \\\n",
       "0                                                NaN                       \n",
       "1                                                NaN                       \n",
       "2                                                NaN                       \n",
       "3                                                NaN                       \n",
       "4                                                NaN                       \n",
       "\n",
       "   People using safely managed drinking water services, rural (% of rural population)  \\\n",
       "0                                                NaN                                    \n",
       "1                                                NaN                                    \n",
       "2                                                NaN                                    \n",
       "3                                                NaN                                    \n",
       "4                                                NaN                                    \n",
       "\n",
       "   ...  Urban population growth (annual %)  \\\n",
       "0  ...                                2.71   \n",
       "1  ...                                5.01   \n",
       "2  ...                                4.09   \n",
       "3  ...                                4.80   \n",
       "4  ...                                5.91   \n",
       "\n",
       "   People using at least basic drinking water services (% of population)  \\\n",
       "0                                              91.68                       \n",
       "1                                              47.96                       \n",
       "2                                              63.78                       \n",
       "3                                              78.89                       \n",
       "4                                              52.27                       \n",
       "\n",
       "   People using at least basic drinking water services, rural (% of rural population)  \\\n",
       "0                                              85.83                                    \n",
       "1                                              23.77                                    \n",
       "2                                              54.92                                    \n",
       "3                                              57.60                                    \n",
       "4                                              45.13                                    \n",
       "\n",
       "   People using at least basic drinking water services, urban (% of urban population)  \\\n",
       "0                                              94.78                                    \n",
       "1                                              65.83                                    \n",
       "2                                              76.24                                    \n",
       "3                                              94.35                                    \n",
       "4                                              76.15                                    \n",
       "\n",
       "   People using at least basic sanitation services (% of population)  \\\n",
       "0                                              85.85                   \n",
       "1                                              37.26                   \n",
       "2                                              11.80                   \n",
       "3                                              61.60                   \n",
       "4                                              15.60                   \n",
       "\n",
       "   People using at least basic sanitation services, rural (% of rural population)  \\\n",
       "0                                              76.94                                \n",
       "1                                              14.00                                \n",
       "2                                               4.29                                \n",
       "3                                              39.99                                \n",
       "4                                               6.38                                \n",
       "\n",
       "   People using at least basic sanitation services, urban  (% of urban population)  \\\n",
       "0                                              90.57                                 \n",
       "1                                              54.44                                 \n",
       "2                                              22.36                                 \n",
       "3                                              77.30                                 \n",
       "4                                              46.49                                 \n",
       "\n",
       "    latitude  longitude                            geometry  \n",
       "0  28.033886   1.659626          POINT (28.033886 1.659626)  \n",
       "1 -11.202692  17.873887        POINT (-11.202692 17.873887)  \n",
       "2   9.307690   2.315834  POINT (9.307689999999999 2.315834)  \n",
       "3 -22.328474  24.684866        POINT (-22.328474 24.684866)  \n",
       "4  12.238333  -1.561593         POINT (12.238333 -1.561593)  \n",
       "\n",
       "[5 rows x 27 columns]"
      ]
     },
     "execution_count": 4,
     "metadata": {},
     "output_type": "execute_result"
    }
   ],
   "source": [
    "# inspect dataframe by printing out the first 5 rows\n",
    "df.head()"
   ]
  },
  {
   "cell_type": "code",
   "execution_count": 5,
   "metadata": {
    "id": "MG6Eie1Jak07"
   },
   "outputs": [],
   "source": [
    "#display all columns for better visibility\n",
    "pd.set_option('display.max_columns', None)"
   ]
  },
  {
   "cell_type": "code",
   "execution_count": 6,
   "metadata": {
    "colab": {
     "base_uri": "https://localhost:8080/",
     "height": 835
    },
    "id": "TiTkKvcdasug",
    "outputId": "c25ace98-37f4-4ec1-cbd0-2ba0a9a27784"
   },
   "outputs": [
    {
     "data": {
      "text/html": [
       "<div>\n",
       "<style scoped>\n",
       "    .dataframe tbody tr th:only-of-type {\n",
       "        vertical-align: middle;\n",
       "    }\n",
       "\n",
       "    .dataframe tbody tr th {\n",
       "        vertical-align: top;\n",
       "    }\n",
       "\n",
       "    .dataframe thead th {\n",
       "        text-align: right;\n",
       "    }\n",
       "</style>\n",
       "<table border=\"1\" class=\"dataframe\">\n",
       "  <thead>\n",
       "    <tr style=\"text-align: right;\">\n",
       "      <th></th>\n",
       "      <th>Country Name</th>\n",
       "      <th>Year</th>\n",
       "      <th>Country Code</th>\n",
       "      <th>Incidence of malaria (per 1,000 population at risk)</th>\n",
       "      <th>Malaria cases reported</th>\n",
       "      <th>Use of insecticide-treated bed nets (% of under-5 population)</th>\n",
       "      <th>Children with fever receiving antimalarial drugs (% of children under age 5 with fever)</th>\n",
       "      <th>Intermittent preventive treatment (IPT) of malaria in pregnancy (% of pregnant women)</th>\n",
       "      <th>People using safely managed drinking water services (% of population)</th>\n",
       "      <th>People using safely managed drinking water services, rural (% of rural population)</th>\n",
       "      <th>People using safely managed drinking water services, urban (% of urban population)</th>\n",
       "      <th>People using safely managed sanitation services (% of population)</th>\n",
       "      <th>People using safely managed sanitation services, rural (% of rural population)</th>\n",
       "      <th>People using safely managed sanitation services, urban  (% of urban population)</th>\n",
       "      <th>Rural population (% of total population)</th>\n",
       "      <th>Rural population growth (annual %)</th>\n",
       "      <th>Urban population (% of total population)</th>\n",
       "      <th>Urban population growth (annual %)</th>\n",
       "      <th>People using at least basic drinking water services (% of population)</th>\n",
       "      <th>People using at least basic drinking water services, rural (% of rural population)</th>\n",
       "      <th>People using at least basic drinking water services, urban (% of urban population)</th>\n",
       "      <th>People using at least basic sanitation services (% of population)</th>\n",
       "      <th>People using at least basic sanitation services, rural (% of rural population)</th>\n",
       "      <th>People using at least basic sanitation services, urban  (% of urban population)</th>\n",
       "      <th>latitude</th>\n",
       "      <th>longitude</th>\n",
       "      <th>geometry</th>\n",
       "    </tr>\n",
       "  </thead>\n",
       "  <tbody>\n",
       "    <tr>\n",
       "      <th>0</th>\n",
       "      <td>Algeria</td>\n",
       "      <td>2007</td>\n",
       "      <td>DZA</td>\n",
       "      <td>0.01</td>\n",
       "      <td>26.0</td>\n",
       "      <td>NaN</td>\n",
       "      <td>NaN</td>\n",
       "      <td>NaN</td>\n",
       "      <td>NaN</td>\n",
       "      <td>NaN</td>\n",
       "      <td>NaN</td>\n",
       "      <td>18.24</td>\n",
       "      <td>19.96</td>\n",
       "      <td>17.33</td>\n",
       "      <td>34.65</td>\n",
       "      <td>-0.60</td>\n",
       "      <td>65.35</td>\n",
       "      <td>2.71</td>\n",
       "      <td>91.68</td>\n",
       "      <td>85.83</td>\n",
       "      <td>94.78</td>\n",
       "      <td>85.85</td>\n",
       "      <td>76.94</td>\n",
       "      <td>90.57</td>\n",
       "      <td>28.033886</td>\n",
       "      <td>1.659626</td>\n",
       "      <td>POINT (28.033886 1.659626)</td>\n",
       "    </tr>\n",
       "    <tr>\n",
       "      <th>1</th>\n",
       "      <td>Angola</td>\n",
       "      <td>2007</td>\n",
       "      <td>AGO</td>\n",
       "      <td>286.72</td>\n",
       "      <td>1533485.0</td>\n",
       "      <td>18.0</td>\n",
       "      <td>29.8</td>\n",
       "      <td>1.5</td>\n",
       "      <td>NaN</td>\n",
       "      <td>NaN</td>\n",
       "      <td>NaN</td>\n",
       "      <td>NaN</td>\n",
       "      <td>NaN</td>\n",
       "      <td>NaN</td>\n",
       "      <td>42.48</td>\n",
       "      <td>1.91</td>\n",
       "      <td>57.52</td>\n",
       "      <td>5.01</td>\n",
       "      <td>47.96</td>\n",
       "      <td>23.77</td>\n",
       "      <td>65.83</td>\n",
       "      <td>37.26</td>\n",
       "      <td>14.00</td>\n",
       "      <td>54.44</td>\n",
       "      <td>-11.202692</td>\n",
       "      <td>17.873887</td>\n",
       "      <td>POINT (-11.202692 17.873887)</td>\n",
       "    </tr>\n",
       "    <tr>\n",
       "      <th>2</th>\n",
       "      <td>Benin</td>\n",
       "      <td>2007</td>\n",
       "      <td>BEN</td>\n",
       "      <td>480.24</td>\n",
       "      <td>0.0</td>\n",
       "      <td>NaN</td>\n",
       "      <td>NaN</td>\n",
       "      <td>NaN</td>\n",
       "      <td>NaN</td>\n",
       "      <td>NaN</td>\n",
       "      <td>NaN</td>\n",
       "      <td>NaN</td>\n",
       "      <td>NaN</td>\n",
       "      <td>NaN</td>\n",
       "      <td>58.44</td>\n",
       "      <td>1.99</td>\n",
       "      <td>41.56</td>\n",
       "      <td>4.09</td>\n",
       "      <td>63.78</td>\n",
       "      <td>54.92</td>\n",
       "      <td>76.24</td>\n",
       "      <td>11.80</td>\n",
       "      <td>4.29</td>\n",
       "      <td>22.36</td>\n",
       "      <td>9.307690</td>\n",
       "      <td>2.315834</td>\n",
       "      <td>POINT (9.307689999999999 2.315834)</td>\n",
       "    </tr>\n",
       "    <tr>\n",
       "      <th>3</th>\n",
       "      <td>Botswana</td>\n",
       "      <td>2007</td>\n",
       "      <td>BWA</td>\n",
       "      <td>1.03</td>\n",
       "      <td>390.0</td>\n",
       "      <td>NaN</td>\n",
       "      <td>NaN</td>\n",
       "      <td>NaN</td>\n",
       "      <td>NaN</td>\n",
       "      <td>NaN</td>\n",
       "      <td>83.96</td>\n",
       "      <td>NaN</td>\n",
       "      <td>NaN</td>\n",
       "      <td>NaN</td>\n",
       "      <td>42.07</td>\n",
       "      <td>-1.44</td>\n",
       "      <td>57.93</td>\n",
       "      <td>4.80</td>\n",
       "      <td>78.89</td>\n",
       "      <td>57.60</td>\n",
       "      <td>94.35</td>\n",
       "      <td>61.60</td>\n",
       "      <td>39.99</td>\n",
       "      <td>77.30</td>\n",
       "      <td>-22.328474</td>\n",
       "      <td>24.684866</td>\n",
       "      <td>POINT (-22.328474 24.684866)</td>\n",
       "    </tr>\n",
       "    <tr>\n",
       "      <th>4</th>\n",
       "      <td>Burkina Faso</td>\n",
       "      <td>2007</td>\n",
       "      <td>BFA</td>\n",
       "      <td>503.80</td>\n",
       "      <td>44246.0</td>\n",
       "      <td>NaN</td>\n",
       "      <td>NaN</td>\n",
       "      <td>NaN</td>\n",
       "      <td>NaN</td>\n",
       "      <td>NaN</td>\n",
       "      <td>NaN</td>\n",
       "      <td>NaN</td>\n",
       "      <td>NaN</td>\n",
       "      <td>NaN</td>\n",
       "      <td>77.00</td>\n",
       "      <td>2.16</td>\n",
       "      <td>23.00</td>\n",
       "      <td>5.91</td>\n",
       "      <td>52.27</td>\n",
       "      <td>45.13</td>\n",
       "      <td>76.15</td>\n",
       "      <td>15.60</td>\n",
       "      <td>6.38</td>\n",
       "      <td>46.49</td>\n",
       "      <td>12.238333</td>\n",
       "      <td>-1.561593</td>\n",
       "      <td>POINT (12.238333 -1.561593)</td>\n",
       "    </tr>\n",
       "    <tr>\n",
       "      <th>...</th>\n",
       "      <td>...</td>\n",
       "      <td>...</td>\n",
       "      <td>...</td>\n",
       "      <td>...</td>\n",
       "      <td>...</td>\n",
       "      <td>...</td>\n",
       "      <td>...</td>\n",
       "      <td>...</td>\n",
       "      <td>...</td>\n",
       "      <td>...</td>\n",
       "      <td>...</td>\n",
       "      <td>...</td>\n",
       "      <td>...</td>\n",
       "      <td>...</td>\n",
       "      <td>...</td>\n",
       "      <td>...</td>\n",
       "      <td>...</td>\n",
       "      <td>...</td>\n",
       "      <td>...</td>\n",
       "      <td>...</td>\n",
       "      <td>...</td>\n",
       "      <td>...</td>\n",
       "      <td>...</td>\n",
       "      <td>...</td>\n",
       "      <td>...</td>\n",
       "      <td>...</td>\n",
       "      <td>...</td>\n",
       "    </tr>\n",
       "    <tr>\n",
       "      <th>589</th>\n",
       "      <td>Togo</td>\n",
       "      <td>2017</td>\n",
       "      <td>TGO</td>\n",
       "      <td>278.20</td>\n",
       "      <td>1755577.0</td>\n",
       "      <td>69.7</td>\n",
       "      <td>31.1</td>\n",
       "      <td>41.7</td>\n",
       "      <td>NaN</td>\n",
       "      <td>NaN</td>\n",
       "      <td>NaN</td>\n",
       "      <td>NaN</td>\n",
       "      <td>NaN</td>\n",
       "      <td>NaN</td>\n",
       "      <td>58.84</td>\n",
       "      <td>1.58</td>\n",
       "      <td>41.16</td>\n",
       "      <td>3.79</td>\n",
       "      <td>65.13</td>\n",
       "      <td>48.39</td>\n",
       "      <td>89.06</td>\n",
       "      <td>16.13</td>\n",
       "      <td>7.40</td>\n",
       "      <td>28.61</td>\n",
       "      <td>8.619543</td>\n",
       "      <td>0.824782</td>\n",
       "      <td>POINT (8.619543 0.824782)</td>\n",
       "    </tr>\n",
       "    <tr>\n",
       "      <th>590</th>\n",
       "      <td>Tunisia</td>\n",
       "      <td>2017</td>\n",
       "      <td>TUN</td>\n",
       "      <td>NaN</td>\n",
       "      <td>NaN</td>\n",
       "      <td>NaN</td>\n",
       "      <td>NaN</td>\n",
       "      <td>NaN</td>\n",
       "      <td>92.66</td>\n",
       "      <td>NaN</td>\n",
       "      <td>NaN</td>\n",
       "      <td>78.12</td>\n",
       "      <td>NaN</td>\n",
       "      <td>88.29</td>\n",
       "      <td>31.36</td>\n",
       "      <td>0.20</td>\n",
       "      <td>68.64</td>\n",
       "      <td>1.57</td>\n",
       "      <td>96.25</td>\n",
       "      <td>88.71</td>\n",
       "      <td>99.70</td>\n",
       "      <td>90.92</td>\n",
       "      <td>81.35</td>\n",
       "      <td>95.29</td>\n",
       "      <td>33.886917</td>\n",
       "      <td>9.537499</td>\n",
       "      <td>POINT (33.886917 9.537499)</td>\n",
       "    </tr>\n",
       "    <tr>\n",
       "      <th>591</th>\n",
       "      <td>Uganda</td>\n",
       "      <td>2017</td>\n",
       "      <td>UGA</td>\n",
       "      <td>336.76</td>\n",
       "      <td>11667831.0</td>\n",
       "      <td>NaN</td>\n",
       "      <td>NaN</td>\n",
       "      <td>NaN</td>\n",
       "      <td>7.07</td>\n",
       "      <td>4.46</td>\n",
       "      <td>15.70</td>\n",
       "      <td>NaN</td>\n",
       "      <td>NaN</td>\n",
       "      <td>NaN</td>\n",
       "      <td>76.80</td>\n",
       "      <td>3.01</td>\n",
       "      <td>23.20</td>\n",
       "      <td>6.25</td>\n",
       "      <td>49.10</td>\n",
       "      <td>41.25</td>\n",
       "      <td>75.11</td>\n",
       "      <td>18.47</td>\n",
       "      <td>16.17</td>\n",
       "      <td>26.11</td>\n",
       "      <td>1.373333</td>\n",
       "      <td>32.290275</td>\n",
       "      <td>POINT (1.373333 32.290275)</td>\n",
       "    </tr>\n",
       "    <tr>\n",
       "      <th>592</th>\n",
       "      <td>Zambia</td>\n",
       "      <td>2017</td>\n",
       "      <td>ZMB</td>\n",
       "      <td>160.05</td>\n",
       "      <td>5505639.0</td>\n",
       "      <td>NaN</td>\n",
       "      <td>NaN</td>\n",
       "      <td>NaN</td>\n",
       "      <td>NaN</td>\n",
       "      <td>NaN</td>\n",
       "      <td>46.25</td>\n",
       "      <td>NaN</td>\n",
       "      <td>NaN</td>\n",
       "      <td>NaN</td>\n",
       "      <td>57.02</td>\n",
       "      <td>2.01</td>\n",
       "      <td>42.98</td>\n",
       "      <td>4.21</td>\n",
       "      <td>59.96</td>\n",
       "      <td>41.95</td>\n",
       "      <td>83.86</td>\n",
       "      <td>26.37</td>\n",
       "      <td>18.93</td>\n",
       "      <td>36.24</td>\n",
       "      <td>-13.133897</td>\n",
       "      <td>27.849332</td>\n",
       "      <td>POINT (-13.133897 27.849332)</td>\n",
       "    </tr>\n",
       "    <tr>\n",
       "      <th>593</th>\n",
       "      <td>Zimbabwe</td>\n",
       "      <td>2017</td>\n",
       "      <td>ZWE</td>\n",
       "      <td>108.55</td>\n",
       "      <td>467508.0</td>\n",
       "      <td>NaN</td>\n",
       "      <td>NaN</td>\n",
       "      <td>NaN</td>\n",
       "      <td>NaN</td>\n",
       "      <td>NaN</td>\n",
       "      <td>NaN</td>\n",
       "      <td>NaN</td>\n",
       "      <td>NaN</td>\n",
       "      <td>16.29</td>\n",
       "      <td>67.76</td>\n",
       "      <td>1.55</td>\n",
       "      <td>32.24</td>\n",
       "      <td>1.28</td>\n",
       "      <td>64.05</td>\n",
       "      <td>49.80</td>\n",
       "      <td>94.00</td>\n",
       "      <td>36.22</td>\n",
       "      <td>31.47</td>\n",
       "      <td>46.22</td>\n",
       "      <td>-19.015438</td>\n",
       "      <td>29.154857</td>\n",
       "      <td>POINT (-19.015438 29.154857)</td>\n",
       "    </tr>\n",
       "  </tbody>\n",
       "</table>\n",
       "<p>594 rows × 27 columns</p>\n",
       "</div>"
      ],
      "text/plain": [
       "     Country Name  Year Country Code  \\\n",
       "0         Algeria  2007          DZA   \n",
       "1          Angola  2007          AGO   \n",
       "2           Benin  2007          BEN   \n",
       "3        Botswana  2007          BWA   \n",
       "4    Burkina Faso  2007          BFA   \n",
       "..            ...   ...          ...   \n",
       "589          Togo  2017          TGO   \n",
       "590       Tunisia  2017          TUN   \n",
       "591        Uganda  2017          UGA   \n",
       "592        Zambia  2017          ZMB   \n",
       "593      Zimbabwe  2017          ZWE   \n",
       "\n",
       "     Incidence of malaria (per 1,000 population at risk)  \\\n",
       "0                                                 0.01     \n",
       "1                                               286.72     \n",
       "2                                               480.24     \n",
       "3                                                 1.03     \n",
       "4                                               503.80     \n",
       "..                                                 ...     \n",
       "589                                             278.20     \n",
       "590                                                NaN     \n",
       "591                                             336.76     \n",
       "592                                             160.05     \n",
       "593                                             108.55     \n",
       "\n",
       "     Malaria cases reported  \\\n",
       "0                      26.0   \n",
       "1                 1533485.0   \n",
       "2                       0.0   \n",
       "3                     390.0   \n",
       "4                   44246.0   \n",
       "..                      ...   \n",
       "589               1755577.0   \n",
       "590                     NaN   \n",
       "591              11667831.0   \n",
       "592               5505639.0   \n",
       "593                467508.0   \n",
       "\n",
       "     Use of insecticide-treated bed nets (% of under-5 population)  \\\n",
       "0                                                  NaN               \n",
       "1                                                 18.0               \n",
       "2                                                  NaN               \n",
       "3                                                  NaN               \n",
       "4                                                  NaN               \n",
       "..                                                 ...               \n",
       "589                                               69.7               \n",
       "590                                                NaN               \n",
       "591                                                NaN               \n",
       "592                                                NaN               \n",
       "593                                                NaN               \n",
       "\n",
       "     Children with fever receiving antimalarial drugs (% of children under age 5 with fever)  \\\n",
       "0                                                  NaN                                         \n",
       "1                                                 29.8                                         \n",
       "2                                                  NaN                                         \n",
       "3                                                  NaN                                         \n",
       "4                                                  NaN                                         \n",
       "..                                                 ...                                         \n",
       "589                                               31.1                                         \n",
       "590                                                NaN                                         \n",
       "591                                                NaN                                         \n",
       "592                                                NaN                                         \n",
       "593                                                NaN                                         \n",
       "\n",
       "     Intermittent preventive treatment (IPT) of malaria in pregnancy (% of pregnant women)  \\\n",
       "0                                                  NaN                                       \n",
       "1                                                  1.5                                       \n",
       "2                                                  NaN                                       \n",
       "3                                                  NaN                                       \n",
       "4                                                  NaN                                       \n",
       "..                                                 ...                                       \n",
       "589                                               41.7                                       \n",
       "590                                                NaN                                       \n",
       "591                                                NaN                                       \n",
       "592                                                NaN                                       \n",
       "593                                                NaN                                       \n",
       "\n",
       "     People using safely managed drinking water services (% of population)  \\\n",
       "0                                                  NaN                       \n",
       "1                                                  NaN                       \n",
       "2                                                  NaN                       \n",
       "3                                                  NaN                       \n",
       "4                                                  NaN                       \n",
       "..                                                 ...                       \n",
       "589                                                NaN                       \n",
       "590                                              92.66                       \n",
       "591                                               7.07                       \n",
       "592                                                NaN                       \n",
       "593                                                NaN                       \n",
       "\n",
       "     People using safely managed drinking water services, rural (% of rural population)  \\\n",
       "0                                                  NaN                                    \n",
       "1                                                  NaN                                    \n",
       "2                                                  NaN                                    \n",
       "3                                                  NaN                                    \n",
       "4                                                  NaN                                    \n",
       "..                                                 ...                                    \n",
       "589                                                NaN                                    \n",
       "590                                                NaN                                    \n",
       "591                                               4.46                                    \n",
       "592                                                NaN                                    \n",
       "593                                                NaN                                    \n",
       "\n",
       "     People using safely managed drinking water services, urban (% of urban population)  \\\n",
       "0                                                  NaN                                    \n",
       "1                                                  NaN                                    \n",
       "2                                                  NaN                                    \n",
       "3                                                83.96                                    \n",
       "4                                                  NaN                                    \n",
       "..                                                 ...                                    \n",
       "589                                                NaN                                    \n",
       "590                                                NaN                                    \n",
       "591                                              15.70                                    \n",
       "592                                              46.25                                    \n",
       "593                                                NaN                                    \n",
       "\n",
       "     People using safely managed sanitation services (% of population)  \\\n",
       "0                                                18.24                   \n",
       "1                                                  NaN                   \n",
       "2                                                  NaN                   \n",
       "3                                                  NaN                   \n",
       "4                                                  NaN                   \n",
       "..                                                 ...                   \n",
       "589                                                NaN                   \n",
       "590                                              78.12                   \n",
       "591                                                NaN                   \n",
       "592                                                NaN                   \n",
       "593                                                NaN                   \n",
       "\n",
       "     People using safely managed sanitation services, rural (% of rural population)  \\\n",
       "0                                                19.96                                \n",
       "1                                                  NaN                                \n",
       "2                                                  NaN                                \n",
       "3                                                  NaN                                \n",
       "4                                                  NaN                                \n",
       "..                                                 ...                                \n",
       "589                                                NaN                                \n",
       "590                                                NaN                                \n",
       "591                                                NaN                                \n",
       "592                                                NaN                                \n",
       "593                                                NaN                                \n",
       "\n",
       "     People using safely managed sanitation services, urban  (% of urban population)  \\\n",
       "0                                                17.33                                 \n",
       "1                                                  NaN                                 \n",
       "2                                                  NaN                                 \n",
       "3                                                  NaN                                 \n",
       "4                                                  NaN                                 \n",
       "..                                                 ...                                 \n",
       "589                                                NaN                                 \n",
       "590                                              88.29                                 \n",
       "591                                                NaN                                 \n",
       "592                                                NaN                                 \n",
       "593                                              16.29                                 \n",
       "\n",
       "     Rural population (% of total population)  \\\n",
       "0                                       34.65   \n",
       "1                                       42.48   \n",
       "2                                       58.44   \n",
       "3                                       42.07   \n",
       "4                                       77.00   \n",
       "..                                        ...   \n",
       "589                                     58.84   \n",
       "590                                     31.36   \n",
       "591                                     76.80   \n",
       "592                                     57.02   \n",
       "593                                     67.76   \n",
       "\n",
       "     Rural population growth (annual %)  \\\n",
       "0                                 -0.60   \n",
       "1                                  1.91   \n",
       "2                                  1.99   \n",
       "3                                 -1.44   \n",
       "4                                  2.16   \n",
       "..                                  ...   \n",
       "589                                1.58   \n",
       "590                                0.20   \n",
       "591                                3.01   \n",
       "592                                2.01   \n",
       "593                                1.55   \n",
       "\n",
       "     Urban population (% of total population)  \\\n",
       "0                                       65.35   \n",
       "1                                       57.52   \n",
       "2                                       41.56   \n",
       "3                                       57.93   \n",
       "4                                       23.00   \n",
       "..                                        ...   \n",
       "589                                     41.16   \n",
       "590                                     68.64   \n",
       "591                                     23.20   \n",
       "592                                     42.98   \n",
       "593                                     32.24   \n",
       "\n",
       "     Urban population growth (annual %)  \\\n",
       "0                                  2.71   \n",
       "1                                  5.01   \n",
       "2                                  4.09   \n",
       "3                                  4.80   \n",
       "4                                  5.91   \n",
       "..                                  ...   \n",
       "589                                3.79   \n",
       "590                                1.57   \n",
       "591                                6.25   \n",
       "592                                4.21   \n",
       "593                                1.28   \n",
       "\n",
       "     People using at least basic drinking water services (% of population)  \\\n",
       "0                                                91.68                       \n",
       "1                                                47.96                       \n",
       "2                                                63.78                       \n",
       "3                                                78.89                       \n",
       "4                                                52.27                       \n",
       "..                                                 ...                       \n",
       "589                                              65.13                       \n",
       "590                                              96.25                       \n",
       "591                                              49.10                       \n",
       "592                                              59.96                       \n",
       "593                                              64.05                       \n",
       "\n",
       "     People using at least basic drinking water services, rural (% of rural population)  \\\n",
       "0                                                85.83                                    \n",
       "1                                                23.77                                    \n",
       "2                                                54.92                                    \n",
       "3                                                57.60                                    \n",
       "4                                                45.13                                    \n",
       "..                                                 ...                                    \n",
       "589                                              48.39                                    \n",
       "590                                              88.71                                    \n",
       "591                                              41.25                                    \n",
       "592                                              41.95                                    \n",
       "593                                              49.80                                    \n",
       "\n",
       "     People using at least basic drinking water services, urban (% of urban population)  \\\n",
       "0                                                94.78                                    \n",
       "1                                                65.83                                    \n",
       "2                                                76.24                                    \n",
       "3                                                94.35                                    \n",
       "4                                                76.15                                    \n",
       "..                                                 ...                                    \n",
       "589                                              89.06                                    \n",
       "590                                              99.70                                    \n",
       "591                                              75.11                                    \n",
       "592                                              83.86                                    \n",
       "593                                              94.00                                    \n",
       "\n",
       "     People using at least basic sanitation services (% of population)  \\\n",
       "0                                                85.85                   \n",
       "1                                                37.26                   \n",
       "2                                                11.80                   \n",
       "3                                                61.60                   \n",
       "4                                                15.60                   \n",
       "..                                                 ...                   \n",
       "589                                              16.13                   \n",
       "590                                              90.92                   \n",
       "591                                              18.47                   \n",
       "592                                              26.37                   \n",
       "593                                              36.22                   \n",
       "\n",
       "     People using at least basic sanitation services, rural (% of rural population)  \\\n",
       "0                                                76.94                                \n",
       "1                                                14.00                                \n",
       "2                                                 4.29                                \n",
       "3                                                39.99                                \n",
       "4                                                 6.38                                \n",
       "..                                                 ...                                \n",
       "589                                               7.40                                \n",
       "590                                              81.35                                \n",
       "591                                              16.17                                \n",
       "592                                              18.93                                \n",
       "593                                              31.47                                \n",
       "\n",
       "     People using at least basic sanitation services, urban  (% of urban population)  \\\n",
       "0                                                90.57                                 \n",
       "1                                                54.44                                 \n",
       "2                                                22.36                                 \n",
       "3                                                77.30                                 \n",
       "4                                                46.49                                 \n",
       "..                                                 ...                                 \n",
       "589                                              28.61                                 \n",
       "590                                              95.29                                 \n",
       "591                                              26.11                                 \n",
       "592                                              36.24                                 \n",
       "593                                              46.22                                 \n",
       "\n",
       "      latitude  longitude                            geometry  \n",
       "0    28.033886   1.659626          POINT (28.033886 1.659626)  \n",
       "1   -11.202692  17.873887        POINT (-11.202692 17.873887)  \n",
       "2     9.307690   2.315834  POINT (9.307689999999999 2.315834)  \n",
       "3   -22.328474  24.684866        POINT (-22.328474 24.684866)  \n",
       "4    12.238333  -1.561593         POINT (12.238333 -1.561593)  \n",
       "..         ...        ...                                 ...  \n",
       "589   8.619543   0.824782           POINT (8.619543 0.824782)  \n",
       "590  33.886917   9.537499          POINT (33.886917 9.537499)  \n",
       "591   1.373333  32.290275          POINT (1.373333 32.290275)  \n",
       "592 -13.133897  27.849332        POINT (-13.133897 27.849332)  \n",
       "593 -19.015438  29.154857        POINT (-19.015438 29.154857)  \n",
       "\n",
       "[594 rows x 27 columns]"
      ]
     },
     "execution_count": 6,
     "metadata": {},
     "output_type": "execute_result"
    }
   ],
   "source": [
    "#explore top 5 and bottom 5 data (full columns)\n",
    "df"
   ]
  },
  {
   "cell_type": "code",
   "execution_count": 7,
   "metadata": {
    "colab": {
     "base_uri": "https://localhost:8080/",
     "height": 520
    },
    "id": "5F167L8Wa4AY",
    "outputId": "79c3eaf0-7e97-460a-a8ba-7531c349f43c"
   },
   "outputs": [
    {
     "data": {
      "text/html": [
       "<div>\n",
       "<style scoped>\n",
       "    .dataframe tbody tr th:only-of-type {\n",
       "        vertical-align: middle;\n",
       "    }\n",
       "\n",
       "    .dataframe tbody tr th {\n",
       "        vertical-align: top;\n",
       "    }\n",
       "\n",
       "    .dataframe thead th {\n",
       "        text-align: right;\n",
       "    }\n",
       "</style>\n",
       "<table border=\"1\" class=\"dataframe\">\n",
       "  <thead>\n",
       "    <tr style=\"text-align: right;\">\n",
       "      <th></th>\n",
       "      <th>Year</th>\n",
       "      <th>Incidence of malaria (per 1,000 population at risk)</th>\n",
       "      <th>Malaria cases reported</th>\n",
       "      <th>Use of insecticide-treated bed nets (% of under-5 population)</th>\n",
       "      <th>Children with fever receiving antimalarial drugs (% of children under age 5 with fever)</th>\n",
       "      <th>Intermittent preventive treatment (IPT) of malaria in pregnancy (% of pregnant women)</th>\n",
       "      <th>People using safely managed drinking water services (% of population)</th>\n",
       "      <th>People using safely managed drinking water services, rural (% of rural population)</th>\n",
       "      <th>People using safely managed drinking water services, urban (% of urban population)</th>\n",
       "      <th>People using safely managed sanitation services (% of population)</th>\n",
       "      <th>People using safely managed sanitation services, rural (% of rural population)</th>\n",
       "      <th>People using safely managed sanitation services, urban  (% of urban population)</th>\n",
       "      <th>Rural population (% of total population)</th>\n",
       "      <th>Rural population growth (annual %)</th>\n",
       "      <th>Urban population (% of total population)</th>\n",
       "      <th>Urban population growth (annual %)</th>\n",
       "      <th>People using at least basic drinking water services (% of population)</th>\n",
       "      <th>People using at least basic drinking water services, rural (% of rural population)</th>\n",
       "      <th>People using at least basic drinking water services, urban (% of urban population)</th>\n",
       "      <th>People using at least basic sanitation services (% of population)</th>\n",
       "      <th>People using at least basic sanitation services, rural (% of rural population)</th>\n",
       "      <th>People using at least basic sanitation services, urban  (% of urban population)</th>\n",
       "      <th>latitude</th>\n",
       "      <th>longitude</th>\n",
       "    </tr>\n",
       "  </thead>\n",
       "  <tbody>\n",
       "    <tr>\n",
       "      <th>count</th>\n",
       "      <td>594.000000</td>\n",
       "      <td>550.000000</td>\n",
       "      <td>5.500000e+02</td>\n",
       "      <td>132.000000</td>\n",
       "      <td>122.000000</td>\n",
       "      <td>106.000000</td>\n",
       "      <td>99.000000</td>\n",
       "      <td>88.000000</td>\n",
       "      <td>176.000000</td>\n",
       "      <td>132.000000</td>\n",
       "      <td>110.000000</td>\n",
       "      <td>132.000000</td>\n",
       "      <td>588.000000</td>\n",
       "      <td>588.000000</td>\n",
       "      <td>588.000000</td>\n",
       "      <td>588.000000</td>\n",
       "      <td>588.000000</td>\n",
       "      <td>566.000000</td>\n",
       "      <td>566.000000</td>\n",
       "      <td>588.000000</td>\n",
       "      <td>566.000000</td>\n",
       "      <td>566.000000</td>\n",
       "      <td>594.000000</td>\n",
       "      <td>594.000000</td>\n",
       "    </tr>\n",
       "    <tr>\n",
       "      <th>mean</th>\n",
       "      <td>2012.000000</td>\n",
       "      <td>190.087491</td>\n",
       "      <td>1.068330e+06</td>\n",
       "      <td>42.530303</td>\n",
       "      <td>30.201639</td>\n",
       "      <td>15.013958</td>\n",
       "      <td>33.478990</td>\n",
       "      <td>12.470568</td>\n",
       "      <td>51.549545</td>\n",
       "      <td>28.768939</td>\n",
       "      <td>14.361727</td>\n",
       "      <td>32.174621</td>\n",
       "      <td>56.836650</td>\n",
       "      <td>1.389371</td>\n",
       "      <td>43.164116</td>\n",
       "      <td>3.523061</td>\n",
       "      <td>65.994915</td>\n",
       "      <td>51.449576</td>\n",
       "      <td>84.268498</td>\n",
       "      <td>39.469796</td>\n",
       "      <td>28.077208</td>\n",
       "      <td>48.088375</td>\n",
       "      <td>2.828796</td>\n",
       "      <td>17.342546</td>\n",
       "    </tr>\n",
       "    <tr>\n",
       "      <th>std</th>\n",
       "      <td>3.164943</td>\n",
       "      <td>163.054527</td>\n",
       "      <td>2.192802e+06</td>\n",
       "      <td>20.157059</td>\n",
       "      <td>18.903198</td>\n",
       "      <td>12.389166</td>\n",
       "      <td>26.678321</td>\n",
       "      <td>10.078371</td>\n",
       "      <td>24.157416</td>\n",
       "      <td>18.631510</td>\n",
       "      <td>7.088038</td>\n",
       "      <td>21.693458</td>\n",
       "      <td>18.086328</td>\n",
       "      <td>1.199693</td>\n",
       "      <td>18.086118</td>\n",
       "      <td>1.456244</td>\n",
       "      <td>17.283361</td>\n",
       "      <td>18.927868</td>\n",
       "      <td>9.307285</td>\n",
       "      <td>26.304934</td>\n",
       "      <td>24.046725</td>\n",
       "      <td>21.802128</td>\n",
       "      <td>15.678226</td>\n",
       "      <td>20.041257</td>\n",
       "    </tr>\n",
       "    <tr>\n",
       "      <th>min</th>\n",
       "      <td>2007.000000</td>\n",
       "      <td>0.000000</td>\n",
       "      <td>0.000000e+00</td>\n",
       "      <td>1.000000</td>\n",
       "      <td>0.500000</td>\n",
       "      <td>0.000000</td>\n",
       "      <td>5.770000</td>\n",
       "      <td>0.930000</td>\n",
       "      <td>11.200000</td>\n",
       "      <td>6.370000</td>\n",
       "      <td>2.300000</td>\n",
       "      <td>7.950000</td>\n",
       "      <td>11.020000</td>\n",
       "      <td>-3.450000</td>\n",
       "      <td>9.860000</td>\n",
       "      <td>-4.650000</td>\n",
       "      <td>28.960000</td>\n",
       "      <td>17.050000</td>\n",
       "      <td>52.010000</td>\n",
       "      <td>4.990000</td>\n",
       "      <td>1.890000</td>\n",
       "      <td>12.580000</td>\n",
       "      <td>-30.559482</td>\n",
       "      <td>-24.013197</td>\n",
       "    </tr>\n",
       "    <tr>\n",
       "      <th>25%</th>\n",
       "      <td>2009.000000</td>\n",
       "      <td>30.857500</td>\n",
       "      <td>2.211750e+03</td>\n",
       "      <td>26.675000</td>\n",
       "      <td>17.275000</td>\n",
       "      <td>5.763285</td>\n",
       "      <td>8.975000</td>\n",
       "      <td>4.185000</td>\n",
       "      <td>34.125000</td>\n",
       "      <td>16.532500</td>\n",
       "      <td>7.200000</td>\n",
       "      <td>18.262500</td>\n",
       "      <td>43.057500</td>\n",
       "      <td>0.410000</td>\n",
       "      <td>28.795000</td>\n",
       "      <td>2.512500</td>\n",
       "      <td>52.375000</td>\n",
       "      <td>37.075000</td>\n",
       "      <td>78.080000</td>\n",
       "      <td>18.197500</td>\n",
       "      <td>8.842500</td>\n",
       "      <td>30.775000</td>\n",
       "      <td>-6.369028</td>\n",
       "      <td>0.824782</td>\n",
       "    </tr>\n",
       "    <tr>\n",
       "      <th>50%</th>\n",
       "      <td>2012.000000</td>\n",
       "      <td>174.775000</td>\n",
       "      <td>1.130260e+05</td>\n",
       "      <td>42.900000</td>\n",
       "      <td>29.300000</td>\n",
       "      <td>11.500000</td>\n",
       "      <td>28.390000</td>\n",
       "      <td>10.675000</td>\n",
       "      <td>51.365000</td>\n",
       "      <td>25.410000</td>\n",
       "      <td>15.950000</td>\n",
       "      <td>22.755000</td>\n",
       "      <td>58.445000</td>\n",
       "      <td>1.675000</td>\n",
       "      <td>41.560000</td>\n",
       "      <td>3.730000</td>\n",
       "      <td>64.470000</td>\n",
       "      <td>50.435000</td>\n",
       "      <td>85.420000</td>\n",
       "      <td>32.555000</td>\n",
       "      <td>18.815000</td>\n",
       "      <td>44.695000</td>\n",
       "      <td>6.744051</td>\n",
       "      <td>18.611308</td>\n",
       "    </tr>\n",
       "    <tr>\n",
       "      <th>75%</th>\n",
       "      <td>2015.000000</td>\n",
       "      <td>347.637500</td>\n",
       "      <td>1.154808e+06</td>\n",
       "      <td>56.325000</td>\n",
       "      <td>42.625000</td>\n",
       "      <td>21.850000</td>\n",
       "      <td>43.890000</td>\n",
       "      <td>16.887500</td>\n",
       "      <td>70.747500</td>\n",
       "      <td>35.725000</td>\n",
       "      <td>20.315000</td>\n",
       "      <td>39.225000</td>\n",
       "      <td>71.205000</td>\n",
       "      <td>2.130000</td>\n",
       "      <td>56.945000</td>\n",
       "      <td>4.450000</td>\n",
       "      <td>79.165000</td>\n",
       "      <td>62.245000</td>\n",
       "      <td>90.082500</td>\n",
       "      <td>54.810000</td>\n",
       "      <td>38.082500</td>\n",
       "      <td>58.845000</td>\n",
       "      <td>12.862807</td>\n",
       "      <td>31.465866</td>\n",
       "    </tr>\n",
       "    <tr>\n",
       "      <th>max</th>\n",
       "      <td>2017.000000</td>\n",
       "      <td>585.540000</td>\n",
       "      <td>1.682113e+07</td>\n",
       "      <td>95.500000</td>\n",
       "      <td>76.900000</td>\n",
       "      <td>59.600000</td>\n",
       "      <td>92.660000</td>\n",
       "      <td>39.930000</td>\n",
       "      <td>89.540000</td>\n",
       "      <td>78.120000</td>\n",
       "      <td>25.540000</td>\n",
       "      <td>88.290000</td>\n",
       "      <td>90.140000</td>\n",
       "      <td>7.090000</td>\n",
       "      <td>88.980000</td>\n",
       "      <td>7.400000</td>\n",
       "      <td>99.870000</td>\n",
       "      <td>99.830000</td>\n",
       "      <td>99.920000</td>\n",
       "      <td>100.000000</td>\n",
       "      <td>95.180000</td>\n",
       "      <td>98.300000</td>\n",
       "      <td>33.886917</td>\n",
       "      <td>57.552152</td>\n",
       "    </tr>\n",
       "  </tbody>\n",
       "</table>\n",
       "</div>"
      ],
      "text/plain": [
       "              Year  Incidence of malaria (per 1,000 population at risk)  \\\n",
       "count   594.000000                                         550.000000     \n",
       "mean   2012.000000                                         190.087491     \n",
       "std       3.164943                                         163.054527     \n",
       "min    2007.000000                                           0.000000     \n",
       "25%    2009.000000                                          30.857500     \n",
       "50%    2012.000000                                         174.775000     \n",
       "75%    2015.000000                                         347.637500     \n",
       "max    2017.000000                                         585.540000     \n",
       "\n",
       "       Malaria cases reported  \\\n",
       "count            5.500000e+02   \n",
       "mean             1.068330e+06   \n",
       "std              2.192802e+06   \n",
       "min              0.000000e+00   \n",
       "25%              2.211750e+03   \n",
       "50%              1.130260e+05   \n",
       "75%              1.154808e+06   \n",
       "max              1.682113e+07   \n",
       "\n",
       "       Use of insecticide-treated bed nets (% of under-5 population)  \\\n",
       "count                                         132.000000               \n",
       "mean                                           42.530303               \n",
       "std                                            20.157059               \n",
       "min                                             1.000000               \n",
       "25%                                            26.675000               \n",
       "50%                                            42.900000               \n",
       "75%                                            56.325000               \n",
       "max                                            95.500000               \n",
       "\n",
       "       Children with fever receiving antimalarial drugs (% of children under age 5 with fever)  \\\n",
       "count                                         122.000000                                         \n",
       "mean                                           30.201639                                         \n",
       "std                                            18.903198                                         \n",
       "min                                             0.500000                                         \n",
       "25%                                            17.275000                                         \n",
       "50%                                            29.300000                                         \n",
       "75%                                            42.625000                                         \n",
       "max                                            76.900000                                         \n",
       "\n",
       "       Intermittent preventive treatment (IPT) of malaria in pregnancy (% of pregnant women)  \\\n",
       "count                                         106.000000                                       \n",
       "mean                                           15.013958                                       \n",
       "std                                            12.389166                                       \n",
       "min                                             0.000000                                       \n",
       "25%                                             5.763285                                       \n",
       "50%                                            11.500000                                       \n",
       "75%                                            21.850000                                       \n",
       "max                                            59.600000                                       \n",
       "\n",
       "       People using safely managed drinking water services (% of population)  \\\n",
       "count                                          99.000000                       \n",
       "mean                                           33.478990                       \n",
       "std                                            26.678321                       \n",
       "min                                             5.770000                       \n",
       "25%                                             8.975000                       \n",
       "50%                                            28.390000                       \n",
       "75%                                            43.890000                       \n",
       "max                                            92.660000                       \n",
       "\n",
       "       People using safely managed drinking water services, rural (% of rural population)  \\\n",
       "count                                          88.000000                                    \n",
       "mean                                           12.470568                                    \n",
       "std                                            10.078371                                    \n",
       "min                                             0.930000                                    \n",
       "25%                                             4.185000                                    \n",
       "50%                                            10.675000                                    \n",
       "75%                                            16.887500                                    \n",
       "max                                            39.930000                                    \n",
       "\n",
       "       People using safely managed drinking water services, urban (% of urban population)  \\\n",
       "count                                         176.000000                                    \n",
       "mean                                           51.549545                                    \n",
       "std                                            24.157416                                    \n",
       "min                                            11.200000                                    \n",
       "25%                                            34.125000                                    \n",
       "50%                                            51.365000                                    \n",
       "75%                                            70.747500                                    \n",
       "max                                            89.540000                                    \n",
       "\n",
       "       People using safely managed sanitation services (% of population)  \\\n",
       "count                                         132.000000                   \n",
       "mean                                           28.768939                   \n",
       "std                                            18.631510                   \n",
       "min                                             6.370000                   \n",
       "25%                                            16.532500                   \n",
       "50%                                            25.410000                   \n",
       "75%                                            35.725000                   \n",
       "max                                            78.120000                   \n",
       "\n",
       "       People using safely managed sanitation services, rural (% of rural population)  \\\n",
       "count                                         110.000000                                \n",
       "mean                                           14.361727                                \n",
       "std                                             7.088038                                \n",
       "min                                             2.300000                                \n",
       "25%                                             7.200000                                \n",
       "50%                                            15.950000                                \n",
       "75%                                            20.315000                                \n",
       "max                                            25.540000                                \n",
       "\n",
       "       People using safely managed sanitation services, urban  (% of urban population)  \\\n",
       "count                                         132.000000                                 \n",
       "mean                                           32.174621                                 \n",
       "std                                            21.693458                                 \n",
       "min                                             7.950000                                 \n",
       "25%                                            18.262500                                 \n",
       "50%                                            22.755000                                 \n",
       "75%                                            39.225000                                 \n",
       "max                                            88.290000                                 \n",
       "\n",
       "       Rural population (% of total population)  \\\n",
       "count                                588.000000   \n",
       "mean                                  56.836650   \n",
       "std                                   18.086328   \n",
       "min                                   11.020000   \n",
       "25%                                   43.057500   \n",
       "50%                                   58.445000   \n",
       "75%                                   71.205000   \n",
       "max                                   90.140000   \n",
       "\n",
       "       Rural population growth (annual %)  \\\n",
       "count                          588.000000   \n",
       "mean                             1.389371   \n",
       "std                              1.199693   \n",
       "min                             -3.450000   \n",
       "25%                              0.410000   \n",
       "50%                              1.675000   \n",
       "75%                              2.130000   \n",
       "max                              7.090000   \n",
       "\n",
       "       Urban population (% of total population)  \\\n",
       "count                                588.000000   \n",
       "mean                                  43.164116   \n",
       "std                                   18.086118   \n",
       "min                                    9.860000   \n",
       "25%                                   28.795000   \n",
       "50%                                   41.560000   \n",
       "75%                                   56.945000   \n",
       "max                                   88.980000   \n",
       "\n",
       "       Urban population growth (annual %)  \\\n",
       "count                          588.000000   \n",
       "mean                             3.523061   \n",
       "std                              1.456244   \n",
       "min                             -4.650000   \n",
       "25%                              2.512500   \n",
       "50%                              3.730000   \n",
       "75%                              4.450000   \n",
       "max                              7.400000   \n",
       "\n",
       "       People using at least basic drinking water services (% of population)  \\\n",
       "count                                         588.000000                       \n",
       "mean                                           65.994915                       \n",
       "std                                            17.283361                       \n",
       "min                                            28.960000                       \n",
       "25%                                            52.375000                       \n",
       "50%                                            64.470000                       \n",
       "75%                                            79.165000                       \n",
       "max                                            99.870000                       \n",
       "\n",
       "       People using at least basic drinking water services, rural (% of rural population)  \\\n",
       "count                                         566.000000                                    \n",
       "mean                                           51.449576                                    \n",
       "std                                            18.927868                                    \n",
       "min                                            17.050000                                    \n",
       "25%                                            37.075000                                    \n",
       "50%                                            50.435000                                    \n",
       "75%                                            62.245000                                    \n",
       "max                                            99.830000                                    \n",
       "\n",
       "       People using at least basic drinking water services, urban (% of urban population)  \\\n",
       "count                                         566.000000                                    \n",
       "mean                                           84.268498                                    \n",
       "std                                             9.307285                                    \n",
       "min                                            52.010000                                    \n",
       "25%                                            78.080000                                    \n",
       "50%                                            85.420000                                    \n",
       "75%                                            90.082500                                    \n",
       "max                                            99.920000                                    \n",
       "\n",
       "       People using at least basic sanitation services (% of population)  \\\n",
       "count                                         588.000000                   \n",
       "mean                                           39.469796                   \n",
       "std                                            26.304934                   \n",
       "min                                             4.990000                   \n",
       "25%                                            18.197500                   \n",
       "50%                                            32.555000                   \n",
       "75%                                            54.810000                   \n",
       "max                                           100.000000                   \n",
       "\n",
       "       People using at least basic sanitation services, rural (% of rural population)  \\\n",
       "count                                         566.000000                                \n",
       "mean                                           28.077208                                \n",
       "std                                            24.046725                                \n",
       "min                                             1.890000                                \n",
       "25%                                             8.842500                                \n",
       "50%                                            18.815000                                \n",
       "75%                                            38.082500                                \n",
       "max                                            95.180000                                \n",
       "\n",
       "       People using at least basic sanitation services, urban  (% of urban population)  \\\n",
       "count                                         566.000000                                 \n",
       "mean                                           48.088375                                 \n",
       "std                                            21.802128                                 \n",
       "min                                            12.580000                                 \n",
       "25%                                            30.775000                                 \n",
       "50%                                            44.695000                                 \n",
       "75%                                            58.845000                                 \n",
       "max                                            98.300000                                 \n",
       "\n",
       "         latitude   longitude  \n",
       "count  594.000000  594.000000  \n",
       "mean     2.828796   17.342546  \n",
       "std     15.678226   20.041257  \n",
       "min    -30.559482  -24.013197  \n",
       "25%     -6.369028    0.824782  \n",
       "50%      6.744051   18.611308  \n",
       "75%     12.862807   31.465866  \n",
       "max     33.886917   57.552152  "
      ]
     },
     "execution_count": 7,
     "metadata": {},
     "output_type": "execute_result"
    }
   ],
   "source": [
    "# statistical description\n",
    "df.describe()"
   ]
  },
  {
   "cell_type": "markdown",
   "metadata": {
    "id": "Cbp1LFJibF3D"
   },
   "source": [
    "**OBSERVATIONS:** \n",
    "-Incidence report with zero malaria case recorded (see for example Year 2007 for Benin, Cameroon, Central African Republic, Cote d'Ivoire, Egypt, Gambia, Kenya, Libya, Malawi, Mali, Mauritania, Morocco, Nigeria, Sierra Leone, South Sudan, Zambia).\n",
    "\n",
    "-Header name columns are too long. \n",
    "\n",
    "-Indicator of malaria will use 'Malaria cases' and 'Incidence rate'. \n",
    "\n",
    "-Many NaN values."
   ]
  },
  {
   "cell_type": "code",
   "execution_count": 8,
   "metadata": {
    "colab": {
     "base_uri": "https://localhost:8080/"
    },
    "id": "boUE_e4WYTfi",
    "outputId": "d540ccba-8f6e-47d6-c4a4-fde75e45797a"
   },
   "outputs": [
    {
     "data": {
      "text/plain": [
       "2007    54\n",
       "2008    54\n",
       "2009    54\n",
       "2010    54\n",
       "2011    54\n",
       "2012    54\n",
       "2013    54\n",
       "2014    54\n",
       "2015    54\n",
       "2016    54\n",
       "2017    54\n",
       "Name: Year, dtype: int64"
      ]
     },
     "execution_count": 8,
     "metadata": {},
     "output_type": "execute_result"
    }
   ],
   "source": [
    "# return a total count for each year in the dataset\n",
    "df.Year.value_counts()"
   ]
  },
  {
   "cell_type": "code",
   "execution_count": 9,
   "metadata": {
    "colab": {
     "base_uri": "https://localhost:8080/"
    },
    "id": "MkX8tI9YZj9H",
    "outputId": "70deb097-befd-4f21-d7e0-aca26378a7e8"
   },
   "outputs": [
    {
     "data": {
      "text/plain": [
       "Algeria                     11\n",
       "Sao Tome and Principe       11\n",
       "Madagascar                  11\n",
       "Malawi                      11\n",
       "Mali                        11\n",
       "Mauritania                  11\n",
       "Mauritius                   11\n",
       "Morocco                     11\n",
       "Mozambique                  11\n",
       "Namibia                     11\n",
       "Niger                       11\n",
       "Nigeria                     11\n",
       "Rwanda                      11\n",
       "Senegal                     11\n",
       "Angola                      11\n",
       "Seychelles                  11\n",
       "Sierra Leone                11\n",
       "Somalia                     11\n",
       "South Africa                11\n",
       "South Sudan                 11\n",
       "Sudan                       11\n",
       "Tanzania                    11\n",
       "Togo                        11\n",
       "Tunisia                     11\n",
       "Uganda                      11\n",
       "Zambia                      11\n",
       "Libya                       11\n",
       "Liberia                     11\n",
       "Lesotho                     11\n",
       "Kenya                       11\n",
       "Benin                       11\n",
       "Botswana                    11\n",
       "Burkina Faso                11\n",
       "Burundi                     11\n",
       "Cabo Verde                  11\n",
       "Cameroon                    11\n",
       "Central African Republic    11\n",
       "Chad                        11\n",
       "Comoros                     11\n",
       "Congo, Dem. Rep.            11\n",
       "Congo, Rep.                 11\n",
       "Cote d'Ivoire               11\n",
       "Djibouti                    11\n",
       "Egypt, Arab Rep.            11\n",
       "Equatorial Guinea           11\n",
       "Eritrea                     11\n",
       "Eswatini                    11\n",
       "Ethiopia                    11\n",
       "Gabon                       11\n",
       "Gambia, The                 11\n",
       "Ghana                       11\n",
       "Guinea                      11\n",
       "Guinea-Bissau               11\n",
       "Zimbabwe                    11\n",
       "Name: Country Name, dtype: int64"
      ]
     },
     "execution_count": 9,
     "metadata": {},
     "output_type": "execute_result"
    }
   ],
   "source": [
    "# return a total count for each country in the dataset\n",
    "df['Country Name'].value_counts()"
   ]
  },
  {
   "cell_type": "code",
   "execution_count": 10,
   "metadata": {
    "colab": {
     "base_uri": "https://localhost:8080/"
    },
    "id": "Tgb7Y5cab7qo",
    "outputId": "337baa37-dda7-41ae-97f9-682e674e3218"
   },
   "outputs": [
    {
     "data": {
      "text/plain": [
       "(594, 27)"
      ]
     },
     "execution_count": 10,
     "metadata": {},
     "output_type": "execute_result"
    }
   ],
   "source": [
    "# check the shape of the dataset i.e. the number of rows and columns\n",
    "df.shape"
   ]
  },
  {
   "cell_type": "code",
   "execution_count": 11,
   "metadata": {
    "colab": {
     "base_uri": "https://localhost:8080/"
    },
    "id": "fLimQ7zab7qp",
    "outputId": "78f4f8fb-a159-4d09-a050-cb37af8acc8d"
   },
   "outputs": [
    {
     "name": "stdout",
     "output_type": "stream",
     "text": [
      "<class 'pandas.core.frame.DataFrame'>\n",
      "RangeIndex: 594 entries, 0 to 593\n",
      "Data columns (total 27 columns):\n",
      " #   Column                                                                                   Non-Null Count  Dtype  \n",
      "---  ------                                                                                   --------------  -----  \n",
      " 0   Country Name                                                                             594 non-null    object \n",
      " 1   Year                                                                                     594 non-null    int64  \n",
      " 2   Country Code                                                                             594 non-null    object \n",
      " 3   Incidence of malaria (per 1,000 population at risk)                                      550 non-null    float64\n",
      " 4   Malaria cases reported                                                                   550 non-null    float64\n",
      " 5   Use of insecticide-treated bed nets (% of under-5 population)                            132 non-null    float64\n",
      " 6   Children with fever receiving antimalarial drugs (% of children under age 5 with fever)  122 non-null    float64\n",
      " 7   Intermittent preventive treatment (IPT) of malaria in pregnancy (% of pregnant women)    106 non-null    float64\n",
      " 8   People using safely managed drinking water services (% of population)                    99 non-null     float64\n",
      " 9   People using safely managed drinking water services, rural (% of rural population)       88 non-null     float64\n",
      " 10  People using safely managed drinking water services, urban (% of urban population)       176 non-null    float64\n",
      " 11  People using safely managed sanitation services (% of population)                        132 non-null    float64\n",
      " 12  People using safely managed sanitation services, rural (% of rural population)           110 non-null    float64\n",
      " 13  People using safely managed sanitation services, urban  (% of urban population)          132 non-null    float64\n",
      " 14  Rural population (% of total population)                                                 588 non-null    float64\n",
      " 15  Rural population growth (annual %)                                                       588 non-null    float64\n",
      " 16  Urban population (% of total population)                                                 588 non-null    float64\n",
      " 17  Urban population growth (annual %)                                                       588 non-null    float64\n",
      " 18  People using at least basic drinking water services (% of population)                    588 non-null    float64\n",
      " 19  People using at least basic drinking water services, rural (% of rural population)       566 non-null    float64\n",
      " 20  People using at least basic drinking water services, urban (% of urban population)       566 non-null    float64\n",
      " 21  People using at least basic sanitation services (% of population)                        588 non-null    float64\n",
      " 22  People using at least basic sanitation services, rural (% of rural population)           566 non-null    float64\n",
      " 23  People using at least basic sanitation services, urban  (% of urban population)          566 non-null    float64\n",
      " 24  latitude                                                                                 594 non-null    float64\n",
      " 25  longitude                                                                                594 non-null    float64\n",
      " 26  geometry                                                                                 594 non-null    object \n",
      "dtypes: float64(23), int64(1), object(3)\n",
      "memory usage: 125.4+ KB\n"
     ]
    }
   ],
   "source": [
    "# information about the dataset\n",
    "df.info()"
   ]
  },
  {
   "cell_type": "code",
   "execution_count": 12,
   "metadata": {
    "colab": {
     "base_uri": "https://localhost:8080/"
    },
    "id": "K_JASPedS9LE",
    "outputId": "84de8dbf-d25b-435b-f57a-55c66cf97f62"
   },
   "outputs": [
    {
     "data": {
      "text/plain": [
       "float64    23\n",
       "object      3\n",
       "int64       1\n",
       "dtype: int64"
      ]
     },
     "execution_count": 12,
     "metadata": {},
     "output_type": "execute_result"
    }
   ],
   "source": [
    "# Check the datatype counts of the dataset\n",
    "df.dtypes.value_counts()"
   ]
  },
  {
   "cell_type": "code",
   "execution_count": 13,
   "metadata": {
    "colab": {
     "base_uri": "https://localhost:8080/"
    },
    "id": "X8nItxjwb7qq",
    "outputId": "b9aa9af5-ea82-41bc-8b68-0b206c9333c1"
   },
   "outputs": [
    {
     "data": {
      "text/plain": [
       "Country Name                                                                                54\n",
       "Year                                                                                        11\n",
       "Country Code                                                                                54\n",
       "Incidence of malaria (per 1,000 population at risk)                                        499\n",
       "Malaria cases reported                                                                     467\n",
       "Use of insecticide-treated bed nets (% of under-5 population)                              117\n",
       "Children with fever receiving antimalarial drugs (% of children under age 5 with fever)    110\n",
       "Intermittent preventive treatment (IPT) of malaria in pregnancy (% of pregnant women)       95\n",
       "People using safely managed drinking water services (% of population)                       99\n",
       "People using safely managed drinking water services, rural (% of rural population)          87\n",
       "People using safely managed drinking water services, urban (% of urban population)         171\n",
       "People using safely managed sanitation services (% of population)                          130\n",
       "People using safely managed sanitation services, rural (% of rural population)             108\n",
       "People using safely managed sanitation services, urban  (% of urban population)            128\n",
       "Rural population (% of total population)                                                   562\n",
       "Rural population growth (annual %)                                                         301\n",
       "Urban population (% of total population)                                                   558\n",
       "Urban population growth (annual %)                                                         347\n",
       "People using at least basic drinking water services (% of population)                      555\n",
       "People using at least basic drinking water services, rural (% of rural population)         519\n",
       "People using at least basic drinking water services, urban (% of urban population)         488\n",
       "People using at least basic sanitation services (% of population)                          550\n",
       "People using at least basic sanitation services, rural (% of rural population)             509\n",
       "People using at least basic sanitation services, urban  (% of urban population)            516\n",
       "latitude                                                                                    54\n",
       "longitude                                                                                   54\n",
       "geometry                                                                                    54\n",
       "dtype: int64"
      ]
     },
     "execution_count": 13,
     "metadata": {},
     "output_type": "execute_result"
    }
   ],
   "source": [
    "# number of unique values in each features\n",
    "df.nunique()"
   ]
  },
  {
   "cell_type": "code",
   "execution_count": 14,
   "metadata": {
    "colab": {
     "base_uri": "https://localhost:8080/"
    },
    "id": "e9jnJorYb2T9",
    "outputId": "ea82e831-abc6-47a1-c41b-0250a20e8914"
   },
   "outputs": [
    {
     "data": {
      "text/plain": [
       "False"
      ]
     },
     "execution_count": 14,
     "metadata": {},
     "output_type": "execute_result"
    }
   ],
   "source": [
    "#check for duplicated record\n",
    "\n",
    "df.duplicated().any()"
   ]
  },
  {
   "cell_type": "code",
   "execution_count": 15,
   "metadata": {
    "colab": {
     "base_uri": "https://localhost:8080/"
    },
    "id": "wWRjP9jGTKZp",
    "outputId": "a4e1f2ac-60a5-43c3-d344-6ecdd186fce7"
   },
   "outputs": [
    {
     "data": {
      "text/plain": [
       "Country Name                                                                                 0\n",
       "Year                                                                                         0\n",
       "Country Code                                                                                 0\n",
       "Incidence of malaria (per 1,000 population at risk)                                         44\n",
       "Malaria cases reported                                                                      44\n",
       "Use of insecticide-treated bed nets (% of under-5 population)                              462\n",
       "Children with fever receiving antimalarial drugs (% of children under age 5 with fever)    472\n",
       "Intermittent preventive treatment (IPT) of malaria in pregnancy (% of pregnant women)      488\n",
       "People using safely managed drinking water services (% of population)                      495\n",
       "People using safely managed drinking water services, rural (% of rural population)         506\n",
       "People using safely managed drinking water services, urban (% of urban population)         418\n",
       "People using safely managed sanitation services (% of population)                          462\n",
       "People using safely managed sanitation services, rural (% of rural population)             484\n",
       "People using safely managed sanitation services, urban  (% of urban population)            462\n",
       "Rural population (% of total population)                                                     6\n",
       "Rural population growth (annual %)                                                           6\n",
       "Urban population (% of total population)                                                     6\n",
       "Urban population growth (annual %)                                                           6\n",
       "People using at least basic drinking water services (% of population)                        6\n",
       "People using at least basic drinking water services, rural (% of rural population)          28\n",
       "People using at least basic drinking water services, urban (% of urban population)          28\n",
       "People using at least basic sanitation services (% of population)                            6\n",
       "People using at least basic sanitation services, rural (% of rural population)              28\n",
       "People using at least basic sanitation services, urban  (% of urban population)             28\n",
       "latitude                                                                                     0\n",
       "longitude                                                                                    0\n",
       "geometry                                                                                     0\n",
       "dtype: int64"
      ]
     },
     "execution_count": 15,
     "metadata": {},
     "output_type": "execute_result"
    }
   ],
   "source": [
    "# check for missingness in the features\n",
    "df.isnull().sum()"
   ]
  },
  {
   "cell_type": "code",
   "execution_count": 16,
   "metadata": {
    "colab": {
     "base_uri": "https://localhost:8080/"
    },
    "id": "vRWF3xxecL4u",
    "outputId": "d8a5ae96-24d5-4dfb-a02b-3439128d5fdf"
   },
   "outputs": [
    {
     "data": {
      "text/plain": [
       "Country Name                                                                                0.000000\n",
       "Year                                                                                        0.000000\n",
       "Country Code                                                                                0.000000\n",
       "Incidence of malaria (per 1,000 population at risk)                                         7.407407\n",
       "Malaria cases reported                                                                      7.407407\n",
       "Use of insecticide-treated bed nets (% of under-5 population)                              77.777778\n",
       "Children with fever receiving antimalarial drugs (% of children under age 5 with fever)    79.461279\n",
       "Intermittent preventive treatment (IPT) of malaria in pregnancy (% of pregnant women)      82.154882\n",
       "People using safely managed drinking water services (% of population)                      83.333333\n",
       "People using safely managed drinking water services, rural (% of rural population)         85.185185\n",
       "People using safely managed drinking water services, urban (% of urban population)         70.370370\n",
       "People using safely managed sanitation services (% of population)                          77.777778\n",
       "People using safely managed sanitation services, rural (% of rural population)             81.481481\n",
       "People using safely managed sanitation services, urban  (% of urban population)            77.777778\n",
       "Rural population (% of total population)                                                    1.010101\n",
       "Rural population growth (annual %)                                                          1.010101\n",
       "Urban population (% of total population)                                                    1.010101\n",
       "Urban population growth (annual %)                                                          1.010101\n",
       "People using at least basic drinking water services (% of population)                       1.010101\n",
       "People using at least basic drinking water services, rural (% of rural population)          4.713805\n",
       "People using at least basic drinking water services, urban (% of urban population)          4.713805\n",
       "People using at least basic sanitation services (% of population)                           1.010101\n",
       "People using at least basic sanitation services, rural (% of rural population)              4.713805\n",
       "People using at least basic sanitation services, urban  (% of urban population)             4.713805\n",
       "latitude                                                                                    0.000000\n",
       "longitude                                                                                   0.000000\n",
       "geometry                                                                                    0.000000\n",
       "dtype: float64"
      ]
     },
     "execution_count": 16,
     "metadata": {},
     "output_type": "execute_result"
    }
   ],
   "source": [
    "# check for % of null record\n",
    "df.isnull().sum()/len(df)*100"
   ]
  },
  {
   "cell_type": "markdown",
   "metadata": {
    "id": "7-OwSxBNcQXW"
   },
   "source": [
    "**Observation**\n",
    "\n",
    "- More than 70% missing records for malaria preventive measures."
   ]
  },
  {
   "cell_type": "markdown",
   "metadata": {
    "id": "tx9o1S6yemDG"
   },
   "source": [
    "# Data transformation"
   ]
  },
  {
   "cell_type": "code",
   "execution_count": 17,
   "metadata": {
    "colab": {
     "base_uri": "https://localhost:8080/"
    },
    "id": "w9fNfylUaObW",
    "outputId": "2ea75000-9d6d-4138-ca51-2b704b4750e9"
   },
   "outputs": [
    {
     "data": {
      "text/plain": [
       "Index(['Country Name', 'Year', 'Country Code',\n",
       "       'Incidence of malaria (per 1,000 population at risk)',\n",
       "       'Malaria cases reported',\n",
       "       'Use of insecticide-treated bed nets (% of under-5 population)',\n",
       "       'Children with fever receiving antimalarial drugs (% of children under age 5 with fever)',\n",
       "       'Intermittent preventive treatment (IPT) of malaria in pregnancy (% of pregnant women)',\n",
       "       'People using safely managed drinking water services (% of population)',\n",
       "       'People using safely managed drinking water services, rural (% of rural population)',\n",
       "       'People using safely managed drinking water services, urban (% of urban population)',\n",
       "       'People using safely managed sanitation services (% of population)',\n",
       "       'People using safely managed sanitation services, rural (% of rural population)',\n",
       "       'People using safely managed sanitation services, urban  (% of urban population)',\n",
       "       'Rural population (% of total population)',\n",
       "       'Rural population growth (annual %)',\n",
       "       'Urban population (% of total population)',\n",
       "       'Urban population growth (annual %)',\n",
       "       'People using at least basic drinking water services (% of population)',\n",
       "       'People using at least basic drinking water services, rural (% of rural population)',\n",
       "       'People using at least basic drinking water services, urban (% of urban population)',\n",
       "       'People using at least basic sanitation services (% of population)',\n",
       "       'People using at least basic sanitation services, rural (% of rural population)',\n",
       "       'People using at least basic sanitation services, urban  (% of urban population)',\n",
       "       'latitude', 'longitude', 'geometry'],\n",
       "      dtype='object')"
      ]
     },
     "execution_count": 17,
     "metadata": {},
     "output_type": "execute_result"
    }
   ],
   "source": [
    "# print column names\n",
    "df.columns"
   ]
  },
  {
   "cell_type": "code",
   "execution_count": 18,
   "metadata": {
    "id": "Y0g5yKzzWAAt"
   },
   "outputs": [],
   "source": [
    "# rename columns using dictionary \n",
    "\n",
    "mapping = {df.columns[3]: 'Incidence rate',\n",
    "           df.columns[4]: 'Malaria cases',\n",
    "           df.columns[5]: '% Use ITNs',\n",
    "           df.columns[6]: '% Child fever',\n",
    "           df.columns[7]: '% IPT',\n",
    "           df.columns[8]: '% Safe DW all',\n",
    "           df.columns[9]: '% Safe DW rural',\n",
    "           df.columns[10]: '% Safe DW urban',\n",
    "           df.columns[11]: '% Safe sanitation all',\n",
    "           df.columns[12]: '% Safe sanitation rural',\n",
    "           df.columns[13]: '% Safe sanitation urban',\n",
    "           df.columns[14]: '% Rural pop',\n",
    "           df.columns[15]: '% Rural annual growth',\n",
    "           df.columns[16]: '% Urban pop',\n",
    "           df.columns[17]: '% Urban annual growth',\n",
    "           df.columns[18]: '% Basic DW all',\n",
    "           df.columns[19]: '% Basic DW rural',\n",
    "           df.columns[20]: '% Basic DW urban',\n",
    "           df.columns[21]: '% Basic sanitation all',\n",
    "           df.columns[22]: '% Basic sanitation rural',\n",
    "           df.columns[23]: '% Basic sanitation urban'}\n",
    "\n",
    "df = df.rename(columns=mapping)"
   ]
  },
  {
   "cell_type": "code",
   "execution_count": 19,
   "metadata": {
    "colab": {
     "base_uri": "https://localhost:8080/",
     "height": 426
    },
    "id": "T6Wj7MxRXDt_",
    "outputId": "6a231b4e-e58d-4287-b006-79a13c6129cb"
   },
   "outputs": [
    {
     "data": {
      "text/html": [
       "<div>\n",
       "<style scoped>\n",
       "    .dataframe tbody tr th:only-of-type {\n",
       "        vertical-align: middle;\n",
       "    }\n",
       "\n",
       "    .dataframe tbody tr th {\n",
       "        vertical-align: top;\n",
       "    }\n",
       "\n",
       "    .dataframe thead th {\n",
       "        text-align: right;\n",
       "    }\n",
       "</style>\n",
       "<table border=\"1\" class=\"dataframe\">\n",
       "  <thead>\n",
       "    <tr style=\"text-align: right;\">\n",
       "      <th></th>\n",
       "      <th>Country Name</th>\n",
       "      <th>Year</th>\n",
       "      <th>Country Code</th>\n",
       "      <th>Incidence rate</th>\n",
       "      <th>Malaria cases</th>\n",
       "      <th>% Use ITNs</th>\n",
       "      <th>% Child fever</th>\n",
       "      <th>% IPT</th>\n",
       "      <th>% Safe DW all</th>\n",
       "      <th>% Safe DW rural</th>\n",
       "      <th>% Safe DW urban</th>\n",
       "      <th>% Safe sanitation all</th>\n",
       "      <th>% Safe sanitation rural</th>\n",
       "      <th>% Safe sanitation urban</th>\n",
       "      <th>% Rural pop</th>\n",
       "      <th>% Rural annual growth</th>\n",
       "      <th>% Urban pop</th>\n",
       "      <th>% Urban annual growth</th>\n",
       "      <th>% Basic DW all</th>\n",
       "      <th>% Basic DW rural</th>\n",
       "      <th>% Basic DW urban</th>\n",
       "      <th>% Basic sanitation all</th>\n",
       "      <th>% Basic sanitation rural</th>\n",
       "      <th>% Basic sanitation urban</th>\n",
       "      <th>latitude</th>\n",
       "      <th>longitude</th>\n",
       "      <th>geometry</th>\n",
       "    </tr>\n",
       "  </thead>\n",
       "  <tbody>\n",
       "    <tr>\n",
       "      <th>0</th>\n",
       "      <td>Algeria</td>\n",
       "      <td>2007</td>\n",
       "      <td>DZA</td>\n",
       "      <td>0.01</td>\n",
       "      <td>26.0</td>\n",
       "      <td>NaN</td>\n",
       "      <td>NaN</td>\n",
       "      <td>NaN</td>\n",
       "      <td>NaN</td>\n",
       "      <td>NaN</td>\n",
       "      <td>NaN</td>\n",
       "      <td>18.24</td>\n",
       "      <td>19.96</td>\n",
       "      <td>17.33</td>\n",
       "      <td>34.65</td>\n",
       "      <td>-0.60</td>\n",
       "      <td>65.35</td>\n",
       "      <td>2.71</td>\n",
       "      <td>91.68</td>\n",
       "      <td>85.83</td>\n",
       "      <td>94.78</td>\n",
       "      <td>85.85</td>\n",
       "      <td>76.94</td>\n",
       "      <td>90.57</td>\n",
       "      <td>28.033886</td>\n",
       "      <td>1.659626</td>\n",
       "      <td>POINT (28.033886 1.659626)</td>\n",
       "    </tr>\n",
       "    <tr>\n",
       "      <th>1</th>\n",
       "      <td>Angola</td>\n",
       "      <td>2007</td>\n",
       "      <td>AGO</td>\n",
       "      <td>286.72</td>\n",
       "      <td>1533485.0</td>\n",
       "      <td>18.0</td>\n",
       "      <td>29.8</td>\n",
       "      <td>1.5</td>\n",
       "      <td>NaN</td>\n",
       "      <td>NaN</td>\n",
       "      <td>NaN</td>\n",
       "      <td>NaN</td>\n",
       "      <td>NaN</td>\n",
       "      <td>NaN</td>\n",
       "      <td>42.48</td>\n",
       "      <td>1.91</td>\n",
       "      <td>57.52</td>\n",
       "      <td>5.01</td>\n",
       "      <td>47.96</td>\n",
       "      <td>23.77</td>\n",
       "      <td>65.83</td>\n",
       "      <td>37.26</td>\n",
       "      <td>14.00</td>\n",
       "      <td>54.44</td>\n",
       "      <td>-11.202692</td>\n",
       "      <td>17.873887</td>\n",
       "      <td>POINT (-11.202692 17.873887)</td>\n",
       "    </tr>\n",
       "    <tr>\n",
       "      <th>2</th>\n",
       "      <td>Benin</td>\n",
       "      <td>2007</td>\n",
       "      <td>BEN</td>\n",
       "      <td>480.24</td>\n",
       "      <td>0.0</td>\n",
       "      <td>NaN</td>\n",
       "      <td>NaN</td>\n",
       "      <td>NaN</td>\n",
       "      <td>NaN</td>\n",
       "      <td>NaN</td>\n",
       "      <td>NaN</td>\n",
       "      <td>NaN</td>\n",
       "      <td>NaN</td>\n",
       "      <td>NaN</td>\n",
       "      <td>58.44</td>\n",
       "      <td>1.99</td>\n",
       "      <td>41.56</td>\n",
       "      <td>4.09</td>\n",
       "      <td>63.78</td>\n",
       "      <td>54.92</td>\n",
       "      <td>76.24</td>\n",
       "      <td>11.80</td>\n",
       "      <td>4.29</td>\n",
       "      <td>22.36</td>\n",
       "      <td>9.307690</td>\n",
       "      <td>2.315834</td>\n",
       "      <td>POINT (9.307689999999999 2.315834)</td>\n",
       "    </tr>\n",
       "    <tr>\n",
       "      <th>3</th>\n",
       "      <td>Botswana</td>\n",
       "      <td>2007</td>\n",
       "      <td>BWA</td>\n",
       "      <td>1.03</td>\n",
       "      <td>390.0</td>\n",
       "      <td>NaN</td>\n",
       "      <td>NaN</td>\n",
       "      <td>NaN</td>\n",
       "      <td>NaN</td>\n",
       "      <td>NaN</td>\n",
       "      <td>83.96</td>\n",
       "      <td>NaN</td>\n",
       "      <td>NaN</td>\n",
       "      <td>NaN</td>\n",
       "      <td>42.07</td>\n",
       "      <td>-1.44</td>\n",
       "      <td>57.93</td>\n",
       "      <td>4.80</td>\n",
       "      <td>78.89</td>\n",
       "      <td>57.60</td>\n",
       "      <td>94.35</td>\n",
       "      <td>61.60</td>\n",
       "      <td>39.99</td>\n",
       "      <td>77.30</td>\n",
       "      <td>-22.328474</td>\n",
       "      <td>24.684866</td>\n",
       "      <td>POINT (-22.328474 24.684866)</td>\n",
       "    </tr>\n",
       "    <tr>\n",
       "      <th>4</th>\n",
       "      <td>Burkina Faso</td>\n",
       "      <td>2007</td>\n",
       "      <td>BFA</td>\n",
       "      <td>503.80</td>\n",
       "      <td>44246.0</td>\n",
       "      <td>NaN</td>\n",
       "      <td>NaN</td>\n",
       "      <td>NaN</td>\n",
       "      <td>NaN</td>\n",
       "      <td>NaN</td>\n",
       "      <td>NaN</td>\n",
       "      <td>NaN</td>\n",
       "      <td>NaN</td>\n",
       "      <td>NaN</td>\n",
       "      <td>77.00</td>\n",
       "      <td>2.16</td>\n",
       "      <td>23.00</td>\n",
       "      <td>5.91</td>\n",
       "      <td>52.27</td>\n",
       "      <td>45.13</td>\n",
       "      <td>76.15</td>\n",
       "      <td>15.60</td>\n",
       "      <td>6.38</td>\n",
       "      <td>46.49</td>\n",
       "      <td>12.238333</td>\n",
       "      <td>-1.561593</td>\n",
       "      <td>POINT (12.238333 -1.561593)</td>\n",
       "    </tr>\n",
       "  </tbody>\n",
       "</table>\n",
       "</div>"
      ],
      "text/plain": [
       "   Country Name  Year Country Code  Incidence rate  Malaria cases  % Use ITNs  \\\n",
       "0       Algeria  2007          DZA            0.01           26.0         NaN   \n",
       "1        Angola  2007          AGO          286.72      1533485.0        18.0   \n",
       "2         Benin  2007          BEN          480.24            0.0         NaN   \n",
       "3      Botswana  2007          BWA            1.03          390.0         NaN   \n",
       "4  Burkina Faso  2007          BFA          503.80        44246.0         NaN   \n",
       "\n",
       "   % Child fever  % IPT  % Safe DW all  % Safe DW rural  % Safe DW urban  \\\n",
       "0            NaN    NaN            NaN              NaN              NaN   \n",
       "1           29.8    1.5            NaN              NaN              NaN   \n",
       "2            NaN    NaN            NaN              NaN              NaN   \n",
       "3            NaN    NaN            NaN              NaN            83.96   \n",
       "4            NaN    NaN            NaN              NaN              NaN   \n",
       "\n",
       "   % Safe sanitation all  % Safe sanitation rural  % Safe sanitation urban  \\\n",
       "0                  18.24                    19.96                    17.33   \n",
       "1                    NaN                      NaN                      NaN   \n",
       "2                    NaN                      NaN                      NaN   \n",
       "3                    NaN                      NaN                      NaN   \n",
       "4                    NaN                      NaN                      NaN   \n",
       "\n",
       "   % Rural pop  % Rural annual growth  % Urban pop  % Urban annual growth  \\\n",
       "0        34.65                  -0.60        65.35                   2.71   \n",
       "1        42.48                   1.91        57.52                   5.01   \n",
       "2        58.44                   1.99        41.56                   4.09   \n",
       "3        42.07                  -1.44        57.93                   4.80   \n",
       "4        77.00                   2.16        23.00                   5.91   \n",
       "\n",
       "   % Basic DW all  % Basic DW rural  % Basic DW urban  % Basic sanitation all  \\\n",
       "0           91.68             85.83             94.78                   85.85   \n",
       "1           47.96             23.77             65.83                   37.26   \n",
       "2           63.78             54.92             76.24                   11.80   \n",
       "3           78.89             57.60             94.35                   61.60   \n",
       "4           52.27             45.13             76.15                   15.60   \n",
       "\n",
       "   % Basic sanitation rural  % Basic sanitation urban   latitude  longitude  \\\n",
       "0                     76.94                     90.57  28.033886   1.659626   \n",
       "1                     14.00                     54.44 -11.202692  17.873887   \n",
       "2                      4.29                     22.36   9.307690   2.315834   \n",
       "3                     39.99                     77.30 -22.328474  24.684866   \n",
       "4                      6.38                     46.49  12.238333  -1.561593   \n",
       "\n",
       "                             geometry  \n",
       "0          POINT (28.033886 1.659626)  \n",
       "1        POINT (-11.202692 17.873887)  \n",
       "2  POINT (9.307689999999999 2.315834)  \n",
       "3        POINT (-22.328474 24.684866)  \n",
       "4         POINT (12.238333 -1.561593)  "
      ]
     },
     "execution_count": 19,
     "metadata": {},
     "output_type": "execute_result"
    }
   ],
   "source": [
    "# print Data frame after rename columns\n",
    "df.head()"
   ]
  },
  {
   "cell_type": "code",
   "execution_count": 20,
   "metadata": {
    "colab": {
     "base_uri": "https://localhost:8080/",
     "height": 606
    },
    "id": "-ZH4z312TW1A",
    "outputId": "f94ad862-042e-413c-f750-bd3fd74f2c89"
   },
   "outputs": [
    {
     "data": {
      "text/plain": [
       "<Axes: >"
      ]
     },
     "execution_count": 20,
     "metadata": {},
     "output_type": "execute_result"
    },
    {
     "data": {
      "image/png": "[encoded data removed]",
      "text/plain": [
       "<Figure size 432x288 with 1 Axes>"
      ]
     },
     "metadata": {
      "needs_background": "light"
     },
     "output_type": "display_data"
    }
   ],
   "source": [
    "# plot the missingness in the features\n",
    "df.isnull().sum().plot(kind='bar')"
   ]
  },
  {
   "cell_type": "code",
   "execution_count": 21,
   "metadata": {
    "id": "FyYHEJmRzXaU"
   },
   "outputs": [],
   "source": [
    "# fill missing values with 0\n",
    "df = df.fillna(0)"
   ]
  },
  {
   "cell_type": "code",
   "execution_count": 22,
   "metadata": {
    "colab": {
     "base_uri": "https://localhost:8080/"
    },
    "id": "oxqT-IrPc478",
    "outputId": "2d4bd4ad-f7cc-4462-8644-e75d8ff4e791"
   },
   "outputs": [
    {
     "data": {
      "text/plain": [
       "Country Name                0\n",
       "Year                        0\n",
       "Country Code                0\n",
       "Incidence rate              0\n",
       "Malaria cases               0\n",
       "% Use ITNs                  0\n",
       "% Child fever               0\n",
       "% IPT                       0\n",
       "% Safe DW all               0\n",
       "% Safe DW rural             0\n",
       "% Safe DW urban             0\n",
       "% Safe sanitation all       0\n",
       "% Safe sanitation rural     0\n",
       "% Safe sanitation urban     0\n",
       "% Rural pop                 0\n",
       "% Rural annual growth       0\n",
       "% Urban pop                 0\n",
       "% Urban annual growth       0\n",
       "% Basic DW all              0\n",
       "% Basic DW rural            0\n",
       "% Basic DW urban            0\n",
       "% Basic sanitation all      0\n",
       "% Basic sanitation rural    0\n",
       "% Basic sanitation urban    0\n",
       "latitude                    0\n",
       "longitude                   0\n",
       "geometry                    0\n",
       "dtype: int64"
      ]
     },
     "execution_count": 22,
     "metadata": {},
     "output_type": "execute_result"
    }
   ],
   "source": [
    "# confirm there isn't null record after fill\n",
    "df.isnull().sum()"
   ]
  },
  {
   "cell_type": "code",
   "execution_count": 23,
   "metadata": {},
   "outputs": [],
   "source": [
    "# create a copy of the transformed dataset for modeling\n",
    "model_data = df.copy()"
   ]
  },
  {
   "cell_type": "code",
   "execution_count": 24,
   "metadata": {
    "id": "rdGzhASues7_"
   },
   "outputs": [],
   "source": [
    "# convert 'malaria cases reported' datatype to integer\n",
    "df['Malaria cases'] = df['Malaria cases'].astype(int)"
   ]
  },
  {
   "cell_type": "code",
   "execution_count": 25,
   "metadata": {
    "id": "fq_Z0vaUb7qr"
   },
   "outputs": [],
   "source": [
    "# convert year to date time \n",
    "from datetime import datetime\n",
    "\n",
    "df['Year'] = pd.to_datetime(df.Year,format='%Y')"
   ]
  },
  {
   "cell_type": "code",
   "execution_count": 26,
   "metadata": {
    "colab": {
     "base_uri": "https://localhost:8080/"
    },
    "id": "bJyBkDE3b7qq",
    "outputId": "10511e73-993c-4f63-d551-1db41f70a30d"
   },
   "outputs": [
    {
     "data": {
      "text/plain": [
       "array(['Algeria', 'Angola', 'Benin', 'Botswana', 'Burkina Faso',\n",
       "       'Burundi', 'Cabo Verde', 'Cameroon', 'Central African Republic',\n",
       "       'Chad', 'Comoros', 'Congo, Dem. Rep.', 'Congo, Rep.',\n",
       "       \"Cote d'Ivoire\", 'Djibouti', 'Egypt, Arab Rep.',\n",
       "       'Equatorial Guinea', 'Eritrea', 'Eswatini', 'Ethiopia', 'Gabon',\n",
       "       'Gambia, The', 'Ghana', 'Guinea', 'Guinea-Bissau', 'Kenya',\n",
       "       'Lesotho', 'Liberia', 'Libya', 'Madagascar', 'Malawi', 'Mali',\n",
       "       'Mauritania', 'Mauritius', 'Morocco', 'Mozambique', 'Namibia',\n",
       "       'Niger', 'Nigeria', 'Rwanda', 'Sao Tome and Principe', 'Senegal',\n",
       "       'Seychelles', 'Sierra Leone', 'Somalia', 'South Africa',\n",
       "       'South Sudan', 'Sudan', 'Tanzania', 'Togo', 'Tunisia', 'Uganda',\n",
       "       'Zambia', 'Zimbabwe'], dtype=object)"
      ]
     },
     "execution_count": 26,
     "metadata": {},
     "output_type": "execute_result"
    }
   ],
   "source": [
    "#unique countries\n",
    "df['Country Name'].unique()"
   ]
  },
  {
   "cell_type": "code",
   "execution_count": 27,
   "metadata": {
    "colab": {
     "base_uri": "https://localhost:8080/",
     "height": 399
    },
    "id": "Qvj4G-tob7qr",
    "outputId": "baedf7f2-ea34-4606-ca15-939a2f9e2e1f"
   },
   "outputs": [
    {
     "data": {
      "text/html": [
       "<div>\n",
       "<style scoped>\n",
       "    .dataframe tbody tr th:only-of-type {\n",
       "        vertical-align: middle;\n",
       "    }\n",
       "\n",
       "    .dataframe tbody tr th {\n",
       "        vertical-align: top;\n",
       "    }\n",
       "\n",
       "    .dataframe thead th {\n",
       "        text-align: right;\n",
       "    }\n",
       "</style>\n",
       "<table border=\"1\" class=\"dataframe\">\n",
       "  <thead>\n",
       "    <tr style=\"text-align: right;\">\n",
       "      <th></th>\n",
       "      <th>Incidence rate</th>\n",
       "      <th>Malaria cases</th>\n",
       "      <th>% Use ITNs</th>\n",
       "      <th>% Child fever</th>\n",
       "      <th>% IPT</th>\n",
       "      <th>% Safe DW all</th>\n",
       "      <th>% Safe DW rural</th>\n",
       "      <th>% Safe DW urban</th>\n",
       "      <th>% Safe sanitation all</th>\n",
       "      <th>% Safe sanitation rural</th>\n",
       "      <th>% Safe sanitation urban</th>\n",
       "      <th>% Rural pop</th>\n",
       "      <th>% Rural annual growth</th>\n",
       "      <th>% Urban pop</th>\n",
       "      <th>% Urban annual growth</th>\n",
       "      <th>% Basic DW all</th>\n",
       "      <th>% Basic DW rural</th>\n",
       "      <th>% Basic DW urban</th>\n",
       "      <th>% Basic sanitation all</th>\n",
       "      <th>% Basic sanitation rural</th>\n",
       "      <th>% Basic sanitation urban</th>\n",
       "      <th>latitude</th>\n",
       "      <th>longitude</th>\n",
       "    </tr>\n",
       "  </thead>\n",
       "  <tbody>\n",
       "    <tr>\n",
       "      <th>count</th>\n",
       "      <td>594.000000</td>\n",
       "      <td>5.940000e+02</td>\n",
       "      <td>594.000000</td>\n",
       "      <td>594.000000</td>\n",
       "      <td>594.000000</td>\n",
       "      <td>594.000000</td>\n",
       "      <td>594.000000</td>\n",
       "      <td>594.000000</td>\n",
       "      <td>594.000000</td>\n",
       "      <td>594.000000</td>\n",
       "      <td>594.000000</td>\n",
       "      <td>594.000000</td>\n",
       "      <td>594.000000</td>\n",
       "      <td>594.000000</td>\n",
       "      <td>594.000000</td>\n",
       "      <td>594.000000</td>\n",
       "      <td>594.000000</td>\n",
       "      <td>594.000000</td>\n",
       "      <td>594.000000</td>\n",
       "      <td>594.000000</td>\n",
       "      <td>594.000000</td>\n",
       "      <td>594.000000</td>\n",
       "      <td>594.000000</td>\n",
       "    </tr>\n",
       "    <tr>\n",
       "      <th>mean</th>\n",
       "      <td>176.006936</td>\n",
       "      <td>9.891945e+05</td>\n",
       "      <td>9.451178</td>\n",
       "      <td>6.203030</td>\n",
       "      <td>2.679259</td>\n",
       "      <td>5.579832</td>\n",
       "      <td>1.847492</td>\n",
       "      <td>15.273939</td>\n",
       "      <td>6.393098</td>\n",
       "      <td>2.659579</td>\n",
       "      <td>7.149916</td>\n",
       "      <td>56.262542</td>\n",
       "      <td>1.375337</td>\n",
       "      <td>42.728114</td>\n",
       "      <td>3.487475</td>\n",
       "      <td>65.328300</td>\n",
       "      <td>49.024343</td>\n",
       "      <td>80.296246</td>\n",
       "      <td>39.071111</td>\n",
       "      <td>26.753704</td>\n",
       "      <td>45.821582</td>\n",
       "      <td>2.828796</td>\n",
       "      <td>17.342546</td>\n",
       "    </tr>\n",
       "    <tr>\n",
       "      <th>std</th>\n",
       "      <td>164.610210</td>\n",
       "      <td>2.128383e+06</td>\n",
       "      <td>20.072904</td>\n",
       "      <td>14.900588</td>\n",
       "      <td>7.764126</td>\n",
       "      <td>16.539561</td>\n",
       "      <td>5.878874</td>\n",
       "      <td>26.967129</td>\n",
       "      <td>14.831641</td>\n",
       "      <td>6.356886</td>\n",
       "      <td>16.828195</td>\n",
       "      <td>18.872221</td>\n",
       "      <td>1.201680</td>\n",
       "      <td>18.505645</td>\n",
       "      <td>1.491142</td>\n",
       "      <td>18.420489</td>\n",
       "      <td>21.457954</td>\n",
       "      <td>20.050689</td>\n",
       "      <td>26.467937</td>\n",
       "      <td>24.215905</td>\n",
       "      <td>23.599405</td>\n",
       "      <td>15.678226</td>\n",
       "      <td>20.041257</td>\n",
       "    </tr>\n",
       "    <tr>\n",
       "      <th>min</th>\n",
       "      <td>0.000000</td>\n",
       "      <td>0.000000e+00</td>\n",
       "      <td>0.000000</td>\n",
       "      <td>0.000000</td>\n",
       "      <td>0.000000</td>\n",
       "      <td>0.000000</td>\n",
       "      <td>0.000000</td>\n",
       "      <td>0.000000</td>\n",
       "      <td>0.000000</td>\n",
       "      <td>0.000000</td>\n",
       "      <td>0.000000</td>\n",
       "      <td>0.000000</td>\n",
       "      <td>-3.450000</td>\n",
       "      <td>0.000000</td>\n",
       "      <td>-4.650000</td>\n",
       "      <td>0.000000</td>\n",
       "      <td>0.000000</td>\n",
       "      <td>0.000000</td>\n",
       "      <td>0.000000</td>\n",
       "      <td>0.000000</td>\n",
       "      <td>0.000000</td>\n",
       "      <td>-30.559482</td>\n",
       "      <td>-24.013197</td>\n",
       "    </tr>\n",
       "    <tr>\n",
       "      <th>25%</th>\n",
       "      <td>6.950000</td>\n",
       "      <td>3.080000e+02</td>\n",
       "      <td>0.000000</td>\n",
       "      <td>0.000000</td>\n",
       "      <td>0.000000</td>\n",
       "      <td>0.000000</td>\n",
       "      <td>0.000000</td>\n",
       "      <td>0.000000</td>\n",
       "      <td>0.000000</td>\n",
       "      <td>0.000000</td>\n",
       "      <td>0.000000</td>\n",
       "      <td>42.097500</td>\n",
       "      <td>0.370000</td>\n",
       "      <td>28.372500</td>\n",
       "      <td>2.452500</td>\n",
       "      <td>51.972500</td>\n",
       "      <td>34.907500</td>\n",
       "      <td>76.302500</td>\n",
       "      <td>18.032500</td>\n",
       "      <td>7.532500</td>\n",
       "      <td>28.015000</td>\n",
       "      <td>-6.369028</td>\n",
       "      <td>0.824782</td>\n",
       "    </tr>\n",
       "    <tr>\n",
       "      <th>50%</th>\n",
       "      <td>127.355000</td>\n",
       "      <td>5.258350e+04</td>\n",
       "      <td>0.000000</td>\n",
       "      <td>0.000000</td>\n",
       "      <td>0.000000</td>\n",
       "      <td>0.000000</td>\n",
       "      <td>0.000000</td>\n",
       "      <td>0.000000</td>\n",
       "      <td>0.000000</td>\n",
       "      <td>0.000000</td>\n",
       "      <td>0.000000</td>\n",
       "      <td>58.405000</td>\n",
       "      <td>1.660000</td>\n",
       "      <td>41.355000</td>\n",
       "      <td>3.725000</td>\n",
       "      <td>64.195000</td>\n",
       "      <td>49.385000</td>\n",
       "      <td>84.905000</td>\n",
       "      <td>32.365000</td>\n",
       "      <td>18.170000</td>\n",
       "      <td>43.250000</td>\n",
       "      <td>6.744051</td>\n",
       "      <td>18.611308</td>\n",
       "    </tr>\n",
       "    <tr>\n",
       "      <th>75%</th>\n",
       "      <td>337.367500</td>\n",
       "      <td>1.041084e+06</td>\n",
       "      <td>0.000000</td>\n",
       "      <td>0.000000</td>\n",
       "      <td>0.000000</td>\n",
       "      <td>0.000000</td>\n",
       "      <td>0.000000</td>\n",
       "      <td>24.122500</td>\n",
       "      <td>0.000000</td>\n",
       "      <td>0.000000</td>\n",
       "      <td>0.000000</td>\n",
       "      <td>70.372500</td>\n",
       "      <td>2.127500</td>\n",
       "      <td>56.365000</td>\n",
       "      <td>4.435000</td>\n",
       "      <td>78.942500</td>\n",
       "      <td>61.405000</td>\n",
       "      <td>89.865000</td>\n",
       "      <td>54.515000</td>\n",
       "      <td>36.640000</td>\n",
       "      <td>57.627500</td>\n",
       "      <td>12.862807</td>\n",
       "      <td>31.465866</td>\n",
       "    </tr>\n",
       "    <tr>\n",
       "      <th>max</th>\n",
       "      <td>585.540000</td>\n",
       "      <td>1.682113e+07</td>\n",
       "      <td>95.500000</td>\n",
       "      <td>76.900000</td>\n",
       "      <td>59.600000</td>\n",
       "      <td>92.660000</td>\n",
       "      <td>39.930000</td>\n",
       "      <td>89.540000</td>\n",
       "      <td>78.120000</td>\n",
       "      <td>25.540000</td>\n",
       "      <td>88.290000</td>\n",
       "      <td>90.140000</td>\n",
       "      <td>7.090000</td>\n",
       "      <td>88.980000</td>\n",
       "      <td>7.400000</td>\n",
       "      <td>99.870000</td>\n",
       "      <td>99.830000</td>\n",
       "      <td>99.920000</td>\n",
       "      <td>100.000000</td>\n",
       "      <td>95.180000</td>\n",
       "      <td>98.300000</td>\n",
       "      <td>33.886917</td>\n",
       "      <td>57.552152</td>\n",
       "    </tr>\n",
       "  </tbody>\n",
       "</table>\n",
       "</div>"
      ],
      "text/plain": [
       "       Incidence rate  Malaria cases  % Use ITNs  % Child fever       % IPT  \\\n",
       "count      594.000000   5.940000e+02  594.000000     594.000000  594.000000   \n",
       "mean       176.006936   9.891945e+05    9.451178       6.203030    2.679259   \n",
       "std        164.610210   2.128383e+06   20.072904      14.900588    7.764126   \n",
       "min          0.000000   0.000000e+00    0.000000       0.000000    0.000000   \n",
       "25%          6.950000   3.080000e+02    0.000000       0.000000    0.000000   \n",
       "50%        127.355000   5.258350e+04    0.000000       0.000000    0.000000   \n",
       "75%        337.367500   1.041084e+06    0.000000       0.000000    0.000000   \n",
       "max        585.540000   1.682113e+07   95.500000      76.900000   59.600000   \n",
       "\n",
       "       % Safe DW all  % Safe DW rural  % Safe DW urban  % Safe sanitation all  \\\n",
       "count     594.000000       594.000000       594.000000             594.000000   \n",
       "mean        5.579832         1.847492        15.273939               6.393098   \n",
       "std        16.539561         5.878874        26.967129              14.831641   \n",
       "min         0.000000         0.000000         0.000000               0.000000   \n",
       "25%         0.000000         0.000000         0.000000               0.000000   \n",
       "50%         0.000000         0.000000         0.000000               0.000000   \n",
       "75%         0.000000         0.000000        24.122500               0.000000   \n",
       "max        92.660000        39.930000        89.540000              78.120000   \n",
       "\n",
       "       % Safe sanitation rural  % Safe sanitation urban  % Rural pop  \\\n",
       "count               594.000000               594.000000   594.000000   \n",
       "mean                  2.659579                 7.149916    56.262542   \n",
       "std                   6.356886                16.828195    18.872221   \n",
       "min                   0.000000                 0.000000     0.000000   \n",
       "25%                   0.000000                 0.000000    42.097500   \n",
       "50%                   0.000000                 0.000000    58.405000   \n",
       "75%                   0.000000                 0.000000    70.372500   \n",
       "max                  25.540000                88.290000    90.140000   \n",
       "\n",
       "       % Rural annual growth  % Urban pop  % Urban annual growth  \\\n",
       "count             594.000000   594.000000             594.000000   \n",
       "mean                1.375337    42.728114               3.487475   \n",
       "std                 1.201680    18.505645               1.491142   \n",
       "min                -3.450000     0.000000              -4.650000   \n",
       "25%                 0.370000    28.372500               2.452500   \n",
       "50%                 1.660000    41.355000               3.725000   \n",
       "75%                 2.127500    56.365000               4.435000   \n",
       "max                 7.090000    88.980000               7.400000   \n",
       "\n",
       "       % Basic DW all  % Basic DW rural  % Basic DW urban  \\\n",
       "count      594.000000        594.000000        594.000000   \n",
       "mean        65.328300         49.024343         80.296246   \n",
       "std         18.420489         21.457954         20.050689   \n",
       "min          0.000000          0.000000          0.000000   \n",
       "25%         51.972500         34.907500         76.302500   \n",
       "50%         64.195000         49.385000         84.905000   \n",
       "75%         78.942500         61.405000         89.865000   \n",
       "max         99.870000         99.830000         99.920000   \n",
       "\n",
       "       % Basic sanitation all  % Basic sanitation rural  \\\n",
       "count              594.000000                594.000000   \n",
       "mean                39.071111                 26.753704   \n",
       "std                 26.467937                 24.215905   \n",
       "min                  0.000000                  0.000000   \n",
       "25%                 18.032500                  7.532500   \n",
       "50%                 32.365000                 18.170000   \n",
       "75%                 54.515000                 36.640000   \n",
       "max                100.000000                 95.180000   \n",
       "\n",
       "       % Basic sanitation urban    latitude   longitude  \n",
       "count                594.000000  594.000000  594.000000  \n",
       "mean                  45.821582    2.828796   17.342546  \n",
       "std                   23.599405   15.678226   20.041257  \n",
       "min                    0.000000  -30.559482  -24.013197  \n",
       "25%                   28.015000   -6.369028    0.824782  \n",
       "50%                   43.250000    6.744051   18.611308  \n",
       "75%                   57.627500   12.862807   31.465866  \n",
       "max                   98.300000   33.886917   57.552152  "
      ]
     },
     "execution_count": 27,
     "metadata": {},
     "output_type": "execute_result"
    }
   ],
   "source": [
    "# plot summary statistics after null handling\n",
    "df.describe()"
   ]
  },
  {
   "cell_type": "code",
   "execution_count": 28,
   "metadata": {},
   "outputs": [
    {
     "data": {
      "image/png": "[encoded data removed]",
      "text/plain": [
       "<Figure size 1440x1440 with 2 Axes>"
      ]
     },
     "metadata": {
      "needs_background": "light"
     },
     "output_type": "display_data"
    }
   ],
   "source": [
    "# get correlations of each features in dataset\n",
    "corrmat = df.corr()\n",
    "top_corr_features = corrmat.index\n",
    "mask= np.triu(top_corr_features)\n",
    "plt.figure(figsize=(20,20))\n",
    "#plot heat map\n",
    "sns.heatmap(df[top_corr_features].corr(),annot=True, fmt='.2f', mask=mask, cmap='Spectral_r');"
   ]
  },
  {
   "cell_type": "markdown",
   "metadata": {
    "id": "WRtd1ERd2qS2"
   },
   "source": [
    "# Exploratory Data Analysis"
   ]
  },
  {
   "cell_type": "markdown",
   "metadata": {
    "id": "MpeZ4y-Hlucn"
   },
   "source": [
    "REGIONAL ANALYSIS OF MALARIA CASES AND INCIDENCE RATE"
   ]
  },
  {
   "cell_type": "code",
   "execution_count": 29,
   "metadata": {
    "id": "IB0DvdWoWv2f"
   },
   "outputs": [],
   "source": [
    "# categorize Incidence rate & Malaria cases per country\n",
    "africa_aggregate = df.groupby('Country Name')[['Incidence rate', 'Malaria cases']].sum()\n",
    "\n",
    "# create lists to split Africa into five blocks\n",
    "east = ['Uganda', 'South Sudan', 'Congo, Dem. Rep.', 'Rwanda', 'Tanzania', 'Kenya', 'Burundi', 'Somalia', 'Comoros', 'Djibouti', 'Eritrea', 'Ethiopia', 'Madagascar', 'Malawi', 'Mauritius', 'Mozambique', 'Seychelles', 'Zambia']\n",
    "south = ['Botswana', 'Lesotho', 'Namibia', 'South Africa', 'Eswatini']\n",
    "north = ['Algeria', 'Egypt, Arab Rep.', 'Libya', 'Morocco', 'Tunisia', 'Western Sahara']\n",
    "west = [\"Cote d'Ivoire\", 'Ghana', 'Guinea', 'Guinea-Bissau', 'Liberia', 'Mali', 'Mauritania', 'Niger', 'Nigeria', 'Senegal', 'Sierra Leone', 'Togo', 'Benin', 'Burkina Faso', 'Cabo Verde', 'Gambia, The']\n",
    "central = ['Angola', 'Cameroon', 'Central African Republic', 'Chad', 'Congo, Dem. Rep.', 'Congo, Rep.','Equatorial Guinea', 'Gabon', 'Sao Tome and Principe']\n"
   ]
  },
  {
   "cell_type": "code",
   "execution_count": 30,
   "metadata": {
    "id": "FZRm466lU6FP"
   },
   "outputs": [],
   "source": [
    "# filter five separate dataframes from the aggregated dataframe\n",
    "eastern_region = africa_aggregate.query('`Country Name`== @east')\n",
    "western_region = africa_aggregate.query('`Country Name`== @west')\n",
    "southern_region = africa_aggregate.query('`Country Name`== @south')\n",
    "northern_region = africa_aggregate.query('`Country Name`== @north')\n",
    "central_region = africa_aggregate.query('`Country Name` == @central') "
   ]
  },
  {
   "cell_type": "code",
   "execution_count": 31,
   "metadata": {
    "id": "ziR8dWdcmxmr"
   },
   "outputs": [],
   "source": [
    "# create empty lists to store total incidence rate and malaria cases for each region\n",
    "total_incidence = []\n",
    "total_malaria_cases = []\n",
    "\n",
    "# iterate through each region dataframe\n",
    "for region_df in [eastern_region, western_region, southern_region, northern_region, central_region]:\n",
    "    \n",
    "    # sum the incidence rate and malaria cases columns for the region dataframe\n",
    "    region_incidence = region_df['Incidence rate'].sum()\n",
    "    region_malaria_cases = region_df['Malaria cases'].sum()\n",
    "    \n",
    "    # append the total incidence rate and malaria cases for the region to the respective lists\n",
    "    total_incidence.append(region_incidence)\n",
    "    total_malaria_cases.append(region_malaria_cases)"
   ]
  },
  {
   "cell_type": "code",
   "execution_count": 32,
   "metadata": {
    "colab": {
     "base_uri": "https://localhost:8080/",
     "height": 206
    },
    "id": "g0IETpqZpB_D",
    "outputId": "1b98d170-fa8b-4049-9fc1-3fe76032533b"
   },
   "outputs": [
    {
     "data": {
      "text/html": [
       "<div>\n",
       "<style scoped>\n",
       "    .dataframe tbody tr th:only-of-type {\n",
       "        vertical-align: middle;\n",
       "    }\n",
       "\n",
       "    .dataframe tbody tr th {\n",
       "        vertical-align: top;\n",
       "    }\n",
       "\n",
       "    .dataframe thead th {\n",
       "        text-align: right;\n",
       "    }\n",
       "</style>\n",
       "<table border=\"1\" class=\"dataframe\">\n",
       "  <thead>\n",
       "    <tr style=\"text-align: right;\">\n",
       "      <th></th>\n",
       "      <th>area</th>\n",
       "      <th>regional_incidence</th>\n",
       "      <th>regional_malaria_cases</th>\n",
       "    </tr>\n",
       "  </thead>\n",
       "  <tbody>\n",
       "    <tr>\n",
       "      <th>0</th>\n",
       "      <td>East</td>\n",
       "      <td>29796.41</td>\n",
       "      <td>325054622</td>\n",
       "    </tr>\n",
       "    <tr>\n",
       "      <th>1</th>\n",
       "      <td>West</td>\n",
       "      <td>51959.61</td>\n",
       "      <td>212934849</td>\n",
       "    </tr>\n",
       "    <tr>\n",
       "      <th>2</th>\n",
       "      <td>South</td>\n",
       "      <td>174.67</td>\n",
       "      <td>227284</td>\n",
       "    </tr>\n",
       "    <tr>\n",
       "      <th>3</th>\n",
       "      <td>North</td>\n",
       "      <td>0.04</td>\n",
       "      <td>94</td>\n",
       "    </tr>\n",
       "    <tr>\n",
       "      <th>4</th>\n",
       "      <td>Central</td>\n",
       "      <td>25388.67</td>\n",
       "      <td>116310244</td>\n",
       "    </tr>\n",
       "  </tbody>\n",
       "</table>\n",
       "</div>"
      ],
      "text/plain": [
       "      area  regional_incidence  regional_malaria_cases\n",
       "0     East            29796.41               325054622\n",
       "1     West            51959.61               212934849\n",
       "2    South              174.67                  227284\n",
       "3    North                0.04                      94\n",
       "4  Central            25388.67               116310244"
      ]
     },
     "execution_count": 32,
     "metadata": {},
     "output_type": "execute_result"
    }
   ],
   "source": [
    "region = ['East', 'West', 'South', 'North', 'Central']\n",
    "# create a dictionary with the three lists\n",
    "data = {'area':region, 'regional_incidence':total_incidence, 'regional_malaria_cases':total_malaria_cases}\n",
    "\n",
    "# create a pandas dataframe from the dictionary\n",
    "pie_data = pd.DataFrame(data)\n",
    "\n",
    "pie_data"
   ]
  },
  {
   "cell_type": "code",
   "execution_count": 33,
   "metadata": {
    "colab": {
     "base_uri": "https://localhost:8080/",
     "height": 679
    },
    "id": "w3agtFQ2vaQN",
    "outputId": "db3b49f2-b71a-4a3c-f44f-0e589d559b3b"
   },
   "outputs": [
    {
     "data": {
      "image/png": "[encoded data removed]",
      "text/plain": [
       "<Figure size 576x576 with 1 Axes>"
      ]
     },
     "metadata": {},
     "output_type": "display_data"
    }
   ],
   "source": [
    "# set colors for the pie chart\n",
    "colors = ['#FFA500','#00FFFF','#99ff99','#ffcc99', '#FFFF00']\n",
    "\n",
    "# plot the pie chart for regional incidence\n",
    "fig, ax = plt.subplots(figsize=(8, 8))\n",
    "ax.pie(pie_data['regional_incidence'], colors=colors, labels=['East', 'West', 'South - 0.16%', 'North - 0.00004%\\n\\n', 'Central'],\n",
    "        autopct=lambda pct: '' if pct < 5 else f'{pct:.1f}%', startangle=90, pctdistance=0.85, \n",
    "        explode=[0.1, 0.1, 0.1, 0.1, 0.1], wedgeprops={'linewidth': 1, 'edgecolor': 'black', 'linestyle': 'dotted'}, shadow=False)\n",
    "\n",
    "plt.title('Regional Incidence of Malaria in Africa')\n",
    "plt.axis('equal')\n",
    "\n",
    "# show the plot\n",
    "plt.show()\n"
   ]
  },
  {
   "cell_type": "code",
   "execution_count": 34,
   "metadata": {
    "colab": {
     "base_uri": "https://localhost:8080/",
     "height": 675
    },
    "id": "B60uLStrztdS",
    "outputId": "22bde961-49c0-4830-803f-503ff7e689e3"
   },
   "outputs": [
    {
     "data": {
      "image/png": "[encoded data removed]",
      "text/plain": [
       "<Figure size 576x576 with 1 Axes>"
      ]
     },
     "metadata": {},
     "output_type": "display_data"
    }
   ],
   "source": [
    "# set colors for the pie chart\n",
    "colors = ['#F060AA','#FFB6C1','#99ff99','#ffcc99', '#95F599']\n",
    "\n",
    "# plot the pie chart for regional incidence\n",
    "fig, ax = plt.subplots(figsize=(8, 8))\n",
    "ax.pie(pie_data['regional_malaria_cases'], colors=colors, labels=['East', 'West', 'South - 0.03%', 'North - 0.00001%\\n\\n', 'Central'],\n",
    "        autopct=lambda pct: '' if pct < 5 else f'{pct:.1f}%', startangle=90, pctdistance=0.85, \n",
    "        explode=[0.1, 0.1, 0.1, 0.1, 0.1], wedgeprops={'linewidth': 1, 'edgecolor': 'black', 'linestyle': 'dotted'}, shadow=False)\n",
    "\n",
    "plt.title('Regional Malaria Cases in Africa')\n",
    "plt.axis('equal')\n",
    "\n",
    "# show the plot\n",
    "plt.show()"
   ]
  },
  {
   "cell_type": "code",
   "execution_count": 35,
   "metadata": {
    "colab": {
     "base_uri": "https://localhost:8080/",
     "height": 487
    },
    "id": "0A2TP5vSeGLw",
    "outputId": "8012423c-0b2c-4f04-c2ba-7b04e3cb62f1"
   },
   "outputs": [
    {
     "data": {
      "image/png": "[encoded data removed]",
      "text/plain": [
       "<Figure size 432x288 with 1 Axes>"
      ]
     },
     "metadata": {
      "needs_background": "light"
     },
     "output_type": "display_data"
    }
   ],
   "source": [
    "# scatterplot of Incidence of Malaria and Malaria Cases Reported\n",
    "plt.scatter(x=df['Incidence rate'], y=df['Malaria cases'],color='red')\n",
    "plt.title(\"Correlation Incidence of Malaria and Malaria Cases Reported\")\n",
    "plt.xlabel(\"Malaria Cases Reported\")\n",
    "plt.ylabel(\"Incidence of Malaria\")\n",
    "plt.show()"
   ]
  },
  {
   "cell_type": "code",
   "execution_count": 36,
   "metadata": {
    "colab": {
     "base_uri": "https://localhost:8080/",
     "height": 650
    },
    "id": "mCjpUvUK0oBb",
    "outputId": "06b97aca-48d7-4d03-b017-966782fee151"
   },
   "outputs": [
    {
     "data": {
      "image/png": "[encoded data removed]",
      "text/plain": [
       "<Figure size 1080x576 with 1 Axes>"
      ]
     },
     "metadata": {
      "needs_background": "light"
     },
     "output_type": "display_data"
    }
   ],
   "source": [
    "#TOP COUNTRIES WITH MALARIA CASES\n",
    "malaria_case_per_country  =  df[['Country Name','Malaria cases']].groupby('Country Name').sum().sort_values(by='Malaria cases')\n",
    "malaria_case_per_country = malaria_case_per_country.tail(10)\n",
    "a = malaria_case_per_country.reset_index()\n",
    "# malaria_case_per_country = malaria_case_per_country.to_frame()\n",
    "\n",
    "#\n",
    "plt.figure(figsize=(15,8))\n",
    "sns.barplot(x=\"Malaria cases\", y=\"Country Name\", data = a)\n",
    "\n",
    "plt.title(\"Top 10 Countries with Malaria cases in Africa (2007 - 2017)\")\n",
    "plt.xlabel(\"Malaria cases\")\n",
    "plt.ylabel(\"Country\")\n",
    "plt.show()"
   ]
  },
  {
   "cell_type": "markdown",
   "metadata": {
    "id": "vmgsKf-8mQH3"
   },
   "source": [
    "YEARLY DYNAMICS OF MALARIA CASES AND INCIDENCE RATES"
   ]
  },
  {
   "cell_type": "code",
   "execution_count": 37,
   "metadata": {
    "colab": {
     "base_uri": "https://localhost:8080/",
     "height": 426
    },
    "id": "qJfJa5nTgA1O",
    "outputId": "1b84d999-4df8-4986-a7cb-9a2cd1ec48a6"
   },
   "outputs": [
    {
     "data": {
      "text/html": [
       "<div>\n",
       "<style scoped>\n",
       "    .dataframe tbody tr th:only-of-type {\n",
       "        vertical-align: middle;\n",
       "    }\n",
       "\n",
       "    .dataframe tbody tr th {\n",
       "        vertical-align: top;\n",
       "    }\n",
       "\n",
       "    .dataframe thead th {\n",
       "        text-align: right;\n",
       "    }\n",
       "</style>\n",
       "<table border=\"1\" class=\"dataframe\">\n",
       "  <thead>\n",
       "    <tr style=\"text-align: right;\">\n",
       "      <th></th>\n",
       "      <th>Incidence rate</th>\n",
       "      <th>Malaria cases</th>\n",
       "    </tr>\n",
       "    <tr>\n",
       "      <th>Year</th>\n",
       "      <th></th>\n",
       "      <th></th>\n",
       "    </tr>\n",
       "  </thead>\n",
       "  <tbody>\n",
       "    <tr>\n",
       "      <th>2007-01-01</th>\n",
       "      <td>194.60</td>\n",
       "      <td>187080.39</td>\n",
       "    </tr>\n",
       "    <tr>\n",
       "      <th>2008-01-01</th>\n",
       "      <td>189.12</td>\n",
       "      <td>176081.00</td>\n",
       "    </tr>\n",
       "    <tr>\n",
       "      <th>2009-01-01</th>\n",
       "      <td>187.77</td>\n",
       "      <td>266937.33</td>\n",
       "    </tr>\n",
       "    <tr>\n",
       "      <th>2010-01-01</th>\n",
       "      <td>184.33</td>\n",
       "      <td>410828.89</td>\n",
       "    </tr>\n",
       "    <tr>\n",
       "      <th>2011-01-01</th>\n",
       "      <td>177.47</td>\n",
       "      <td>425978.98</td>\n",
       "    </tr>\n",
       "    <tr>\n",
       "      <th>2012-01-01</th>\n",
       "      <td>175.19</td>\n",
       "      <td>735541.13</td>\n",
       "    </tr>\n",
       "    <tr>\n",
       "      <th>2013-01-01</th>\n",
       "      <td>171.41</td>\n",
       "      <td>873610.35</td>\n",
       "    </tr>\n",
       "    <tr>\n",
       "      <th>2014-01-01</th>\n",
       "      <td>163.65</td>\n",
       "      <td>1426459.52</td>\n",
       "    </tr>\n",
       "    <tr>\n",
       "      <th>2015-01-01</th>\n",
       "      <td>163.65</td>\n",
       "      <td>1721639.37</td>\n",
       "    </tr>\n",
       "    <tr>\n",
       "      <th>2016-01-01</th>\n",
       "      <td>165.63</td>\n",
       "      <td>2283904.04</td>\n",
       "    </tr>\n",
       "    <tr>\n",
       "      <th>2017-01-01</th>\n",
       "      <td>163.26</td>\n",
       "      <td>2373078.80</td>\n",
       "    </tr>\n",
       "  </tbody>\n",
       "</table>\n",
       "</div>"
      ],
      "text/plain": [
       "            Incidence rate  Malaria cases\n",
       "Year                                     \n",
       "2007-01-01          194.60      187080.39\n",
       "2008-01-01          189.12      176081.00\n",
       "2009-01-01          187.77      266937.33\n",
       "2010-01-01          184.33      410828.89\n",
       "2011-01-01          177.47      425978.98\n",
       "2012-01-01          175.19      735541.13\n",
       "2013-01-01          171.41      873610.35\n",
       "2014-01-01          163.65     1426459.52\n",
       "2015-01-01          163.65     1721639.37\n",
       "2016-01-01          165.63     2283904.04\n",
       "2017-01-01          163.26     2373078.80"
      ]
     },
     "execution_count": 37,
     "metadata": {},
     "output_type": "execute_result"
    }
   ],
   "source": [
    "#using Pivot table for average yearly Malaria cases and incidence rates\n",
    "\n",
    "pivot = pd.pivot_table(df, index = ['Year'], values = ['Incidence rate','Malaria cases'])\n",
    "np.round(pivot,2)"
   ]
  },
  {
   "cell_type": "code",
   "execution_count": 38,
   "metadata": {
    "colab": {
     "base_uri": "https://localhost:8080/",
     "height": 746
    },
    "id": "sQIDRUd3U9D-",
    "outputId": "7fca8e6e-4c1c-430f-8e80-6a938d289c60"
   },
   "outputs": [
    {
     "data": {
      "image/png": "[encoded data removed]",
      "text/plain": [
       "<Figure size 792x576 with 1 Axes>"
      ]
     },
     "metadata": {},
     "output_type": "display_data"
    }
   ],
   "source": [
    "# Line Plot - Malaria Cases\n",
    "\n",
    "sns.set(font_scale = 1.5)\n",
    "plt.figure(figsize=(11,8))\n",
    "plt.yticks(fontsize=10)\n",
    "\n",
    "sns.lineplot(x='Year', y='Malaria cases', data=df).set(title='Malaria Cases in Africa');"
   ]
  },
  {
   "cell_type": "code",
   "execution_count": 39,
   "metadata": {
    "colab": {
     "base_uri": "https://localhost:8080/",
     "height": 746
    },
    "id": "ap8m-ekLjnvw",
    "outputId": "48584926-53a9-411b-9c4f-26b047cd53a4"
   },
   "outputs": [
    {
     "data": {
      "image/png": "[encoded data removed]",
      "text/plain": [
       "<Figure size 792x576 with 1 Axes>"
      ]
     },
     "metadata": {},
     "output_type": "display_data"
    }
   ],
   "source": [
    "#Line Plot - Incidence rate\n",
    "\n",
    "sns.set(font_scale = 1.5)\n",
    "plt.figure(figsize=(11,8))\n",
    "plt.yticks(fontsize=10)\n",
    "\n",
    "sns.lineplot(x='Year', y='Incidence rate', data=df).set(title='Malaria Incidence Rate (per 1000) in Africa');"
   ]
  },
  {
   "cell_type": "code",
   "execution_count": 40,
   "metadata": {
    "colab": {
     "base_uri": "https://localhost:8080/",
     "height": 857
    },
    "id": "W9WjquEroBEB",
    "outputId": "c98e2dd7-e525-4635-894d-b3ecc6c91fe9"
   },
   "outputs": [
    {
     "data": {
      "image/png": "[encoded data removed]",
      "text/plain": [
       "<Figure size 792x576 with 2 Axes>"
      ]
     },
     "metadata": {},
     "output_type": "display_data"
    }
   ],
   "source": [
    "# dataset for preventive measures\n",
    "preventive_malaria_df = pd.DataFrame(np.random.random((6,6)), \n",
    "                                     columns=[\"% Safe DW all\",\"% Safe DW rural\",\"% Safe DW urban\", \"% Safe sanitation all\", \"% Safe sanitation rural\", \"% Safe sanitation urban\"])\n",
    "\n",
    "# heatmap for preventive measures\n",
    "sns.set(font_scale = 1.3)\n",
    "plt.figure(figsize=(11,8))\n",
    "plt.xticks(fontsize=10)\n",
    "sns.heatmap(preventive_malaria_df, annot=True, yticklabels=False).set(title='Preventive measures for malaria in Africa');"
   ]
  },
  {
   "cell_type": "markdown",
   "metadata": {
    "id": "6WEaZReIkBaY"
   },
   "source": [
    "**OBSERVATION:**\n",
    "\n",
    "We can observe that incidence cases reduced from 2007 -2017, although year 2015 - 2016 witnessed a slight increase in incidence cases.\n",
    "\n",
    "In summary, from the univariate analysis between malaria cases and incidence rates shows that malaria cases increased but the incidence rate decreased which means a negative correlation exist between both features. This can also be attributed to improvement in preventive measures down the years."
   ]
  },
  {
   "cell_type": "markdown",
   "metadata": {
    "id": "Lwi6_FsZm6pc"
   },
   "source": [
    "GEOGRAPHICAL ANALYSIS"
   ]
  },
  {
   "cell_type": "code",
   "execution_count": 41,
   "metadata": {
    "id": "_ywyJGq85FHX"
   },
   "outputs": [],
   "source": [
    "#convert year to string\n",
    "df.Year = df.Year.astype(str)"
   ]
  },
  {
   "cell_type": "code",
   "execution_count": 42,
   "metadata": {
    "colab": {
     "base_uri": "https://localhost:8080/",
     "height": 542
    },
    "id": "5NjYhx3n4QAW",
    "outputId": "5604e99b-13c6-4ff3-fe02-1aba61c3f641"
   },
   "outputs": [
    {
     "data": {
      "application/vnd.plotly.v1+json": {
       "config": {
        "plotlyServerURL": "https://plot.ly"
       },
       "data": [
        {
         "coloraxis": "coloraxis",
         "geo": "geo",
         "hovertemplate": "Year=2007-01-01<br>Country Code=%{location}<br>Incidence rate=%{z}<extra></extra>",
         "locationmode": "ISO-3",
         "locations": [
          "DZA",
          "AGO",
          "BEN",
          "BWA",
          "BFA",
          "BDI",
          "CPV",
          "CMR",
          "CAF",
          "TCD",
          "COM",
          "COD",
          "COG",
          "CIV",
          "DJI",
          "EGY",
          "GNQ",
          "ERI",
          "SWZ",
          "ETH",
          "GAB",
          "GMB",
          "GHA",
          "GIN",
          "GNB",
          "KEN",
          "LSO",
          "LBR",
          "LBY",
          "MDG",
          "MWI",
          "MLI",
          "MRT",
          "MUS",
          "MAR",
          "MOZ",
          "NAM",
          "NER",
          "NGA",
          "RWA",
          "STP",
          "SEN",
          "SYC",
          "SLE",
          "SOM",
          "ZAF",
          "SSD",
          "SDN",
          "TZA",
          "TGO",
          "TUN",
          "UGA",
          "ZMB",
          "ZWE"
         ],
         "name": "",
         "type": "choropleth",
         "z": [
          0.01,
          286.72,
          480.24,
          1.03,
          503.8,
          222.92,
          0.15,
          386.68,
          471.11,
          210.71,
          60.65,
          481.93,
          281.83,
          509.98,
          3.84,
          0,
          398.15,
          12.54,
          0.29,
          121.69,
          110.66,
          316.01,
          322.33,
          343.69,
          72.81,
          78.02,
          0,
          383.18,
          0,
          22.78,
          370.08,
          388.81,
          70.77,
          0,
          0,
          399.45,
          12.97,
          386.68,
          421.33,
          90.64,
          14.56,
          101.91,
          0,
          379.94,
          100.56,
          1.29,
          276.75,
          41.08,
          184.53,
          434.49,
          0,
          377.94,
          195.74,
          175.12
         ]
        }
       ],
       "frames": [
        {
         "data": [
          {
           "coloraxis": "coloraxis",
           "geo": "geo",
           "hovertemplate": "Year=2007-01-01<br>Country Code=%{location}<br>Incidence rate=%{z}<extra></extra>",
           "locationmode": "ISO-3",
           "locations": [
            "DZA",
            "AGO",
            "BEN",
            "BWA",
            "BFA",
            "BDI",
            "CPV",
            "CMR",
            "CAF",
            "TCD",
            "COM",
            "COD",
            "COG",
            "CIV",
            "DJI",
            "EGY",
            "GNQ",
            "ERI",
            "SWZ",
            "ETH",
            "GAB",
            "GMB",
            "GHA",
            "GIN",
            "GNB",
            "KEN",
            "LSO",
            "LBR",
            "LBY",
            "MDG",
            "MWI",
            "MLI",
            "MRT",
            "MUS",
            "MAR",
            "MOZ",
            "NAM",
            "NER",
            "NGA",
            "RWA",
            "STP",
            "SEN",
            "SYC",
            "SLE",
            "SOM",
            "ZAF",
            "SSD",
            "SDN",
            "TZA",
            "TGO",
            "TUN",
            "UGA",
            "ZMB",
            "ZWE"
           ],
           "name": "",
           "type": "choropleth",
           "z": [
            0.01,
            286.72,
            480.24,
            1.03,
            503.8,
            222.92,
            0.15,
            386.68,
            471.11,
            210.71,
            60.65,
            481.93,
            281.83,
            509.98,
            3.84,
            0,
            398.15,
            12.54,
            0.29,
            121.69,
            110.66,
            316.01,
            322.33,
            343.69,
            72.81,
            78.02,
            0,
            383.18,
            0,
            22.78,
            370.08,
            388.81,
            70.77,
            0,
            0,
            399.45,
            12.97,
            386.68,
            421.33,
            90.64,
            14.56,
            101.91,
            0,
            379.94,
            100.56,
            1.29,
            276.75,
            41.08,
            184.53,
            434.49,
            0,
            377.94,
            195.74,
            175.12
           ]
          }
         ],
         "name": "2007-01-01"
        },
        {
         "data": [
          {
           "coloraxis": "coloraxis",
           "geo": "geo",
           "hovertemplate": "Year=2008-01-01<br>Country Code=%{location}<br>Incidence rate=%{z}<extra></extra>",
           "locationmode": "ISO-3",
           "locations": [
            "DZA",
            "AGO",
            "BEN",
            "BWA",
            "BFA",
            "BDI",
            "CPV",
            "CMR",
            "CAF",
            "COM",
            "TCD",
            "COD",
            "COG",
            "CIV",
            "DJI",
            "EGY",
            "GNQ",
            "ERI",
            "SWZ",
            "ETH",
            "GAB",
            "GMB",
            "GHA",
            "GIN",
            "GNB",
            "KEN",
            "LSO",
            "LBR",
            "LBY",
            "MDG",
            "MWI",
            "MLI",
            "MRT",
            "MUS",
            "MAR",
            "MOZ",
            "NAM",
            "NER",
            "NGA",
            "RWA",
            "STP",
            "SEN",
            "SYC",
            "SLE",
            "SOM",
            "ZAF",
            "SSD",
            "SDN",
            "TZA",
            "TGO",
            "TUN",
            "UGA",
            "ZMB",
            "ZWE"
           ],
           "name": "",
           "type": "choropleth",
           "z": [
            0,
            241.19,
            453.17,
            1.93,
            533.39,
            222.77,
            0.28,
            358.72,
            461.79,
            59.21,
            215.1,
            471.43,
            249.16,
            510.08,
            3.74,
            0,
            378.24,
            6.78,
            0.2,
            90.66,
            118.87,
            306.84,
            333.72,
            370.17,
            89.02,
            67.68,
            0,
            383.33,
            0,
            23.47,
            392,
            379.06,
            61.14,
            0,
            0,
            399.79,
            7.46,
            409.1,
            424.66,
            72.03,
            36.57,
            86.42,
            0,
            413.85,
            63.1,
            1.57,
            267.14,
            35.05,
            171,
            379.9,
            0,
            410.46,
            176.72,
            74.73
           ]
          }
         ],
         "name": "2008-01-01"
        },
        {
         "data": [
          {
           "coloraxis": "coloraxis",
           "geo": "geo",
           "hovertemplate": "Year=2009-01-01<br>Country Code=%{location}<br>Incidence rate=%{z}<extra></extra>",
           "locationmode": "ISO-3",
           "locations": [
            "DZA",
            "AGO",
            "BEN",
            "BWA",
            "BFA",
            "BDI",
            "CPV",
            "CMR",
            "CAF",
            "TCD",
            "COM",
            "COD",
            "COG",
            "CIV",
            "DJI",
            "EGY",
            "GNQ",
            "ERI",
            "SWZ",
            "ETH",
            "GAB",
            "GMB",
            "GHA",
            "GIN",
            "GNB",
            "KEN",
            "LSO",
            "LBR",
            "LBY",
            "MDG",
            "MWI",
            "MLI",
            "MRT",
            "MUS",
            "MAR",
            "MOZ",
            "NAM",
            "NER",
            "NGA",
            "RWA",
            "STP",
            "SEN",
            "SYC",
            "SLE",
            "SOM",
            "ZAF",
            "SSD",
            "SDN",
            "TZA",
            "TGO",
            "TUN",
            "UGA",
            "ZMB",
            "ZWE"
           ],
           "name": "",
           "type": "choropleth",
           "z": [
            0,
            204.35,
            417.96,
            2.1,
            552.03,
            220.65,
            0.51,
            322.98,
            448.45,
            222.91,
            57.81,
            452.18,
            226.32,
            494.48,
            4.33,
            0,
            351.29,
            8.86,
            0.36,
            123.35,
            145.95,
            297.98,
            351.39,
            398.14,
            113.8,
            67.94,
            0,
            368.81,
            0,
            42.92,
            394.29,
            374.56,
            31.64,
            0,
            0,
            402.3,
            3.36,
            419.1,
            416.59,
            158.16,
            35.15,
            57.12,
            0,
            442.15,
            38.44,
            1.2,
            255.07,
            32.29,
            157.11,
            326.88,
            0,
            433.79,
            172,
            90.5
           ]
          }
         ],
         "name": "2009-01-01"
        },
        {
         "data": [
          {
           "coloraxis": "coloraxis",
           "geo": "geo",
           "hovertemplate": "Year=2010-01-01<br>Country Code=%{location}<br>Incidence rate=%{z}<extra></extra>",
           "locationmode": "ISO-3",
           "locations": [
            "DZA",
            "AGO",
            "BEN",
            "BWA",
            "BFA",
            "BDI",
            "CPV",
            "CMR",
            "CAF",
            "TCD",
            "COM",
            "COD",
            "COG",
            "CIV",
            "DJI",
            "EGY",
            "GNQ",
            "ERI",
            "SWZ",
            "ETH",
            "GAB",
            "GMB",
            "GHA",
            "GIN",
            "GNB",
            "KEN",
            "LSO",
            "LBR",
            "LBY",
            "MDG",
            "MWI",
            "MLI",
            "MRT",
            "MUS",
            "MAR",
            "MOZ",
            "NAM",
            "NER",
            "NGA",
            "RWA",
            "STP",
            "SEN",
            "SYC",
            "SLE",
            "SOM",
            "ZAF",
            "SSD",
            "SDN",
            "TZA",
            "TGO",
            "TUN",
            "UGA",
            "ZMB",
            "ZWE"
           ],
           "name": "",
           "type": "choropleth",
           "z": [
            0,
            185.52,
            387.76,
            1.69,
            551.24,
            210.2,
            0.37,
            295.53,
            434.51,
            225.94,
            52.98,
            428.31,
            220.92,
            469.27,
            1.6,
            0,
            339.99,
            26.33,
            0.9,
            128.4,
            177.82,
            289.27,
            364.15,
            414.66,
            134.37,
            67.71,
            0,
            345.77,
            0,
            42.24,
            386.02,
            383.6,
            38.83,
            0,
            0,
            398.41,
            1.54,
            425.64,
            398.9,
            126.31,
            15.19,
            59.28,
            0,
            458.74,
            29.59,
            1.57,
            243.97,
            30.66,
            145.46,
            308.88,
            0,
            417.35,
            177.02,
            109.43
           ]
          }
         ],
         "name": "2010-01-01"
        },
        {
         "data": [
          {
           "coloraxis": "coloraxis",
           "geo": "geo",
           "hovertemplate": "Year=2011-01-01<br>Country Code=%{location}<br>Incidence rate=%{z}<extra></extra>",
           "locationmode": "ISO-3",
           "locations": [
            "DZA",
            "AGO",
            "BEN",
            "BWA",
            "BFA",
            "BDI",
            "CPV",
            "CMR",
            "CAF",
            "TCD",
            "COM",
            "COD",
            "COG",
            "CIV",
            "DJI",
            "EGY",
            "GNQ",
            "ERI",
            "SWZ",
            "ETH",
            "GAB",
            "GMB",
            "GHA",
            "GIN",
            "GNB",
            "KEN",
            "LSO",
            "LBR",
            "LBY",
            "MDG",
            "MWI",
            "MLI",
            "MRT",
            "MUS",
            "MAR",
            "MOZ",
            "NAM",
            "NER",
            "NGA",
            "RWA",
            "STP",
            "SEN",
            "SYC",
            "SLE",
            "SOM",
            "ZAF",
            "SSD",
            "SDN",
            "TZA",
            "TGO",
            "TUN",
            "UGA",
            "ZMB",
            "ZWE"
           ],
           "name": "",
           "type": "choropleth",
           "z": [
            0,
            175.99,
            370.11,
            0.51,
            539.56,
            184.15,
            0.05,
            265.1,
            419.33,
            210.48,
            35.18,
            399.59,
            224.38,
            442.11,
            3.42,
            0,
            342.4,
            23.86,
            1.83,
            116.13,
            212.72,
            257.26,
            379.52,
            426.9,
            140.55,
            67.86,
            0,
            330.41,
            0,
            36.55,
            362.78,
            404.73,
            47.58,
            0,
            0,
            389.92,
            2.13,
            427.88,
            372.56,
            39.29,
            45.75,
            49.91,
            0,
            453.65,
            24.35,
            1.9,
            235.87,
            29.97,
            132.48,
            313.4,
            0,
            385.7,
            186.7,
            70.68
           ]
          }
         ],
         "name": "2011-01-01"
        },
        {
         "data": [
          {
           "coloraxis": "coloraxis",
           "geo": "geo",
           "hovertemplate": "Year=2012-01-01<br>Country Code=%{location}<br>Incidence rate=%{z}<extra></extra>",
           "locationmode": "ISO-3",
           "locations": [
            "DZA",
            "AGO",
            "BEN",
            "BWA",
            "BFA",
            "BDI",
            "CPV",
            "CMR",
            "CAF",
            "TCD",
            "COM",
            "COD",
            "COG",
            "CIV",
            "DJI",
            "EGY",
            "GNQ",
            "ERI",
            "SWZ",
            "ETH",
            "GAB",
            "GMB",
            "GHA",
            "GIN",
            "GNB",
            "KEN",
            "LSO",
            "LBR",
            "LBY",
            "MDG",
            "MWI",
            "MLI",
            "MRT",
            "MUS",
            "MAR",
            "MOZ",
            "NAM",
            "NER",
            "NGA",
            "RWA",
            "STP",
            "SEN",
            "SYC",
            "SLE",
            "SOM",
            "ZAF",
            "SSD",
            "SDN",
            "TZA",
            "TGO",
            "TUN",
            "UGA",
            "ZMB",
            "ZWE"
           ],
           "name": "",
           "type": "choropleth",
           "z": [
            0.03,
            174.43,
            378.03,
            0.22,
            527.54,
            153.93,
            0.01,
            245.13,
            413.09,
            195.34,
            68.85,
            363,
            224.63,
            396.28,
            3.31,
            0,
            357.75,
            16.15,
            1.86,
            116.19,
            245.53,
            274.82,
            374.29,
            427.8,
            128.75,
            73.36,
            0,
            307.9,
            0,
            71.36,
            314.02,
            435.65,
            28.42,
            0,
            0,
            381.78,
            3.36,
            430.51,
            347.74,
            71.46,
            56.8,
            56.92,
            0,
            447.47,
            24.45,
            1.25,
            232.68,
            30.16,
            116.25,
            349.7,
            0,
            331.77,
            203.08,
            57.22
           ]
          }
         ],
         "name": "2012-01-01"
        },
        {
         "data": [
          {
           "coloraxis": "coloraxis",
           "geo": "geo",
           "hovertemplate": "Year=2013-01-01<br>Country Code=%{location}<br>Incidence rate=%{z}<extra></extra>",
           "locationmode": "ISO-3",
           "locations": [
            "DZA",
            "AGO",
            "BEN",
            "BWA",
            "BFA",
            "BDI",
            "CPV",
            "CMR",
            "CAF",
            "TCD",
            "COM",
            "COD",
            "COG",
            "CIV",
            "DJI",
            "EGY",
            "GNQ",
            "ERI",
            "SWZ",
            "ETH",
            "GAB",
            "GMB",
            "GHA",
            "GIN",
            "GNB",
            "KEN",
            "LSO",
            "LBR",
            "LBY",
            "MDG",
            "MWI",
            "MLI",
            "MRT",
            "MUS",
            "MAR",
            "MOZ",
            "NAM",
            "NER",
            "NGA",
            "RWA",
            "STP",
            "SEN",
            "SYC",
            "SLE",
            "SOM",
            "ZAF",
            "SSD",
            "SDN",
            "TZA",
            "TGO",
            "TUN",
            "UGA",
            "ZMB",
            "ZWE"
           ],
           "name": "",
           "type": "choropleth",
           "z": [
            0,
            180.9,
            395,
            0.53,
            487.52,
            140.59,
            0.17,
            243.04,
            406.82,
            179.35,
            71.69,
            327.62,
            231.03,
            338.87,
            2.54,
            0,
            365.75,
            15.03,
            3.16,
            111.6,
            272.83,
            236.99,
            349.28,
            408.08,
            113.39,
            82.48,
            0,
            317.28,
            0,
            65.21,
            267.86,
            452.82,
            33.22,
            0,
            0,
            376.98,
            4.55,
            420.49,
            328.65,
            121.45,
            48.12,
            67.9,
            0,
            432.7,
            28.05,
            1.61,
            234.38,
            31.45,
            111.78,
            385.39,
            0,
            254.24,
            225.77,
            81.95
           ]
          }
         ],
         "name": "2013-01-01"
        },
        {
         "data": [
          {
           "coloraxis": "coloraxis",
           "geo": "geo",
           "hovertemplate": "Year=2014-01-01<br>Country Code=%{location}<br>Incidence rate=%{z}<extra></extra>",
           "locationmode": "ISO-3",
           "locations": [
            "DZA",
            "AGO",
            "BEN",
            "BWA",
            "BFA",
            "BDI",
            "CPV",
            "CMR",
            "CAF",
            "TCD",
            "COM",
            "COD",
            "COG",
            "CIV",
            "DJI",
            "EGY",
            "GNQ",
            "ERI",
            "SWZ",
            "ETH",
            "GAB",
            "GMB",
            "GHA",
            "GIN",
            "GNB",
            "KEN",
            "LSO",
            "LBR",
            "LBY",
            "MDG",
            "MWI",
            "MLI",
            "MRT",
            "MUS",
            "MAR",
            "MOZ",
            "NAM",
            "NER",
            "NGA",
            "RWA",
            "STP",
            "SEN",
            "SYC",
            "SLE",
            "SOM",
            "ZAF",
            "SSD",
            "SDN",
            "TZA",
            "TGO",
            "TUN",
            "UGA",
            "ZMB",
            "ZWE"
           ],
           "name": "",
           "type": "choropleth",
           "z": [
            0,
            187.94,
            399.24,
            1.5,
            436.06,
            141.51,
            0.19,
            244.08,
            393.04,
            170.27,
            2.9,
            308.39,
            231.85,
            315.07,
            14.01,
            0,
            360.95,
            33.12,
            2.32,
            57.1,
            285.74,
            142.02,
            315.76,
            381.09,
            93.9,
            83.87,
            0,
            337.57,
            0,
            45.78,
            237,
            441.01,
            49.2,
            0,
            0,
            364.83,
            14.49,
            400.25,
            314.4,
            219.81,
            8.96,
            39.51,
            0,
            409.31,
            32.1,
            2.15,
            236.14,
            33.38,
            118.94,
            384.68,
            0,
            220.62,
            222.98,
            101.89
           ]
          }
         ],
         "name": "2014-01-01"
        },
        {
         "data": [
          {
           "coloraxis": "coloraxis",
           "geo": "geo",
           "hovertemplate": "Year=2015-01-01<br>Country Code=%{location}<br>Incidence rate=%{z}<extra></extra>",
           "locationmode": "ISO-3",
           "locations": [
            "DZA",
            "AGO",
            "BEN",
            "BWA",
            "BFA",
            "BDI",
            "CPV",
            "CMR",
            "CAF",
            "TCD",
            "COM",
            "COD",
            "COG",
            "CIV",
            "DJI",
            "EGY",
            "GNQ",
            "ERI",
            "SWZ",
            "ETH",
            "GAB",
            "GMB",
            "GHA",
            "GIN",
            "GNB",
            "KEN",
            "LSO",
            "LBR",
            "LBY",
            "MDG",
            "MWI",
            "MLI",
            "MRT",
            "MUS",
            "MAR",
            "MOZ",
            "NAM",
            "NER",
            "NGA",
            "RWA",
            "STP",
            "SEN",
            "SYC",
            "SLE",
            "SOM",
            "ZAF",
            "SSD",
            "SDN",
            "TZA",
            "TGO",
            "TUN",
            "UGA",
            "ZMB",
            "ZWE"
           ],
           "name": "",
           "type": "choropleth",
           "z": [
            0,
            199.99,
            411.82,
            0.37,
            400.09,
            165.5,
            0.05,
            254.5,
            379.91,
            167.28,
            1.67,
            308.83,
            226.71,
            320.04,
            13.82,
            0,
            339.48,
            19.2,
            0.51,
            52.77,
            284.44,
            195.04,
            277.19,
            356.64,
            79.77,
            72.17,
            0,
            346.97,
            0,
            97.32,
            217.04,
            391.83,
            61.61,
            0,
            0,
            355.88,
            10.88,
            369.83,
            296.08,
            341.96,
            10.32,
            69.8,
            0,
            403.72,
            37.27,
            0.21,
            240.36,
            35.88,
            121.74,
            364.31,
            0,
            236.11,
            202.55,
            97.65
           ]
          }
         ],
         "name": "2015-01-01"
        },
        {
         "data": [
          {
           "coloraxis": "coloraxis",
           "geo": "geo",
           "hovertemplate": "Year=2016-01-01<br>Country Code=%{location}<br>Incidence rate=%{z}<extra></extra>",
           "locationmode": "ISO-3",
           "locations": [
            "DZA",
            "AGO",
            "BEN",
            "BWA",
            "BFA",
            "BDI",
            "CPV",
            "CMR",
            "CAF",
            "TCD",
            "COM",
            "COD",
            "COG",
            "CIV",
            "DJI",
            "EGY",
            "GNQ",
            "ERI",
            "SWZ",
            "ETH",
            "GAB",
            "GMB",
            "GHA",
            "GIN",
            "GNB",
            "KEN",
            "LSO",
            "LBR",
            "LBY",
            "MDG",
            "MWI",
            "MLI",
            "MRT",
            "MUS",
            "MAR",
            "MOZ",
            "NAM",
            "NER",
            "NGA",
            "RWA",
            "STP",
            "SEN",
            "SYC",
            "SLE",
            "SOM",
            "ZAF",
            "SSD",
            "SDN",
            "TZA",
            "TGO",
            "TUN",
            "UGA",
            "ZMB",
            "ZWE"
           ],
           "name": "",
           "type": "choropleth",
           "z": [
            0,
            219.99,
            421.58,
            0.81,
            401.73,
            225.74,
            0.35,
            264.31,
            362.02,
            169.93,
            1.44,
            322.77,
            233.38,
            354.66,
            19.81,
            0,
            306.97,
            25.64,
            1.12,
            41.41,
            270.67,
            116.53,
            236,
            331.47,
            71.35,
            70.38,
            0,
            386.3,
            0,
            56.58,
            210.66,
            384.22,
            71.5,
            0,
            0,
            344.82,
            22.12,
            358.74,
            281.38,
            585.54,
            11.01,
            45.66,
            0,
            391.33,
            37.26,
            0.77,
            244.55,
            41.73,
            123.57,
            324.86,
            0,
            304.41,
            181.39,
            65.78
           ]
          }
         ],
         "name": "2016-01-01"
        },
        {
         "data": [
          {
           "coloraxis": "coloraxis",
           "geo": "geo",
           "hovertemplate": "Year=2017-01-01<br>Country Code=%{location}<br>Incidence rate=%{z}<extra></extra>",
           "locationmode": "ISO-3",
           "locations": [
            "DZA",
            "AGO",
            "BEN",
            "BWA",
            "BFA",
            "BDI",
            "CPV",
            "CMR",
            "CAF",
            "TCD",
            "COM",
            "COD",
            "COG",
            "CIV",
            "DJI",
            "EGY",
            "GNQ",
            "ERI",
            "SWZ",
            "ETH",
            "GAB",
            "GMB",
            "GHA",
            "GIN",
            "GNB",
            "KEN",
            "LSO",
            "LBR",
            "LBY",
            "MDG",
            "MWI",
            "MLI",
            "MRT",
            "MUS",
            "MAR",
            "MOZ",
            "NAM",
            "NER",
            "NGA",
            "RWA",
            "STP",
            "SEN",
            "SYC",
            "SLE",
            "SOM",
            "ZAF",
            "SSD",
            "SDN",
            "TZA",
            "TGO",
            "TUN",
            "UGA",
            "ZMB",
            "ZWE"
           ],
           "name": "",
           "type": "choropleth",
           "z": [
            0,
            228.91,
            399.56,
            2.05,
            399.94,
            250.27,
            3.03,
            262.23,
            347.33,
            172.3,
            3.97,
            329.13,
            240.64,
            362.36,
            20.72,
            0,
            285.72,
            33.97,
            2.3,
            36.74,
            254.24,
            53.02,
            212.56,
            311.53,
            78.33,
            70.1,
            0,
            401.11,
            0,
            75.67,
            216.26,
            386.78,
            55.49,
            0,
            0,
            326.4,
            46.75,
            356.57,
            283.06,
            538.34,
            10.81,
            52.35,
            0,
            364.13,
            37.13,
            3.95,
            245.8,
            46.75,
            123.96,
            278.2,
            0,
            336.76,
            160.05,
            108.55
           ]
          }
         ],
         "name": "2017-01-01"
        }
       ],
       "layout": {
        "coloraxis": {
         "colorbar": {
          "title": {
           "text": "Incidence rate"
          }
         },
         "colorscale": [
          [
           0,
           "rgb(247,251,255)"
          ],
          [
           0.125,
           "rgb(222,235,247)"
          ],
          [
           0.25,
           "rgb(198,219,239)"
          ],
          [
           0.375,
           "rgb(158,202,225)"
          ],
          [
           0.5,
           "rgb(107,174,214)"
          ],
          [
           0.625,
           "rgb(66,146,198)"
          ],
          [
           0.75,
           "rgb(33,113,181)"
          ],
          [
           0.875,
           "rgb(8,81,156)"
          ],
          [
           1,
           "rgb(8,48,107)"
          ]
         ]
        },
        "geo": {
         "center": {},
         "domain": {
          "x": [
           0,
           1
          ],
          "y": [
           0,
           1
          ]
         },
         "scope": "africa"
        },
        "legend": {
         "tracegroupgap": 0
        },
        "sliders": [
         {
          "active": 0,
          "currentvalue": {
           "prefix": "Year="
          },
          "len": 0.9,
          "pad": {
           "b": 10,
           "t": 60
          },
          "steps": [
           {
            "args": [
             [
              "2007-01-01"
             ],
             {
              "frame": {
               "duration": 0,
               "redraw": true
              },
              "fromcurrent": true,
              "mode": "immediate",
              "transition": {
               "duration": 0,
               "easing": "linear"
              }
             }
            ],
            "label": "2007-01-01",
            "method": "animate"
           },
           {
            "args": [
             [
              "2008-01-01"
             ],
             {
              "frame": {
               "duration": 0,
               "redraw": true
              },
              "fromcurrent": true,
              "mode": "immediate",
              "transition": {
               "duration": 0,
               "easing": "linear"
              }
             }
            ],
            "label": "2008-01-01",
            "method": "animate"
           },
           {
            "args": [
             [
              "2009-01-01"
             ],
             {
              "frame": {
               "duration": 0,
               "redraw": true
              },
              "fromcurrent": true,
              "mode": "immediate",
              "transition": {
               "duration": 0,
               "easing": "linear"
              }
             }
            ],
            "label": "2009-01-01",
            "method": "animate"
           },
           {
            "args": [
             [
              "2010-01-01"
             ],
             {
              "frame": {
               "duration": 0,
               "redraw": true
              },
              "fromcurrent": true,
              "mode": "immediate",
              "transition": {
               "duration": 0,
               "easing": "linear"
              }
             }
            ],
            "label": "2010-01-01",
            "method": "animate"
           },
           {
            "args": [
             [
              "2011-01-01"
             ],
             {
              "frame": {
               "duration": 0,
               "redraw": true
              },
              "fromcurrent": true,
              "mode": "immediate",
              "transition": {
               "duration": 0,
               "easing": "linear"
              }
             }
            ],
            "label": "2011-01-01",
            "method": "animate"
           },
           {
            "args": [
             [
              "2012-01-01"
             ],
             {
              "frame": {
               "duration": 0,
               "redraw": true
              },
              "fromcurrent": true,
              "mode": "immediate",
              "transition": {
               "duration": 0,
               "easing": "linear"
              }
             }
            ],
            "label": "2012-01-01",
            "method": "animate"
           },
           {
            "args": [
             [
              "2013-01-01"
             ],
             {
              "frame": {
               "duration": 0,
               "redraw": true
              },
              "fromcurrent": true,
              "mode": "immediate",
              "transition": {
               "duration": 0,
               "easing": "linear"
              }
             }
            ],
            "label": "2013-01-01",
            "method": "animate"
           },
           {
            "args": [
             [
              "2014-01-01"
             ],
             {
              "frame": {
               "duration": 0,
               "redraw": true
              },
              "fromcurrent": true,
              "mode": "immediate",
              "transition": {
               "duration": 0,
               "easing": "linear"
              }
             }
            ],
            "label": "2014-01-01",
            "method": "animate"
           },
           {
            "args": [
             [
              "2015-01-01"
             ],
             {
              "frame": {
               "duration": 0,
               "redraw": true
              },
              "fromcurrent": true,
              "mode": "immediate",
              "transition": {
               "duration": 0,
               "easing": "linear"
              }
             }
            ],
            "label": "2015-01-01",
            "method": "animate"
           },
           {
            "args": [
             [
              "2016-01-01"
             ],
             {
              "frame": {
               "duration": 0,
               "redraw": true
              },
              "fromcurrent": true,
              "mode": "immediate",
              "transition": {
               "duration": 0,
               "easing": "linear"
              }
             }
            ],
            "label": "2016-01-01",
            "method": "animate"
           },
           {
            "args": [
             [
              "2017-01-01"
             ],
             {
              "frame": {
               "duration": 0,
               "redraw": true
              },
              "fromcurrent": true,
              "mode": "immediate",
              "transition": {
               "duration": 0,
               "easing": "linear"
              }
             }
            ],
            "label": "2017-01-01",
            "method": "animate"
           }
          ],
          "x": 0.1,
          "xanchor": "left",
          "y": 0,
          "yanchor": "top"
         }
        ],
        "template": {
         "data": {
          "bar": [
           {
            "error_x": {
             "color": "#2a3f5f"
            },
            "error_y": {
             "color": "#2a3f5f"
            },
            "marker": {
             "line": {
              "color": "#E5ECF6",
              "width": 0.5
             },
             "pattern": {
              "fillmode": "overlay",
              "size": 10,
              "solidity": 0.2
             }
            },
            "type": "bar"
           }
          ],
          "barpolar": [
           {
            "marker": {
             "line": {
              "color": "#E5ECF6",
              "width": 0.5
             },
             "pattern": {
              "fillmode": "overlay",
              "size": 10,
              "solidity": 0.2
             }
            },
            "type": "barpolar"
           }
          ],
          "carpet": [
           {
            "aaxis": {
             "endlinecolor": "#2a3f5f",
             "gridcolor": "white",
             "linecolor": "white",
             "minorgridcolor": "white",
             "startlinecolor": "#2a3f5f"
            },
            "baxis": {
             "endlinecolor": "#2a3f5f",
             "gridcolor": "white",
             "linecolor": "white",
             "minorgridcolor": "white",
             "startlinecolor": "#2a3f5f"
            },
            "type": "carpet"
           }
          ],
          "choropleth": [
           {
            "colorbar": {
             "outlinewidth": 0,
             "ticks": ""
            },
            "type": "choropleth"
           }
          ],
          "contour": [
           {
            "colorbar": {
             "outlinewidth": 0,
             "ticks": ""
            },
            "colorscale": [
             [
              0,
              "#0d0887"
             ],
             [
              0.1111111111111111,
              "#46039f"
             ],
             [
              0.2222222222222222,
              "#7201a8"
             ],
             [
              0.3333333333333333,
              "#9c179e"
             ],
             [
              0.4444444444444444,
              "#bd3786"
             ],
             [
              0.5555555555555556,
              "#d8576b"
             ],
             [
              0.6666666666666666,
              "#ed7953"
             ],
             [
              0.7777777777777778,
              "#fb9f3a"
             ],
             [
              0.8888888888888888,
              "#fdca26"
             ],
             [
              1,
              "#f0f921"
             ]
            ],
            "type": "contour"
           }
          ],
          "contourcarpet": [
           {
            "colorbar": {
             "outlinewidth": 0,
             "ticks": ""
            },
            "type": "contourcarpet"
           }
          ],
          "heatmap": [
           {
            "colorbar": {
             "outlinewidth": 0,
             "ticks": ""
            },
            "colorscale": [
             [
              0,
              "#0d0887"
             ],
             [
              0.1111111111111111,
              "#46039f"
             ],
             [
              0.2222222222222222,
              "#7201a8"
             ],
             [
              0.3333333333333333,
              "#9c179e"
             ],
             [
              0.4444444444444444,
              "#bd3786"
             ],
             [
              0.5555555555555556,
              "#d8576b"
             ],
             [
              0.6666666666666666,
              "#ed7953"
             ],
             [
              0.7777777777777778,
              "#fb9f3a"
             ],
             [
              0.8888888888888888,
              "#fdca26"
             ],
             [
              1,
              "#f0f921"
             ]
            ],
            "type": "heatmap"
           }
          ],
          "heatmapgl": [
           {
            "colorbar": {
             "outlinewidth": 0,
             "ticks": ""
            },
            "colorscale": [
             [
              0,
              "#0d0887"
             ],
             [
              0.1111111111111111,
              "#46039f"
             ],
             [
              0.2222222222222222,
              "#7201a8"
             ],
             [
              0.3333333333333333,
              "#9c179e"
             ],
             [
              0.4444444444444444,
              "#bd3786"
             ],
             [
              0.5555555555555556,
              "#d8576b"
             ],
             [
              0.6666666666666666,
              "#ed7953"
             ],
             [
              0.7777777777777778,
              "#fb9f3a"
             ],
             [
              0.8888888888888888,
              "#fdca26"
             ],
             [
              1,
              "#f0f921"
             ]
            ],
            "type": "heatmapgl"
           }
          ],
          "histogram": [
           {
            "marker": {
             "pattern": {
              "fillmode": "overlay",
              "size": 10,
              "solidity": 0.2
             }
            },
            "type": "histogram"
           }
          ],
          "histogram2d": [
           {
            "colorbar": {
             "outlinewidth": 0,
             "ticks": ""
            },
            "colorscale": [
             [
              0,
              "#0d0887"
             ],
             [
              0.1111111111111111,
              "#46039f"
             ],
             [
              0.2222222222222222,
              "#7201a8"
             ],
             [
              0.3333333333333333,
              "#9c179e"
             ],
             [
              0.4444444444444444,
              "#bd3786"
             ],
             [
              0.5555555555555556,
              "#d8576b"
             ],
             [
              0.6666666666666666,
              "#ed7953"
             ],
             [
              0.7777777777777778,
              "#fb9f3a"
             ],
             [
              0.8888888888888888,
              "#fdca26"
             ],
             [
              1,
              "#f0f921"
             ]
            ],
            "type": "histogram2d"
           }
          ],
          "histogram2dcontour": [
           {
            "colorbar": {
             "outlinewidth": 0,
             "ticks": ""
            },
            "colorscale": [
             [
              0,
              "#0d0887"
             ],
             [
              0.1111111111111111,
              "#46039f"
             ],
             [
              0.2222222222222222,
              "#7201a8"
             ],
             [
              0.3333333333333333,
              "#9c179e"
             ],
             [
              0.4444444444444444,
              "#bd3786"
             ],
             [
              0.5555555555555556,
              "#d8576b"
             ],
             [
              0.6666666666666666,
              "#ed7953"
             ],
             [
              0.7777777777777778,
              "#fb9f3a"
             ],
             [
              0.8888888888888888,
              "#fdca26"
             ],
             [
              1,
              "#f0f921"
             ]
            ],
            "type": "histogram2dcontour"
           }
          ],
          "mesh3d": [
           {
            "colorbar": {
             "outlinewidth": 0,
             "ticks": ""
            },
            "type": "mesh3d"
           }
          ],
          "parcoords": [
           {
            "line": {
             "colorbar": {
              "outlinewidth": 0,
              "ticks": ""
             }
            },
            "type": "parcoords"
           }
          ],
          "pie": [
           {
            "automargin": true,
            "type": "pie"
           }
          ],
          "scatter": [
           {
            "fillpattern": {
             "fillmode": "overlay",
             "size": 10,
             "solidity": 0.2
            },
            "type": "scatter"
           }
          ],
          "scatter3d": [
           {
            "line": {
             "colorbar": {
              "outlinewidth": 0,
              "ticks": ""
             }
            },
            "marker": {
             "colorbar": {
              "outlinewidth": 0,
              "ticks": ""
             }
            },
            "type": "scatter3d"
           }
          ],
          "scattercarpet": [
           {
            "marker": {
             "colorbar": {
              "outlinewidth": 0,
              "ticks": ""
             }
            },
            "type": "scattercarpet"
           }
          ],
          "scattergeo": [
           {
            "marker": {
             "colorbar": {
              "outlinewidth": 0,
              "ticks": ""
             }
            },
            "type": "scattergeo"
           }
          ],
          "scattergl": [
           {
            "marker": {
             "colorbar": {
              "outlinewidth": 0,
              "ticks": ""
             }
            },
            "type": "scattergl"
           }
          ],
          "scattermapbox": [
           {
            "marker": {
             "colorbar": {
              "outlinewidth": 0,
              "ticks": ""
             }
            },
            "type": "scattermapbox"
           }
          ],
          "scatterpolar": [
           {
            "marker": {
             "colorbar": {
              "outlinewidth": 0,
              "ticks": ""
             }
            },
            "type": "scatterpolar"
           }
          ],
          "scatterpolargl": [
           {
            "marker": {
             "colorbar": {
              "outlinewidth": 0,
              "ticks": ""
             }
            },
            "type": "scatterpolargl"
           }
          ],
          "scatterternary": [
           {
            "marker": {
             "colorbar": {
              "outlinewidth": 0,
              "ticks": ""
             }
            },
            "type": "scatterternary"
           }
          ],
          "surface": [
           {
            "colorbar": {
             "outlinewidth": 0,
             "ticks": ""
            },
            "colorscale": [
             [
              0,
              "#0d0887"
             ],
             [
              0.1111111111111111,
              "#46039f"
             ],
             [
              0.2222222222222222,
              "#7201a8"
             ],
             [
              0.3333333333333333,
              "#9c179e"
             ],
             [
              0.4444444444444444,
              "#bd3786"
             ],
             [
              0.5555555555555556,
              "#d8576b"
             ],
             [
              0.6666666666666666,
              "#ed7953"
             ],
             [
              0.7777777777777778,
              "#fb9f3a"
             ],
             [
              0.8888888888888888,
              "#fdca26"
             ],
             [
              1,
              "#f0f921"
             ]
            ],
            "type": "surface"
           }
          ],
          "table": [
           {
            "cells": {
             "fill": {
              "color": "#EBF0F8"
             },
             "line": {
              "color": "white"
             }
            },
            "header": {
             "fill": {
              "color": "#C8D4E3"
             },
             "line": {
              "color": "white"
             }
            },
            "type": "table"
           }
          ]
         },
         "layout": {
          "annotationdefaults": {
           "arrowcolor": "#2a3f5f",
           "arrowhead": 0,
           "arrowwidth": 1
          },
          "autotypenumbers": "strict",
          "coloraxis": {
           "colorbar": {
            "outlinewidth": 0,
            "ticks": ""
           }
          },
          "colorscale": {
           "diverging": [
            [
             0,
             "#8e0152"
            ],
            [
             0.1,
             "#c51b7d"
            ],
            [
             0.2,
             "#de77ae"
            ],
            [
             0.3,
             "#f1b6da"
            ],
            [
             0.4,
             "#fde0ef"
            ],
            [
             0.5,
             "#f7f7f7"
            ],
            [
             0.6,
             "#e6f5d0"
            ],
            [
             0.7,
             "#b8e186"
            ],
            [
             0.8,
             "#7fbc41"
            ],
            [
             0.9,
             "#4d9221"
            ],
            [
             1,
             "#276419"
            ]
           ],
           "sequential": [
            [
             0,
             "#0d0887"
            ],
            [
             0.1111111111111111,
             "#46039f"
            ],
            [
             0.2222222222222222,
             "#7201a8"
            ],
            [
             0.3333333333333333,
             "#9c179e"
            ],
            [
             0.4444444444444444,
             "#bd3786"
            ],
            [
             0.5555555555555556,
             "#d8576b"
            ],
            [
             0.6666666666666666,
             "#ed7953"
            ],
            [
             0.7777777777777778,
             "#fb9f3a"
            ],
            [
             0.8888888888888888,
             "#fdca26"
            ],
            [
             1,
             "#f0f921"
            ]
           ],
           "sequentialminus": [
            [
             0,
             "#0d0887"
            ],
            [
             0.1111111111111111,
             "#46039f"
            ],
            [
             0.2222222222222222,
             "#7201a8"
            ],
            [
             0.3333333333333333,
             "#9c179e"
            ],
            [
             0.4444444444444444,
             "#bd3786"
            ],
            [
             0.5555555555555556,
             "#d8576b"
            ],
            [
             0.6666666666666666,
             "#ed7953"
            ],
            [
             0.7777777777777778,
             "#fb9f3a"
            ],
            [
             0.8888888888888888,
             "#fdca26"
            ],
            [
             1,
             "#f0f921"
            ]
           ]
          },
          "colorway": [
           "#636efa",
           "#EF553B",
           "#00cc96",
           "#ab63fa",
           "#FFA15A",
           "#19d3f3",
           "#FF6692",
           "#B6E880",
           "#FF97FF",
           "#FECB52"
          ],
          "font": {
           "color": "#2a3f5f"
          },
          "geo": {
           "bgcolor": "white",
           "lakecolor": "white",
           "landcolor": "#E5ECF6",
           "showlakes": true,
           "showland": true,
           "subunitcolor": "white"
          },
          "hoverlabel": {
           "align": "left"
          },
          "hovermode": "closest",
          "mapbox": {
           "style": "light"
          },
          "paper_bgcolor": "white",
          "plot_bgcolor": "#E5ECF6",
          "polar": {
           "angularaxis": {
            "gridcolor": "white",
            "linecolor": "white",
            "ticks": ""
           },
           "bgcolor": "#E5ECF6",
           "radialaxis": {
            "gridcolor": "white",
            "linecolor": "white",
            "ticks": ""
           }
          },
          "scene": {
           "xaxis": {
            "backgroundcolor": "#E5ECF6",
            "gridcolor": "white",
            "gridwidth": 2,
            "linecolor": "white",
            "showbackground": true,
            "ticks": "",
            "zerolinecolor": "white"
           },
           "yaxis": {
            "backgroundcolor": "#E5ECF6",
            "gridcolor": "white",
            "gridwidth": 2,
            "linecolor": "white",
            "showbackground": true,
            "ticks": "",
            "zerolinecolor": "white"
           },
           "zaxis": {
            "backgroundcolor": "#E5ECF6",
            "gridcolor": "white",
            "gridwidth": 2,
            "linecolor": "white",
            "showbackground": true,
            "ticks": "",
            "zerolinecolor": "white"
           }
          },
          "shapedefaults": {
           "line": {
            "color": "#2a3f5f"
           }
          },
          "ternary": {
           "aaxis": {
            "gridcolor": "white",
            "linecolor": "white",
            "ticks": ""
           },
           "baxis": {
            "gridcolor": "white",
            "linecolor": "white",
            "ticks": ""
           },
           "bgcolor": "#E5ECF6",
           "caxis": {
            "gridcolor": "white",
            "linecolor": "white",
            "ticks": ""
           }
          },
          "title": {
           "x": 0.05
          },
          "xaxis": {
           "automargin": true,
           "gridcolor": "white",
           "linecolor": "white",
           "ticks": "",
           "title": {
            "standoff": 15
           },
           "zerolinecolor": "white",
           "zerolinewidth": 2
          },
          "yaxis": {
           "automargin": true,
           "gridcolor": "white",
           "linecolor": "white",
           "ticks": "",
           "title": {
            "standoff": 15
           },
           "zerolinecolor": "white",
           "zerolinewidth": 2
          }
         }
        },
        "title": {
         "text": "Incidence of Malaria at risk in Africa"
        },
        "updatemenus": [
         {
          "buttons": [
           {
            "args": [
             null,
             {
              "frame": {
               "duration": 500,
               "redraw": true
              },
              "fromcurrent": true,
              "mode": "immediate",
              "transition": {
               "duration": 500,
               "easing": "linear"
              }
             }
            ],
            "label": "&#9654;",
            "method": "animate"
           },
           {
            "args": [
             [
              null
             ],
             {
              "frame": {
               "duration": 0,
               "redraw": true
              },
              "fromcurrent": true,
              "mode": "immediate",
              "transition": {
               "duration": 0,
               "easing": "linear"
              }
             }
            ],
            "label": "&#9724;",
            "method": "animate"
           }
          ],
          "direction": "left",
          "pad": {
           "r": 10,
           "t": 70
          },
          "showactive": false,
          "type": "buttons",
          "x": 0.1,
          "xanchor": "right",
          "y": 0,
          "yanchor": "top"
         }
        ]
       }
      },
      "text/html": [
       "<div>                            <div id=\"4d12e824-ac2c-425f-8843-4d8c3c3f5bdb\" class=\"plotly-graph-div\" style=\"height:525px; width:100%;\"></div>            <script type=\"text/javascript\">                require([\"plotly\"], function(Plotly) {                    window.PLOTLYENV=window.PLOTLYENV || {};                                    if (document.getElementById(\"4d12e824-ac2c-425f-8843-4d8c3c3f5bdb\")) {                    Plotly.newPlot(                        \"4d12e824-ac2c-425f-8843-4d8c3c3f5bdb\",                        [{\"coloraxis\":\"coloraxis\",\"geo\":\"geo\",\"hovertemplate\":\"Year=2007-01-01<br>Country Code=%{location}<br>Incidence rate=%{z}<extra></extra>\",\"locationmode\":\"ISO-3\",\"locations\":[\"DZA\",\"AGO\",\"BEN\",\"BWA\",\"BFA\",\"BDI\",\"CPV\",\"CMR\",\"CAF\",\"TCD\",\"COM\",\"COD\",\"COG\",\"CIV\",\"DJI\",\"EGY\",\"GNQ\",\"ERI\",\"SWZ\",\"ETH\",\"GAB\",\"GMB\",\"GHA\",\"GIN\",\"GNB\",\"KEN\",\"LSO\",\"LBR\",\"LBY\",\"MDG\",\"MWI\",\"MLI\",\"MRT\",\"MUS\",\"MAR\",\"MOZ\",\"NAM\",\"NER\",\"NGA\",\"RWA\",\"STP\",\"SEN\",\"SYC\",\"SLE\",\"SOM\",\"ZAF\",\"SSD\",\"SDN\",\"TZA\",\"TGO\",\"TUN\",\"UGA\",\"ZMB\",\"ZWE\"],\"name\":\"\",\"z\":[0.01,286.72,480.24,1.03,503.8,222.92,0.15,386.68,471.11,210.71,60.65,481.93,281.83,509.98,3.84,0.0,398.15,12.54,0.29,121.69,110.66,316.01,322.33,343.69,72.81,78.02,0.0,383.18,0.0,22.78,370.08,388.81,70.77,0.0,0.0,399.45,12.97,386.68,421.33,90.64,14.56,101.91,0.0,379.94,100.56,1.29,276.75,41.08,184.53,434.49,0.0,377.94,195.74,175.12],\"type\":\"choropleth\"}],                        {\"template\":{\"data\":{\"histogram2dcontour\":[{\"type\":\"histogram2dcontour\",\"colorbar\":{\"outlinewidth\":0,\"ticks\":\"\"},\"colorscale\":[[0.0,\"#0d0887\"],[0.1111111111111111,\"#46039f\"],[0.2222222222222222,\"#7201a8\"],[0.3333333333333333,\"#9c179e\"],[0.4444444444444444,\"#bd3786\"],[0.5555555555555556,\"#d8576b\"],[0.6666666666666666,\"#ed7953\"],[0.7777777777777778,\"#fb9f3a\"],[0.8888888888888888,\"#fdca26\"],[1.0,\"#f0f921\"]]}],\"choropleth\":[{\"type\":\"choropleth\",\"colorbar\":{\"outlinewidth\":0,\"ticks\":\"\"}}],\"histogram2d\":[{\"type\":\"histogram2d\",\"colorbar\":{\"outlinewidth\":0,\"ticks\":\"\"},\"colorscale\":[[0.0,\"#0d0887\"],[0.1111111111111111,\"#46039f\"],[0.2222222222222222,\"#7201a8\"],[0.3333333333333333,\"#9c179e\"],[0.4444444444444444,\"#bd3786\"],[0.5555555555555556,\"#d8576b\"],[0.6666666666666666,\"#ed7953\"],[0.7777777777777778,\"#fb9f3a\"],[0.8888888888888888,\"#fdca26\"],[1.0,\"#f0f921\"]]}],\"heatmap\":[{\"type\":\"heatmap\",\"colorbar\":{\"outlinewidth\":0,\"ticks\":\"\"},\"colorscale\":[[0.0,\"#0d0887\"],[0.1111111111111111,\"#46039f\"],[0.2222222222222222,\"#7201a8\"],[0.3333333333333333,\"#9c179e\"],[0.4444444444444444,\"#bd3786\"],[0.5555555555555556,\"#d8576b\"],[0.6666666666666666,\"#ed7953\"],[0.7777777777777778,\"#fb9f3a\"],[0.8888888888888888,\"#fdca26\"],[1.0,\"#f0f921\"]]}],\"heatmapgl\":[{\"type\":\"heatmapgl\",\"colorbar\":{\"outlinewidth\":0,\"ticks\":\"\"},\"colorscale\":[[0.0,\"#0d0887\"],[0.1111111111111111,\"#46039f\"],[0.2222222222222222,\"#7201a8\"],[0.3333333333333333,\"#9c179e\"],[0.4444444444444444,\"#bd3786\"],[0.5555555555555556,\"#d8576b\"],[0.6666666666666666,\"#ed7953\"],[0.7777777777777778,\"#fb9f3a\"],[0.8888888888888888,\"#fdca26\"],[1.0,\"#f0f921\"]]}],\"contourcarpet\":[{\"type\":\"contourcarpet\",\"colorbar\":{\"outlinewidth\":0,\"ticks\":\"\"}}],\"contour\":[{\"type\":\"contour\",\"colorbar\":{\"outlinewidth\":0,\"ticks\":\"\"},\"colorscale\":[[0.0,\"#0d0887\"],[0.1111111111111111,\"#46039f\"],[0.2222222222222222,\"#7201a8\"],[0.3333333333333333,\"#9c179e\"],[0.4444444444444444,\"#bd3786\"],[0.5555555555555556,\"#d8576b\"],[0.6666666666666666,\"#ed7953\"],[0.7777777777777778,\"#fb9f3a\"],[0.8888888888888888,\"#fdca26\"],[1.0,\"#f0f921\"]]}],\"surface\":[{\"type\":\"surface\",\"colorbar\":{\"outlinewidth\":0,\"ticks\":\"\"},\"colorscale\":[[0.0,\"#0d0887\"],[0.1111111111111111,\"#46039f\"],[0.2222222222222222,\"#7201a8\"],[0.3333333333333333,\"#9c179e\"],[0.4444444444444444,\"#bd3786\"],[0.5555555555555556,\"#d8576b\"],[0.6666666666666666,\"#ed7953\"],[0.7777777777777778,\"#fb9f3a\"],[0.8888888888888888,\"#fdca26\"],[1.0,\"#f0f921\"]]}],\"mesh3d\":[{\"type\":\"mesh3d\",\"colorbar\":{\"outlinewidth\":0,\"ticks\":\"\"}}],\"scatter\":[{\"fillpattern\":{\"fillmode\":\"overlay\",\"size\":10,\"solidity\":0.2},\"type\":\"scatter\"}],\"parcoords\":[{\"type\":\"parcoords\",\"line\":{\"colorbar\":{\"outlinewidth\":0,\"ticks\":\"\"}}}],\"scatterpolargl\":[{\"type\":\"scatterpolargl\",\"marker\":{\"colorbar\":{\"outlinewidth\":0,\"ticks\":\"\"}}}],\"bar\":[{\"error_x\":{\"color\":\"#2a3f5f\"},\"error_y\":{\"color\":\"#2a3f5f\"},\"marker\":{\"line\":{\"color\":\"#E5ECF6\",\"width\":0.5},\"pattern\":{\"fillmode\":\"overlay\",\"size\":10,\"solidity\":0.2}},\"type\":\"bar\"}],\"scattergeo\":[{\"type\":\"scattergeo\",\"marker\":{\"colorbar\":{\"outlinewidth\":0,\"ticks\":\"\"}}}],\"scatterpolar\":[{\"type\":\"scatterpolar\",\"marker\":{\"colorbar\":{\"outlinewidth\":0,\"ticks\":\"\"}}}],\"histogram\":[{\"marker\":{\"pattern\":{\"fillmode\":\"overlay\",\"size\":10,\"solidity\":0.2}},\"type\":\"histogram\"}],\"scattergl\":[{\"type\":\"scattergl\",\"marker\":{\"colorbar\":{\"outlinewidth\":0,\"ticks\":\"\"}}}],\"scatter3d\":[{\"type\":\"scatter3d\",\"line\":{\"colorbar\":{\"outlinewidth\":0,\"ticks\":\"\"}},\"marker\":{\"colorbar\":{\"outlinewidth\":0,\"ticks\":\"\"}}}],\"scattermapbox\":[{\"type\":\"scattermapbox\",\"marker\":{\"colorbar\":{\"outlinewidth\":0,\"ticks\":\"\"}}}],\"scatterternary\":[{\"type\":\"scatterternary\",\"marker\":{\"colorbar\":{\"outlinewidth\":0,\"ticks\":\"\"}}}],\"scattercarpet\":[{\"type\":\"scattercarpet\",\"marker\":{\"colorbar\":{\"outlinewidth\":0,\"ticks\":\"\"}}}],\"carpet\":[{\"aaxis\":{\"endlinecolor\":\"#2a3f5f\",\"gridcolor\":\"white\",\"linecolor\":\"white\",\"minorgridcolor\":\"white\",\"startlinecolor\":\"#2a3f5f\"},\"baxis\":{\"endlinecolor\":\"#2a3f5f\",\"gridcolor\":\"white\",\"linecolor\":\"white\",\"minorgridcolor\":\"white\",\"startlinecolor\":\"#2a3f5f\"},\"type\":\"carpet\"}],\"table\":[{\"cells\":{\"fill\":{\"color\":\"#EBF0F8\"},\"line\":{\"color\":\"white\"}},\"header\":{\"fill\":{\"color\":\"#C8D4E3\"},\"line\":{\"color\":\"white\"}},\"type\":\"table\"}],\"barpolar\":[{\"marker\":{\"line\":{\"color\":\"#E5ECF6\",\"width\":0.5},\"pattern\":{\"fillmode\":\"overlay\",\"size\":10,\"solidity\":0.2}},\"type\":\"barpolar\"}],\"pie\":[{\"automargin\":true,\"type\":\"pie\"}]},\"layout\":{\"autotypenumbers\":\"strict\",\"colorway\":[\"#636efa\",\"#EF553B\",\"#00cc96\",\"#ab63fa\",\"#FFA15A\",\"#19d3f3\",\"#FF6692\",\"#B6E880\",\"#FF97FF\",\"#FECB52\"],\"font\":{\"color\":\"#2a3f5f\"},\"hovermode\":\"closest\",\"hoverlabel\":{\"align\":\"left\"},\"paper_bgcolor\":\"white\",\"plot_bgcolor\":\"#E5ECF6\",\"polar\":{\"bgcolor\":\"#E5ECF6\",\"angularaxis\":{\"gridcolor\":\"white\",\"linecolor\":\"white\",\"ticks\":\"\"},\"radialaxis\":{\"gridcolor\":\"white\",\"linecolor\":\"white\",\"ticks\":\"\"}},\"ternary\":{\"bgcolor\":\"#E5ECF6\",\"aaxis\":{\"gridcolor\":\"white\",\"linecolor\":\"white\",\"ticks\":\"\"},\"baxis\":{\"gridcolor\":\"white\",\"linecolor\":\"white\",\"ticks\":\"\"},\"caxis\":{\"gridcolor\":\"white\",\"linecolor\":\"white\",\"ticks\":\"\"}},\"coloraxis\":{\"colorbar\":{\"outlinewidth\":0,\"ticks\":\"\"}},\"colorscale\":{\"sequential\":[[0.0,\"#0d0887\"],[0.1111111111111111,\"#46039f\"],[0.2222222222222222,\"#7201a8\"],[0.3333333333333333,\"#9c179e\"],[0.4444444444444444,\"#bd3786\"],[0.5555555555555556,\"#d8576b\"],[0.6666666666666666,\"#ed7953\"],[0.7777777777777778,\"#fb9f3a\"],[0.8888888888888888,\"#fdca26\"],[1.0,\"#f0f921\"]],\"sequentialminus\":[[0.0,\"#0d0887\"],[0.1111111111111111,\"#46039f\"],[0.2222222222222222,\"#7201a8\"],[0.3333333333333333,\"#9c179e\"],[0.4444444444444444,\"#bd3786\"],[0.5555555555555556,\"#d8576b\"],[0.6666666666666666,\"#ed7953\"],[0.7777777777777778,\"#fb9f3a\"],[0.8888888888888888,\"#fdca26\"],[1.0,\"#f0f921\"]],\"diverging\":[[0,\"#8e0152\"],[0.1,\"#c51b7d\"],[0.2,\"#de77ae\"],[0.3,\"#f1b6da\"],[0.4,\"#fde0ef\"],[0.5,\"#f7f7f7\"],[0.6,\"#e6f5d0\"],[0.7,\"#b8e186\"],[0.8,\"#7fbc41\"],[0.9,\"#4d9221\"],[1,\"#276419\"]]},\"xaxis\":{\"gridcolor\":\"white\",\"linecolor\":\"white\",\"ticks\":\"\",\"title\":{\"standoff\":15},\"zerolinecolor\":\"white\",\"automargin\":true,\"zerolinewidth\":2},\"yaxis\":{\"gridcolor\":\"white\",\"linecolor\":\"white\",\"ticks\":\"\",\"title\":{\"standoff\":15},\"zerolinecolor\":\"white\",\"automargin\":true,\"zerolinewidth\":2},\"scene\":{\"xaxis\":{\"backgroundcolor\":\"#E5ECF6\",\"gridcolor\":\"white\",\"linecolor\":\"white\",\"showbackground\":true,\"ticks\":\"\",\"zerolinecolor\":\"white\",\"gridwidth\":2},\"yaxis\":{\"backgroundcolor\":\"#E5ECF6\",\"gridcolor\":\"white\",\"linecolor\":\"white\",\"showbackground\":true,\"ticks\":\"\",\"zerolinecolor\":\"white\",\"gridwidth\":2},\"zaxis\":{\"backgroundcolor\":\"#E5ECF6\",\"gridcolor\":\"white\",\"linecolor\":\"white\",\"showbackground\":true,\"ticks\":\"\",\"zerolinecolor\":\"white\",\"gridwidth\":2}},\"shapedefaults\":{\"line\":{\"color\":\"#2a3f5f\"}},\"annotationdefaults\":{\"arrowcolor\":\"#2a3f5f\",\"arrowhead\":0,\"arrowwidth\":1},\"geo\":{\"bgcolor\":\"white\",\"landcolor\":\"#E5ECF6\",\"subunitcolor\":\"white\",\"showland\":true,\"showlakes\":true,\"lakecolor\":\"white\"},\"title\":{\"x\":0.05},\"mapbox\":{\"style\":\"light\"}}},\"geo\":{\"domain\":{\"x\":[0.0,1.0],\"y\":[0.0,1.0]},\"center\":{},\"scope\":\"africa\"},\"coloraxis\":{\"colorbar\":{\"title\":{\"text\":\"Incidence rate\"}},\"colorscale\":[[0.0,\"rgb(247,251,255)\"],[0.125,\"rgb(222,235,247)\"],[0.25,\"rgb(198,219,239)\"],[0.375,\"rgb(158,202,225)\"],[0.5,\"rgb(107,174,214)\"],[0.625,\"rgb(66,146,198)\"],[0.75,\"rgb(33,113,181)\"],[0.875,\"rgb(8,81,156)\"],[1.0,\"rgb(8,48,107)\"]]},\"legend\":{\"tracegroupgap\":0},\"title\":{\"text\":\"Incidence of Malaria at risk in Africa\"},\"updatemenus\":[{\"buttons\":[{\"args\":[null,{\"frame\":{\"duration\":500,\"redraw\":true},\"mode\":\"immediate\",\"fromcurrent\":true,\"transition\":{\"duration\":500,\"easing\":\"linear\"}}],\"label\":\"&#9654;\",\"method\":\"animate\"},{\"args\":[[null],{\"frame\":{\"duration\":0,\"redraw\":true},\"mode\":\"immediate\",\"fromcurrent\":true,\"transition\":{\"duration\":0,\"easing\":\"linear\"}}],\"label\":\"&#9724;\",\"method\":\"animate\"}],\"direction\":\"left\",\"pad\":{\"r\":10,\"t\":70},\"showactive\":false,\"type\":\"buttons\",\"x\":0.1,\"xanchor\":\"right\",\"y\":0,\"yanchor\":\"top\"}],\"sliders\":[{\"active\":0,\"currentvalue\":{\"prefix\":\"Year=\"},\"len\":0.9,\"pad\":{\"b\":10,\"t\":60},\"steps\":[{\"args\":[[\"2007-01-01\"],{\"frame\":{\"duration\":0,\"redraw\":true},\"mode\":\"immediate\",\"fromcurrent\":true,\"transition\":{\"duration\":0,\"easing\":\"linear\"}}],\"label\":\"2007-01-01\",\"method\":\"animate\"},{\"args\":[[\"2008-01-01\"],{\"frame\":{\"duration\":0,\"redraw\":true},\"mode\":\"immediate\",\"fromcurrent\":true,\"transition\":{\"duration\":0,\"easing\":\"linear\"}}],\"label\":\"2008-01-01\",\"method\":\"animate\"},{\"args\":[[\"2009-01-01\"],{\"frame\":{\"duration\":0,\"redraw\":true},\"mode\":\"immediate\",\"fromcurrent\":true,\"transition\":{\"duration\":0,\"easing\":\"linear\"}}],\"label\":\"2009-01-01\",\"method\":\"animate\"},{\"args\":[[\"2010-01-01\"],{\"frame\":{\"duration\":0,\"redraw\":true},\"mode\":\"immediate\",\"fromcurrent\":true,\"transition\":{\"duration\":0,\"easing\":\"linear\"}}],\"label\":\"2010-01-01\",\"method\":\"animate\"},{\"args\":[[\"2011-01-01\"],{\"frame\":{\"duration\":0,\"redraw\":true},\"mode\":\"immediate\",\"fromcurrent\":true,\"transition\":{\"duration\":0,\"easing\":\"linear\"}}],\"label\":\"2011-01-01\",\"method\":\"animate\"},{\"args\":[[\"2012-01-01\"],{\"frame\":{\"duration\":0,\"redraw\":true},\"mode\":\"immediate\",\"fromcurrent\":true,\"transition\":{\"duration\":0,\"easing\":\"linear\"}}],\"label\":\"2012-01-01\",\"method\":\"animate\"},{\"args\":[[\"2013-01-01\"],{\"frame\":{\"duration\":0,\"redraw\":true},\"mode\":\"immediate\",\"fromcurrent\":true,\"transition\":{\"duration\":0,\"easing\":\"linear\"}}],\"label\":\"2013-01-01\",\"method\":\"animate\"},{\"args\":[[\"2014-01-01\"],{\"frame\":{\"duration\":0,\"redraw\":true},\"mode\":\"immediate\",\"fromcurrent\":true,\"transition\":{\"duration\":0,\"easing\":\"linear\"}}],\"label\":\"2014-01-01\",\"method\":\"animate\"},{\"args\":[[\"2015-01-01\"],{\"frame\":{\"duration\":0,\"redraw\":true},\"mode\":\"immediate\",\"fromcurrent\":true,\"transition\":{\"duration\":0,\"easing\":\"linear\"}}],\"label\":\"2015-01-01\",\"method\":\"animate\"},{\"args\":[[\"2016-01-01\"],{\"frame\":{\"duration\":0,\"redraw\":true},\"mode\":\"immediate\",\"fromcurrent\":true,\"transition\":{\"duration\":0,\"easing\":\"linear\"}}],\"label\":\"2016-01-01\",\"method\":\"animate\"},{\"args\":[[\"2017-01-01\"],{\"frame\":{\"duration\":0,\"redraw\":true},\"mode\":\"immediate\",\"fromcurrent\":true,\"transition\":{\"duration\":0,\"easing\":\"linear\"}}],\"label\":\"2017-01-01\",\"method\":\"animate\"}],\"x\":0.1,\"xanchor\":\"left\",\"y\":0,\"yanchor\":\"top\"}]},                        {\"responsive\": true}                    ).then(function(){\n",
       "                            Plotly.addFrames('4d12e824-ac2c-425f-8843-4d8c3c3f5bdb', [{\"data\":[{\"coloraxis\":\"coloraxis\",\"geo\":\"geo\",\"hovertemplate\":\"Year=2007-01-01<br>Country Code=%{location}<br>Incidence rate=%{z}<extra></extra>\",\"locationmode\":\"ISO-3\",\"locations\":[\"DZA\",\"AGO\",\"BEN\",\"BWA\",\"BFA\",\"BDI\",\"CPV\",\"CMR\",\"CAF\",\"TCD\",\"COM\",\"COD\",\"COG\",\"CIV\",\"DJI\",\"EGY\",\"GNQ\",\"ERI\",\"SWZ\",\"ETH\",\"GAB\",\"GMB\",\"GHA\",\"GIN\",\"GNB\",\"KEN\",\"LSO\",\"LBR\",\"LBY\",\"MDG\",\"MWI\",\"MLI\",\"MRT\",\"MUS\",\"MAR\",\"MOZ\",\"NAM\",\"NER\",\"NGA\",\"RWA\",\"STP\",\"SEN\",\"SYC\",\"SLE\",\"SOM\",\"ZAF\",\"SSD\",\"SDN\",\"TZA\",\"TGO\",\"TUN\",\"UGA\",\"ZMB\",\"ZWE\"],\"name\":\"\",\"z\":[0.01,286.72,480.24,1.03,503.8,222.92,0.15,386.68,471.11,210.71,60.65,481.93,281.83,509.98,3.84,0.0,398.15,12.54,0.29,121.69,110.66,316.01,322.33,343.69,72.81,78.02,0.0,383.18,0.0,22.78,370.08,388.81,70.77,0.0,0.0,399.45,12.97,386.68,421.33,90.64,14.56,101.91,0.0,379.94,100.56,1.29,276.75,41.08,184.53,434.49,0.0,377.94,195.74,175.12],\"type\":\"choropleth\"}],\"name\":\"2007-01-01\"},{\"data\":[{\"coloraxis\":\"coloraxis\",\"geo\":\"geo\",\"hovertemplate\":\"Year=2008-01-01<br>Country Code=%{location}<br>Incidence rate=%{z}<extra></extra>\",\"locationmode\":\"ISO-3\",\"locations\":[\"DZA\",\"AGO\",\"BEN\",\"BWA\",\"BFA\",\"BDI\",\"CPV\",\"CMR\",\"CAF\",\"COM\",\"TCD\",\"COD\",\"COG\",\"CIV\",\"DJI\",\"EGY\",\"GNQ\",\"ERI\",\"SWZ\",\"ETH\",\"GAB\",\"GMB\",\"GHA\",\"GIN\",\"GNB\",\"KEN\",\"LSO\",\"LBR\",\"LBY\",\"MDG\",\"MWI\",\"MLI\",\"MRT\",\"MUS\",\"MAR\",\"MOZ\",\"NAM\",\"NER\",\"NGA\",\"RWA\",\"STP\",\"SEN\",\"SYC\",\"SLE\",\"SOM\",\"ZAF\",\"SSD\",\"SDN\",\"TZA\",\"TGO\",\"TUN\",\"UGA\",\"ZMB\",\"ZWE\"],\"name\":\"\",\"z\":[0.0,241.19,453.17,1.93,533.39,222.77,0.28,358.72,461.79,59.21,215.1,471.43,249.16,510.08,3.74,0.0,378.24,6.78,0.2,90.66,118.87,306.84,333.72,370.17,89.02,67.68,0.0,383.33,0.0,23.47,392.0,379.06,61.14,0.0,0.0,399.79,7.46,409.1,424.66,72.03,36.57,86.42,0.0,413.85,63.1,1.57,267.14,35.05,171.0,379.9,0.0,410.46,176.72,74.73],\"type\":\"choropleth\"}],\"name\":\"2008-01-01\"},{\"data\":[{\"coloraxis\":\"coloraxis\",\"geo\":\"geo\",\"hovertemplate\":\"Year=2009-01-01<br>Country Code=%{location}<br>Incidence rate=%{z}<extra></extra>\",\"locationmode\":\"ISO-3\",\"locations\":[\"DZA\",\"AGO\",\"BEN\",\"BWA\",\"BFA\",\"BDI\",\"CPV\",\"CMR\",\"CAF\",\"TCD\",\"COM\",\"COD\",\"COG\",\"CIV\",\"DJI\",\"EGY\",\"GNQ\",\"ERI\",\"SWZ\",\"ETH\",\"GAB\",\"GMB\",\"GHA\",\"GIN\",\"GNB\",\"KEN\",\"LSO\",\"LBR\",\"LBY\",\"MDG\",\"MWI\",\"MLI\",\"MRT\",\"MUS\",\"MAR\",\"MOZ\",\"NAM\",\"NER\",\"NGA\",\"RWA\",\"STP\",\"SEN\",\"SYC\",\"SLE\",\"SOM\",\"ZAF\",\"SSD\",\"SDN\",\"TZA\",\"TGO\",\"TUN\",\"UGA\",\"ZMB\",\"ZWE\"],\"name\":\"\",\"z\":[0.0,204.35,417.96,2.1,552.03,220.65,0.51,322.98,448.45,222.91,57.81,452.18,226.32,494.48,4.33,0.0,351.29,8.86,0.36,123.35,145.95,297.98,351.39,398.14,113.8,67.94,0.0,368.81,0.0,42.92,394.29,374.56,31.64,0.0,0.0,402.3,3.36,419.1,416.59,158.16,35.15,57.12,0.0,442.15,38.44,1.2,255.07,32.29,157.11,326.88,0.0,433.79,172.0,90.5],\"type\":\"choropleth\"}],\"name\":\"2009-01-01\"},{\"data\":[{\"coloraxis\":\"coloraxis\",\"geo\":\"geo\",\"hovertemplate\":\"Year=2010-01-01<br>Country Code=%{location}<br>Incidence rate=%{z}<extra></extra>\",\"locationmode\":\"ISO-3\",\"locations\":[\"DZA\",\"AGO\",\"BEN\",\"BWA\",\"BFA\",\"BDI\",\"CPV\",\"CMR\",\"CAF\",\"TCD\",\"COM\",\"COD\",\"COG\",\"CIV\",\"DJI\",\"EGY\",\"GNQ\",\"ERI\",\"SWZ\",\"ETH\",\"GAB\",\"GMB\",\"GHA\",\"GIN\",\"GNB\",\"KEN\",\"LSO\",\"LBR\",\"LBY\",\"MDG\",\"MWI\",\"MLI\",\"MRT\",\"MUS\",\"MAR\",\"MOZ\",\"NAM\",\"NER\",\"NGA\",\"RWA\",\"STP\",\"SEN\",\"SYC\",\"SLE\",\"SOM\",\"ZAF\",\"SSD\",\"SDN\",\"TZA\",\"TGO\",\"TUN\",\"UGA\",\"ZMB\",\"ZWE\"],\"name\":\"\",\"z\":[0.0,185.52,387.76,1.69,551.24,210.2,0.37,295.53,434.51,225.94,52.98,428.31,220.92,469.27,1.6,0.0,339.99,26.33,0.9,128.4,177.82,289.27,364.15,414.66,134.37,67.71,0.0,345.77,0.0,42.24,386.02,383.6,38.83,0.0,0.0,398.41,1.54,425.64,398.9,126.31,15.19,59.28,0.0,458.74,29.59,1.57,243.97,30.66,145.46,308.88,0.0,417.35,177.02,109.43],\"type\":\"choropleth\"}],\"name\":\"2010-01-01\"},{\"data\":[{\"coloraxis\":\"coloraxis\",\"geo\":\"geo\",\"hovertemplate\":\"Year=2011-01-01<br>Country Code=%{location}<br>Incidence rate=%{z}<extra></extra>\",\"locationmode\":\"ISO-3\",\"locations\":[\"DZA\",\"AGO\",\"BEN\",\"BWA\",\"BFA\",\"BDI\",\"CPV\",\"CMR\",\"CAF\",\"TCD\",\"COM\",\"COD\",\"COG\",\"CIV\",\"DJI\",\"EGY\",\"GNQ\",\"ERI\",\"SWZ\",\"ETH\",\"GAB\",\"GMB\",\"GHA\",\"GIN\",\"GNB\",\"KEN\",\"LSO\",\"LBR\",\"LBY\",\"MDG\",\"MWI\",\"MLI\",\"MRT\",\"MUS\",\"MAR\",\"MOZ\",\"NAM\",\"NER\",\"NGA\",\"RWA\",\"STP\",\"SEN\",\"SYC\",\"SLE\",\"SOM\",\"ZAF\",\"SSD\",\"SDN\",\"TZA\",\"TGO\",\"TUN\",\"UGA\",\"ZMB\",\"ZWE\"],\"name\":\"\",\"z\":[0.0,175.99,370.11,0.51,539.56,184.15,0.05,265.1,419.33,210.48,35.18,399.59,224.38,442.11,3.42,0.0,342.4,23.86,1.83,116.13,212.72,257.26,379.52,426.9,140.55,67.86,0.0,330.41,0.0,36.55,362.78,404.73,47.58,0.0,0.0,389.92,2.13,427.88,372.56,39.29,45.75,49.91,0.0,453.65,24.35,1.9,235.87,29.97,132.48,313.4,0.0,385.7,186.7,70.68],\"type\":\"choropleth\"}],\"name\":\"2011-01-01\"},{\"data\":[{\"coloraxis\":\"coloraxis\",\"geo\":\"geo\",\"hovertemplate\":\"Year=2012-01-01<br>Country Code=%{location}<br>Incidence rate=%{z}<extra></extra>\",\"locationmode\":\"ISO-3\",\"locations\":[\"DZA\",\"AGO\",\"BEN\",\"BWA\",\"BFA\",\"BDI\",\"CPV\",\"CMR\",\"CAF\",\"TCD\",\"COM\",\"COD\",\"COG\",\"CIV\",\"DJI\",\"EGY\",\"GNQ\",\"ERI\",\"SWZ\",\"ETH\",\"GAB\",\"GMB\",\"GHA\",\"GIN\",\"GNB\",\"KEN\",\"LSO\",\"LBR\",\"LBY\",\"MDG\",\"MWI\",\"MLI\",\"MRT\",\"MUS\",\"MAR\",\"MOZ\",\"NAM\",\"NER\",\"NGA\",\"RWA\",\"STP\",\"SEN\",\"SYC\",\"SLE\",\"SOM\",\"ZAF\",\"SSD\",\"SDN\",\"TZA\",\"TGO\",\"TUN\",\"UGA\",\"ZMB\",\"ZWE\"],\"name\":\"\",\"z\":[0.03,174.43,378.03,0.22,527.54,153.93,0.01,245.13,413.09,195.34,68.85,363.0,224.63,396.28,3.31,0.0,357.75,16.15,1.86,116.19,245.53,274.82,374.29,427.8,128.75,73.36,0.0,307.9,0.0,71.36,314.02,435.65,28.42,0.0,0.0,381.78,3.36,430.51,347.74,71.46,56.8,56.92,0.0,447.47,24.45,1.25,232.68,30.16,116.25,349.7,0.0,331.77,203.08,57.22],\"type\":\"choropleth\"}],\"name\":\"2012-01-01\"},{\"data\":[{\"coloraxis\":\"coloraxis\",\"geo\":\"geo\",\"hovertemplate\":\"Year=2013-01-01<br>Country Code=%{location}<br>Incidence rate=%{z}<extra></extra>\",\"locationmode\":\"ISO-3\",\"locations\":[\"DZA\",\"AGO\",\"BEN\",\"BWA\",\"BFA\",\"BDI\",\"CPV\",\"CMR\",\"CAF\",\"TCD\",\"COM\",\"COD\",\"COG\",\"CIV\",\"DJI\",\"EGY\",\"GNQ\",\"ERI\",\"SWZ\",\"ETH\",\"GAB\",\"GMB\",\"GHA\",\"GIN\",\"GNB\",\"KEN\",\"LSO\",\"LBR\",\"LBY\",\"MDG\",\"MWI\",\"MLI\",\"MRT\",\"MUS\",\"MAR\",\"MOZ\",\"NAM\",\"NER\",\"NGA\",\"RWA\",\"STP\",\"SEN\",\"SYC\",\"SLE\",\"SOM\",\"ZAF\",\"SSD\",\"SDN\",\"TZA\",\"TGO\",\"TUN\",\"UGA\",\"ZMB\",\"ZWE\"],\"name\":\"\",\"z\":[0.0,180.9,395.0,0.53,487.52,140.59,0.17,243.04,406.82,179.35,71.69,327.62,231.03,338.87,2.54,0.0,365.75,15.03,3.16,111.6,272.83,236.99,349.28,408.08,113.39,82.48,0.0,317.28,0.0,65.21,267.86,452.82,33.22,0.0,0.0,376.98,4.55,420.49,328.65,121.45,48.12,67.9,0.0,432.7,28.05,1.61,234.38,31.45,111.78,385.39,0.0,254.24,225.77,81.95],\"type\":\"choropleth\"}],\"name\":\"2013-01-01\"},{\"data\":[{\"coloraxis\":\"coloraxis\",\"geo\":\"geo\",\"hovertemplate\":\"Year=2014-01-01<br>Country Code=%{location}<br>Incidence rate=%{z}<extra></extra>\",\"locationmode\":\"ISO-3\",\"locations\":[\"DZA\",\"AGO\",\"BEN\",\"BWA\",\"BFA\",\"BDI\",\"CPV\",\"CMR\",\"CAF\",\"TCD\",\"COM\",\"COD\",\"COG\",\"CIV\",\"DJI\",\"EGY\",\"GNQ\",\"ERI\",\"SWZ\",\"ETH\",\"GAB\",\"GMB\",\"GHA\",\"GIN\",\"GNB\",\"KEN\",\"LSO\",\"LBR\",\"LBY\",\"MDG\",\"MWI\",\"MLI\",\"MRT\",\"MUS\",\"MAR\",\"MOZ\",\"NAM\",\"NER\",\"NGA\",\"RWA\",\"STP\",\"SEN\",\"SYC\",\"SLE\",\"SOM\",\"ZAF\",\"SSD\",\"SDN\",\"TZA\",\"TGO\",\"TUN\",\"UGA\",\"ZMB\",\"ZWE\"],\"name\":\"\",\"z\":[0.0,187.94,399.24,1.5,436.06,141.51,0.19,244.08,393.04,170.27,2.9,308.39,231.85,315.07,14.01,0.0,360.95,33.12,2.32,57.1,285.74,142.02,315.76,381.09,93.9,83.87,0.0,337.57,0.0,45.78,237.0,441.01,49.2,0.0,0.0,364.83,14.49,400.25,314.4,219.81,8.96,39.51,0.0,409.31,32.1,2.15,236.14,33.38,118.94,384.68,0.0,220.62,222.98,101.89],\"type\":\"choropleth\"}],\"name\":\"2014-01-01\"},{\"data\":[{\"coloraxis\":\"coloraxis\",\"geo\":\"geo\",\"hovertemplate\":\"Year=2015-01-01<br>Country Code=%{location}<br>Incidence rate=%{z}<extra></extra>\",\"locationmode\":\"ISO-3\",\"locations\":[\"DZA\",\"AGO\",\"BEN\",\"BWA\",\"BFA\",\"BDI\",\"CPV\",\"CMR\",\"CAF\",\"TCD\",\"COM\",\"COD\",\"COG\",\"CIV\",\"DJI\",\"EGY\",\"GNQ\",\"ERI\",\"SWZ\",\"ETH\",\"GAB\",\"GMB\",\"GHA\",\"GIN\",\"GNB\",\"KEN\",\"LSO\",\"LBR\",\"LBY\",\"MDG\",\"MWI\",\"MLI\",\"MRT\",\"MUS\",\"MAR\",\"MOZ\",\"NAM\",\"NER\",\"NGA\",\"RWA\",\"STP\",\"SEN\",\"SYC\",\"SLE\",\"SOM\",\"ZAF\",\"SSD\",\"SDN\",\"TZA\",\"TGO\",\"TUN\",\"UGA\",\"ZMB\",\"ZWE\"],\"name\":\"\",\"z\":[0.0,199.99,411.82,0.37,400.09,165.5,0.05,254.5,379.91,167.28,1.67,308.83,226.71,320.04,13.82,0.0,339.48,19.2,0.51,52.77,284.44,195.04,277.19,356.64,79.77,72.17,0.0,346.97,0.0,97.32,217.04,391.83,61.61,0.0,0.0,355.88,10.88,369.83,296.08,341.96,10.32,69.8,0.0,403.72,37.27,0.21,240.36,35.88,121.74,364.31,0.0,236.11,202.55,97.65],\"type\":\"choropleth\"}],\"name\":\"2015-01-01\"},{\"data\":[{\"coloraxis\":\"coloraxis\",\"geo\":\"geo\",\"hovertemplate\":\"Year=2016-01-01<br>Country Code=%{location}<br>Incidence rate=%{z}<extra></extra>\",\"locationmode\":\"ISO-3\",\"locations\":[\"DZA\",\"AGO\",\"BEN\",\"BWA\",\"BFA\",\"BDI\",\"CPV\",\"CMR\",\"CAF\",\"TCD\",\"COM\",\"COD\",\"COG\",\"CIV\",\"DJI\",\"EGY\",\"GNQ\",\"ERI\",\"SWZ\",\"ETH\",\"GAB\",\"GMB\",\"GHA\",\"GIN\",\"GNB\",\"KEN\",\"LSO\",\"LBR\",\"LBY\",\"MDG\",\"MWI\",\"MLI\",\"MRT\",\"MUS\",\"MAR\",\"MOZ\",\"NAM\",\"NER\",\"NGA\",\"RWA\",\"STP\",\"SEN\",\"SYC\",\"SLE\",\"SOM\",\"ZAF\",\"SSD\",\"SDN\",\"TZA\",\"TGO\",\"TUN\",\"UGA\",\"ZMB\",\"ZWE\"],\"name\":\"\",\"z\":[0.0,219.99,421.58,0.81,401.73,225.74,0.35,264.31,362.02,169.93,1.44,322.77,233.38,354.66,19.81,0.0,306.97,25.64,1.12,41.41,270.67,116.53,236.0,331.47,71.35,70.38,0.0,386.3,0.0,56.58,210.66,384.22,71.5,0.0,0.0,344.82,22.12,358.74,281.38,585.54,11.01,45.66,0.0,391.33,37.26,0.77,244.55,41.73,123.57,324.86,0.0,304.41,181.39,65.78],\"type\":\"choropleth\"}],\"name\":\"2016-01-01\"},{\"data\":[{\"coloraxis\":\"coloraxis\",\"geo\":\"geo\",\"hovertemplate\":\"Year=2017-01-01<br>Country Code=%{location}<br>Incidence rate=%{z}<extra></extra>\",\"locationmode\":\"ISO-3\",\"locations\":[\"DZA\",\"AGO\",\"BEN\",\"BWA\",\"BFA\",\"BDI\",\"CPV\",\"CMR\",\"CAF\",\"TCD\",\"COM\",\"COD\",\"COG\",\"CIV\",\"DJI\",\"EGY\",\"GNQ\",\"ERI\",\"SWZ\",\"ETH\",\"GAB\",\"GMB\",\"GHA\",\"GIN\",\"GNB\",\"KEN\",\"LSO\",\"LBR\",\"LBY\",\"MDG\",\"MWI\",\"MLI\",\"MRT\",\"MUS\",\"MAR\",\"MOZ\",\"NAM\",\"NER\",\"NGA\",\"RWA\",\"STP\",\"SEN\",\"SYC\",\"SLE\",\"SOM\",\"ZAF\",\"SSD\",\"SDN\",\"TZA\",\"TGO\",\"TUN\",\"UGA\",\"ZMB\",\"ZWE\"],\"name\":\"\",\"z\":[0.0,228.91,399.56,2.05,399.94,250.27,3.03,262.23,347.33,172.3,3.97,329.13,240.64,362.36,20.72,0.0,285.72,33.97,2.3,36.74,254.24,53.02,212.56,311.53,78.33,70.1,0.0,401.11,0.0,75.67,216.26,386.78,55.49,0.0,0.0,326.4,46.75,356.57,283.06,538.34,10.81,52.35,0.0,364.13,37.13,3.95,245.8,46.75,123.96,278.2,0.0,336.76,160.05,108.55],\"type\":\"choropleth\"}],\"name\":\"2017-01-01\"}]);\n",
       "                        }).then(function(){\n",
       "                            \n",
       "var gd = document.getElementById('4d12e824-ac2c-425f-8843-4d8c3c3f5bdb');\n",
       "var x = new MutationObserver(function (mutations, observer) {{\n",
       "        var display = window.getComputedStyle(gd).display;\n",
       "        if (!display || display === 'none') {{\n",
       "            console.log([gd, 'removed!']);\n",
       "            Plotly.purge(gd);\n",
       "            observer.disconnect();\n",
       "        }}\n",
       "}});\n",
       "\n",
       "// Listen for the removal of the full notebook cells\n",
       "var notebookContainer = gd.closest('#notebook-container');\n",
       "if (notebookContainer) {{\n",
       "    x.observe(notebookContainer, {childList: true});\n",
       "}}\n",
       "\n",
       "// Listen for the clearing of the current output cell\n",
       "var outputEl = gd.closest('.output');\n",
       "if (outputEl) {{\n",
       "    x.observe(outputEl, {childList: true});\n",
       "}}\n",
       "\n",
       "                        })                };                });            </script>        </div>"
      ]
     },
     "metadata": {},
     "output_type": "display_data"
    }
   ],
   "source": [
    "#Incidence of Malaria at risk\n",
    "fig1 = px.choropleth(df,locations=df['Country Code'],\n",
    "                     color=df['Incidence rate'],\n",
    "                     color_continuous_scale='Blues',\n",
    "                     locationmode='ISO-3',scope='africa',\n",
    "                     animation_frame=df['Year'],title=\"Incidence of Malaria at risk in Africa\",\n",
    "                     labels={'color':'Incidence of Malaria'})\n",
    "\n",
    "fig1.show()"
   ]
  },
  {
   "cell_type": "code",
   "execution_count": 43,
   "metadata": {},
   "outputs": [
    {
     "data": {
      "application/vnd.plotly.v1+json": {
       "config": {
        "plotlyServerURL": "https://plot.ly"
       },
       "data": [
        {
         "coloraxis": "coloraxis",
         "geo": "geo",
         "hovertemplate": "Year=2007-01-01<br>Country Code=%{location}<br>Malaria cases=%{z}<extra></extra>",
         "locationmode": "ISO-3",
         "locations": [
          "DZA",
          "AGO",
          "BEN",
          "BWA",
          "BFA",
          "BDI",
          "CPV",
          "CMR",
          "CAF",
          "TCD",
          "COM",
          "COD",
          "COG",
          "CIV",
          "DJI",
          "EGY",
          "GNQ",
          "ERI",
          "SWZ",
          "ETH",
          "GAB",
          "GMB",
          "GHA",
          "GIN",
          "GNB",
          "KEN",
          "LSO",
          "LBR",
          "LBY",
          "MDG",
          "MWI",
          "MLI",
          "MRT",
          "MUS",
          "MAR",
          "MOZ",
          "NAM",
          "NER",
          "NGA",
          "RWA",
          "STP",
          "SEN",
          "SYC",
          "SLE",
          "SOM",
          "ZAF",
          "SSD",
          "SDN",
          "TZA",
          "TGO",
          "TUN",
          "UGA",
          "ZMB",
          "ZWE"
         ],
         "name": "",
         "type": "choropleth",
         "z": [
          26,
          1533485,
          0,
          390,
          44246,
          1101644,
          18,
          0,
          0,
          48288,
          38913,
          740858,
          103213,
          0,
          2320,
          0,
          6287,
          15565,
          84,
          451816,
          45186,
          0,
          476484,
          44518,
          14284,
          0,
          0,
          492272,
          0,
          48497,
          0,
          0,
          0,
          0,
          0,
          141663,
          4242,
          268164,
          0,
          382686,
          2421,
          118332,
          0,
          0,
          16675,
          6327,
          0,
          686908,
          1845917,
          258716,
          0,
          1045378,
          0,
          116518
         ]
        }
       ],
       "frames": [
        {
         "data": [
          {
           "coloraxis": "coloraxis",
           "geo": "geo",
           "hovertemplate": "Year=2007-01-01<br>Country Code=%{location}<br>Malaria cases=%{z}<extra></extra>",
           "locationmode": "ISO-3",
           "locations": [
            "DZA",
            "AGO",
            "BEN",
            "BWA",
            "BFA",
            "BDI",
            "CPV",
            "CMR",
            "CAF",
            "TCD",
            "COM",
            "COD",
            "COG",
            "CIV",
            "DJI",
            "EGY",
            "GNQ",
            "ERI",
            "SWZ",
            "ETH",
            "GAB",
            "GMB",
            "GHA",
            "GIN",
            "GNB",
            "KEN",
            "LSO",
            "LBR",
            "LBY",
            "MDG",
            "MWI",
            "MLI",
            "MRT",
            "MUS",
            "MAR",
            "MOZ",
            "NAM",
            "NER",
            "NGA",
            "RWA",
            "STP",
            "SEN",
            "SYC",
            "SLE",
            "SOM",
            "ZAF",
            "SSD",
            "SDN",
            "TZA",
            "TGO",
            "TUN",
            "UGA",
            "ZMB",
            "ZWE"
           ],
           "name": "",
           "type": "choropleth",
           "z": [
            26,
            1533485,
            0,
            390,
            44246,
            1101644,
            18,
            0,
            0,
            48288,
            38913,
            740858,
            103213,
            0,
            2320,
            0,
            6287,
            15565,
            84,
            451816,
            45186,
            0,
            476484,
            44518,
            14284,
            0,
            0,
            492272,
            0,
            48497,
            0,
            0,
            0,
            0,
            0,
            141663,
            4242,
            268164,
            0,
            382686,
            2421,
            118332,
            0,
            0,
            16675,
            6327,
            0,
            686908,
            1845917,
            258716,
            0,
            1045378,
            0,
            116518
           ]
          }
         ],
         "name": "2007-01-01"
        },
        {
         "data": [
          {
           "coloraxis": "coloraxis",
           "geo": "geo",
           "hovertemplate": "Year=2008-01-01<br>Country Code=%{location}<br>Malaria cases=%{z}<extra></extra>",
           "locationmode": "ISO-3",
           "locations": [
            "DZA",
            "AGO",
            "BEN",
            "BWA",
            "BFA",
            "BDI",
            "CPV",
            "CMR",
            "CAF",
            "COM",
            "TCD",
            "COD",
            "COG",
            "CIV",
            "DJI",
            "EGY",
            "GNQ",
            "ERI",
            "SWZ",
            "ETH",
            "GAB",
            "GMB",
            "GHA",
            "GIN",
            "GNB",
            "KEN",
            "LSO",
            "LBR",
            "LBY",
            "MDG",
            "MWI",
            "MLI",
            "MRT",
            "MUS",
            "MAR",
            "MOZ",
            "NAM",
            "NER",
            "NGA",
            "RWA",
            "STP",
            "SEN",
            "SYC",
            "SLE",
            "SOM",
            "ZAF",
            "SSD",
            "SDN",
            "TZA",
            "TGO",
            "TUN",
            "UGA",
            "ZMB",
            "ZWE"
           ],
           "name": "",
           "type": "choropleth",
           "z": [
            3,
            1377992,
            0,
            927,
            36514,
            876741,
            35,
            0,
            0,
            38917,
            47757,
            2270,
            117291,
            3527,
            2289,
            0,
            9503,
            8764,
            58,
            458561,
            40701,
            39164,
            1094483,
            33405,
            11299,
            839903,
            0,
            606952,
            0,
            93234,
            0,
            0,
            302,
            0,
            0,
            120259,
            1092,
            682685,
            143079,
            316242,
            6258,
            241926,
            0,
            176356,
            36905,
            7796,
            52011,
            569296,
            4508,
            397283,
            0,
            979298,
            0,
            32788
           ]
          }
         ],
         "name": "2008-01-01"
        },
        {
         "data": [
          {
           "coloraxis": "coloraxis",
           "geo": "geo",
           "hovertemplate": "Year=2009-01-01<br>Country Code=%{location}<br>Malaria cases=%{z}<extra></extra>",
           "locationmode": "ISO-3",
           "locations": [
            "DZA",
            "AGO",
            "BEN",
            "BWA",
            "BFA",
            "BDI",
            "CPV",
            "CMR",
            "CAF",
            "TCD",
            "COM",
            "COD",
            "COG",
            "CIV",
            "DJI",
            "EGY",
            "GNQ",
            "ERI",
            "SWZ",
            "ETH",
            "GAB",
            "GMB",
            "GHA",
            "GIN",
            "GNB",
            "KEN",
            "LSO",
            "LBR",
            "LBY",
            "MDG",
            "MWI",
            "MLI",
            "MRT",
            "MUS",
            "MAR",
            "MOZ",
            "NAM",
            "NER",
            "NGA",
            "RWA",
            "STP",
            "SEN",
            "SYC",
            "SLE",
            "SOM",
            "ZAF",
            "SSD",
            "SDN",
            "TZA",
            "TGO",
            "TUN",
            "UGA",
            "ZMB",
            "ZWE"
           ],
           "name": "",
           "type": "choropleth",
           "z": [
            0,
            1573422,
            889597,
            1024,
            182527,
            1185622,
            65,
            0,
            0,
            0,
            38920,
            1879694,
            92855,
            7388,
            2686,
            0,
            14184,
            11759,
            106,
            1144640,
            660,
            50378,
            1104370,
            35841,
            11757,
            0,
            0,
            839581,
            0,
            215110,
            0,
            0,
            940,
            0,
            0,
            93874,
            505,
            309675,
            479845,
            698745,
            6182,
            165933,
            0,
            646808,
            25202,
            6072,
            0,
            711462,
            211,
            571611,
            0,
            1301337,
            0,
            114028
           ]
          }
         ],
         "name": "2009-01-01"
        },
        {
         "data": [
          {
           "coloraxis": "coloraxis",
           "geo": "geo",
           "hovertemplate": "Year=2010-01-01<br>Country Code=%{location}<br>Malaria cases=%{z}<extra></extra>",
           "locationmode": "ISO-3",
           "locations": [
            "DZA",
            "AGO",
            "BEN",
            "BWA",
            "BFA",
            "BDI",
            "CPV",
            "CMR",
            "CAF",
            "TCD",
            "COM",
            "COD",
            "COG",
            "CIV",
            "DJI",
            "EGY",
            "GNQ",
            "ERI",
            "SWZ",
            "ETH",
            "GAB",
            "GMB",
            "GHA",
            "GIN",
            "GNB",
            "KEN",
            "LSO",
            "LBR",
            "LBY",
            "MDG",
            "MWI",
            "MLI",
            "MRT",
            "MUS",
            "MAR",
            "MOZ",
            "NAM",
            "NER",
            "NGA",
            "RWA",
            "STP",
            "SEN",
            "SYC",
            "SLE",
            "SOM",
            "ZAF",
            "SSD",
            "SDN",
            "TZA",
            "TGO",
            "TUN",
            "UGA",
            "ZMB",
            "ZWE"
           ],
           "name": "",
           "type": "choropleth",
           "z": [
            1,
            1682870,
            0,
            1046,
            804539,
            1763447,
            47,
            0,
            0,
            200448,
            36538,
            2417780,
            0,
            62726,
            1010,
            0,
            53813,
            35982,
            268,
            1158197,
            13936,
            116353,
            1071637,
            20936,
            50391,
            898531,
            0,
            922173,
            0,
            202450,
            0,
            239787,
            6367,
            0,
            0,
            1522577,
            556,
            642774,
            551187,
            669322,
            2740,
            330331,
            0,
            934028,
            24833,
            8060,
            900283,
            720557,
            1278998,
            1006702,
            0,
            1581160,
            0,
            249379
           ]
          }
         ],
         "name": "2010-01-01"
        },
        {
         "data": [
          {
           "coloraxis": "coloraxis",
           "geo": "geo",
           "hovertemplate": "Year=2011-01-01<br>Country Code=%{location}<br>Malaria cases=%{z}<extra></extra>",
           "locationmode": "ISO-3",
           "locations": [
            "DZA",
            "AGO",
            "BEN",
            "BWA",
            "BFA",
            "BDI",
            "CPV",
            "CMR",
            "CAF",
            "TCD",
            "COM",
            "COD",
            "COG",
            "CIV",
            "DJI",
            "EGY",
            "GNQ",
            "ERI",
            "SWZ",
            "ETH",
            "GAB",
            "GMB",
            "GHA",
            "GIN",
            "GNB",
            "KEN",
            "LSO",
            "LBR",
            "LBY",
            "MDG",
            "MWI",
            "MLI",
            "MRT",
            "MUS",
            "MAR",
            "MOZ",
            "NAM",
            "NER",
            "NGA",
            "RWA",
            "STP",
            "SEN",
            "SYC",
            "SLE",
            "SOM",
            "ZAF",
            "SSD",
            "SDN",
            "TZA",
            "TGO",
            "TUN",
            "UGA",
            "ZMB",
            "ZWE"
           ],
           "name": "",
           "type": "choropleth",
           "z": [
            1,
            1632282,
            68745,
            432,
            428113,
            1575237,
            7,
            33086,
            0,
            181126,
            24856,
            4561981,
            37744,
            29976,
            2189,
            0,
            22466,
            34848,
            549,
            1480306,
            0,
            268020,
            1041260,
            95574,
            71982,
            1002805,
            0,
            1921159,
            0,
            224498,
            304499,
            307035,
            5991,
            0,
            0,
            1756874,
            1860,
            838585,
            0,
            273293,
            8442,
            274119,
            0,
            638859,
            3351,
            9866,
            112024,
            506806,
            2150761,
            519450,
            0,
            231873,
            0,
            319935
           ]
          }
         ],
         "name": "2011-01-01"
        },
        {
         "data": [
          {
           "coloraxis": "coloraxis",
           "geo": "geo",
           "hovertemplate": "Year=2012-01-01<br>Country Code=%{location}<br>Malaria cases=%{z}<extra></extra>",
           "locationmode": "ISO-3",
           "locations": [
            "DZA",
            "AGO",
            "BEN",
            "BWA",
            "BFA",
            "BDI",
            "CPV",
            "CMR",
            "CAF",
            "TCD",
            "COM",
            "COD",
            "COG",
            "CIV",
            "DJI",
            "EGY",
            "GNQ",
            "ERI",
            "SWZ",
            "ETH",
            "GAB",
            "GMB",
            "GHA",
            "GIN",
            "GNB",
            "KEN",
            "LSO",
            "LBR",
            "LBY",
            "MDG",
            "MWI",
            "MLI",
            "MRT",
            "MUS",
            "MAR",
            "MOZ",
            "NAM",
            "NER",
            "NGA",
            "RWA",
            "STP",
            "SEN",
            "SYC",
            "SLE",
            "SOM",
            "ZAF",
            "SSD",
            "SDN",
            "TZA",
            "TGO",
            "TUN",
            "UGA",
            "ZMB",
            "ZWE"
           ],
           "name": "",
           "type": "choropleth",
           "z": [
            55,
            1496834,
            705839,
            193,
            3858046,
            2166690,
            1,
            66656,
            87566,
            7710,
            49840,
            4791598,
            120319,
            1140627,
            2153,
            0,
            15169,
            21815,
            562,
            1692578,
            19753,
            313469,
            3755166,
            340258,
            50381,
            1453471,
            0,
            1412629,
            0,
            402900,
            1564984,
            968136,
            9037,
            0,
            0,
            1853276,
            194,
            2329260,
            0,
            563852,
            10701,
            280241,
            0,
            1537322,
            35712,
            6621,
            225371,
            526931,
            1986955,
            909129,
            0,
            2662258,
            0,
            276963
           ]
          }
         ],
         "name": "2012-01-01"
        },
        {
         "data": [
          {
           "coloraxis": "coloraxis",
           "geo": "geo",
           "hovertemplate": "Year=2013-01-01<br>Country Code=%{location}<br>Malaria cases=%{z}<extra></extra>",
           "locationmode": "ISO-3",
           "locations": [
            "DZA",
            "AGO",
            "BEN",
            "BWA",
            "BFA",
            "BDI",
            "CPV",
            "CMR",
            "CAF",
            "TCD",
            "COM",
            "COD",
            "COG",
            "CIV",
            "DJI",
            "EGY",
            "GNQ",
            "ERI",
            "SWZ",
            "ETH",
            "GAB",
            "GMB",
            "GHA",
            "GIN",
            "GNB",
            "KEN",
            "LSO",
            "LBR",
            "LBY",
            "MDG",
            "MWI",
            "MLI",
            "MRT",
            "MUS",
            "MAR",
            "MOZ",
            "NAM",
            "NER",
            "NGA",
            "RWA",
            "STP",
            "SEN",
            "SYC",
            "SLE",
            "SOM",
            "ZAF",
            "SSD",
            "SDN",
            "TZA",
            "TGO",
            "TUN",
            "UGA",
            "ZMB",
            "ZWE"
           ],
           "name": "",
           "type": "choropleth",
           "z": [
            8,
            1999868,
            1090602,
            456,
            3769051,
            4178338,
            22,
            69232,
            163701,
            754565,
            53156,
            6719887,
            43232,
            2524326,
            1684,
            0,
            16405,
            21317,
            962,
            2645454,
            28982,
            242513,
            1639451,
            211257,
            54584,
            2375129,
            0,
            1244220,
            0,
            433450,
            1280892,
            1506940,
            13085,
            0,
            0,
            3282172,
            4911,
            2373591,
            0,
            1040557,
            9243,
            366687,
            0,
            1701958,
            8944,
            8645,
            262520,
            592383,
            1550250,
            965334,
            0,
            1502362,
            0,
            422633
           ]
          }
         ],
         "name": "2013-01-01"
        },
        {
         "data": [
          {
           "coloraxis": "coloraxis",
           "geo": "geo",
           "hovertemplate": "Year=2014-01-01<br>Country Code=%{location}<br>Malaria cases=%{z}<extra></extra>",
           "locationmode": "ISO-3",
           "locations": [
            "DZA",
            "AGO",
            "BEN",
            "BWA",
            "BFA",
            "BDI",
            "CPV",
            "CMR",
            "CAF",
            "TCD",
            "COM",
            "COD",
            "COG",
            "CIV",
            "DJI",
            "EGY",
            "GNQ",
            "ERI",
            "SWZ",
            "ETH",
            "GAB",
            "GMB",
            "GHA",
            "GIN",
            "GNB",
            "KEN",
            "LSO",
            "LBR",
            "LBY",
            "MDG",
            "MWI",
            "MLI",
            "MRT",
            "MUS",
            "MAR",
            "MOZ",
            "NAM",
            "NER",
            "NGA",
            "RWA",
            "STP",
            "SEN",
            "SYC",
            "SLE",
            "SOM",
            "ZAF",
            "SSD",
            "SDN",
            "TZA",
            "TGO",
            "TUN",
            "UGA",
            "ZMB",
            "ZWE"
           ],
           "name": "",
           "type": "choropleth",
           "z": [
            0,
            2298979,
            1130558,
            1346,
            5428655,
            4726299,
            26,
            0,
            295088,
            914032,
            2203,
            10288519,
            66323,
            3712831,
            9439,
            0,
            20417,
            50534,
            711,
            2118815,
            31900,
            168256,
            3415912,
            660207,
            93431,
            2851555,
            0,
            881224,
            0,
            468743,
            2905310,
            2220956,
            15835,
            0,
            0,
            7407175,
            15914,
            2010489,
            7826954,
            1719904,
            1754,
            268912,
            0,
            1374476,
            11001,
            11705,
            71377,
            1068506,
            680442,
            1524339,
            0,
            3631939,
            4077547,
            548276
           ]
          }
         ],
         "name": "2014-01-01"
        },
        {
         "data": [
          {
           "coloraxis": "coloraxis",
           "geo": "geo",
           "hovertemplate": "Year=2015-01-01<br>Country Code=%{location}<br>Malaria cases=%{z}<extra></extra>",
           "locationmode": "ISO-3",
           "locations": [
            "DZA",
            "AGO",
            "BEN",
            "BWA",
            "BFA",
            "BDI",
            "CPV",
            "CMR",
            "CAF",
            "TCD",
            "COM",
            "COD",
            "COG",
            "CIV",
            "DJI",
            "EGY",
            "GNQ",
            "ERI",
            "SWZ",
            "ETH",
            "GAB",
            "GMB",
            "GHA",
            "GIN",
            "GNB",
            "KEN",
            "LSO",
            "LBR",
            "LBY",
            "MDG",
            "MWI",
            "MLI",
            "MRT",
            "MUS",
            "MAR",
            "MOZ",
            "NAM",
            "NER",
            "NGA",
            "RWA",
            "STP",
            "SEN",
            "SYC",
            "SLE",
            "SOM",
            "ZAF",
            "SSD",
            "SDN",
            "TZA",
            "TGO",
            "TUN",
            "UGA",
            "ZMB",
            "ZWE"
           ],
           "name": "",
           "type": "choropleth",
           "z": [
            0,
            2769305,
            1524739,
            326,
            7015446,
            5428710,
            7,
            1193281,
            598833,
            787046,
            1300,
            12538805,
            51529,
            3375904,
            9473,
            0,
            15142,
            28036,
            157,
            1867059,
            23867,
            245435,
            4319919,
            810979,
            146027,
            1581168,
            0,
            941711,
            0,
            937241,
            3661238,
            2454508,
            22631,
            0,
            0,
            8222814,
            12168,
            2392108,
            7131972,
            2694566,
            2058,
            492253,
            0,
            1483376,
            20953,
            1157,
            24371,
            586827,
            4241364,
            1508015,
            0,
            7137662,
            4184661,
            482379
           ]
          }
         ],
         "name": "2015-01-01"
        },
        {
         "data": [
          {
           "coloraxis": "coloraxis",
           "geo": "geo",
           "hovertemplate": "Year=2016-01-01<br>Country Code=%{location}<br>Malaria cases=%{z}<extra></extra>",
           "locationmode": "ISO-3",
           "locations": [
            "DZA",
            "AGO",
            "BEN",
            "BWA",
            "BFA",
            "BDI",
            "CPV",
            "CMR",
            "CAF",
            "TCD",
            "COM",
            "COD",
            "COG",
            "CIV",
            "DJI",
            "EGY",
            "GNQ",
            "ERI",
            "SWZ",
            "ETH",
            "GAB",
            "GMB",
            "GHA",
            "GIN",
            "GNB",
            "KEN",
            "LSO",
            "LBR",
            "LBY",
            "MDG",
            "MWI",
            "MLI",
            "MRT",
            "MUS",
            "MAR",
            "MOZ",
            "NAM",
            "NER",
            "NGA",
            "RWA",
            "STP",
            "SEN",
            "SYC",
            "SLE",
            "SOM",
            "ZAF",
            "SSD",
            "SDN",
            "TZA",
            "TGO",
            "TUN",
            "UGA",
            "ZMB",
            "ZWE"
           ],
           "name": "",
           "type": "choropleth",
           "z": [
            0,
            3794253,
            1395618,
            716,
            9779411,
            8793176,
            48,
            1694002,
            1032764,
            1294768,
            1143,
            16821130,
            171847,
            3645081,
            13804,
            0,
            147714,
            24251,
            350,
            1718504,
            23915,
            159997,
            4505442,
            992146,
            152404,
            2931406,
            0,
            1191137,
            0,
            655480,
            4827373,
            2311098,
            23042,
            0,
            0,
            9690873,
            25198,
            4258110,
            12293820,
            4725577,
            2238,
            349540,
            0,
            1775306,
            35628,
            4323,
            7619,
            575015,
            5188863,
            1746234,
            0,
            9385132,
            4851319,
            314003
           ]
          }
         ],
         "name": "2016-01-01"
        },
        {
         "data": [
          {
           "coloraxis": "coloraxis",
           "geo": "geo",
           "hovertemplate": "Year=2017-01-01<br>Country Code=%{location}<br>Malaria cases=%{z}<extra></extra>",
           "locationmode": "ISO-3",
           "locations": [
            "DZA",
            "AGO",
            "BEN",
            "BWA",
            "BFA",
            "BDI",
            "CPV",
            "CMR",
            "CAF",
            "TCD",
            "COM",
            "COD",
            "COG",
            "CIV",
            "DJI",
            "EGY",
            "GNQ",
            "ERI",
            "SWZ",
            "ETH",
            "GAB",
            "GMB",
            "GHA",
            "GIN",
            "GNB",
            "KEN",
            "LSO",
            "LBR",
            "LBY",
            "MDG",
            "MWI",
            "MLI",
            "MRT",
            "MUS",
            "MAR",
            "MOZ",
            "NAM",
            "NER",
            "NGA",
            "RWA",
            "STP",
            "SEN",
            "SYC",
            "SLE",
            "SOM",
            "ZAF",
            "SSD",
            "SDN",
            "TZA",
            "TGO",
            "TUN",
            "UGA",
            "ZMB",
            "ZWE"
           ],
           "name": "",
           "type": "choropleth",
           "z": [
            0,
            3874892,
            1774022,
            1900,
            10255415,
            8453810,
            423,
            1317371,
            383309,
            1962372,
            3230,
            16793002,
            127939,
            3475953,
            14671,
            0,
            15725,
            54005,
            724,
            1530739,
            35244,
            72412,
            5584185,
            1335323,
            92846,
            3419883,
            0,
            1783968,
            0,
            935229,
            4901344,
            2097797,
            20105,
            0,
            0,
            9892601,
            54268,
            2761268,
            11639713,
            4413473,
            2239,
            395706,
            0,
            1651236,
            35138,
            22517,
            1488005,
            720879,
            5354819,
            1755577,
            0,
            11667831,
            5505639,
            467508
           ]
          }
         ],
         "name": "2017-01-01"
        }
       ],
       "layout": {
        "coloraxis": {
         "colorbar": {
          "title": {
           "text": "Malaria cases"
          }
         },
         "colorscale": [
          [
           0,
           "rgb(247,251,255)"
          ],
          [
           0.125,
           "rgb(222,235,247)"
          ],
          [
           0.25,
           "rgb(198,219,239)"
          ],
          [
           0.375,
           "rgb(158,202,225)"
          ],
          [
           0.5,
           "rgb(107,174,214)"
          ],
          [
           0.625,
           "rgb(66,146,198)"
          ],
          [
           0.75,
           "rgb(33,113,181)"
          ],
          [
           0.875,
           "rgb(8,81,156)"
          ],
          [
           1,
           "rgb(8,48,107)"
          ]
         ]
        },
        "geo": {
         "center": {},
         "domain": {
          "x": [
           0,
           1
          ],
          "y": [
           0,
           1
          ]
         },
         "scope": "africa"
        },
        "legend": {
         "tracegroupgap": 0
        },
        "sliders": [
         {
          "active": 0,
          "currentvalue": {
           "prefix": "Year="
          },
          "len": 0.9,
          "pad": {
           "b": 10,
           "t": 60
          },
          "steps": [
           {
            "args": [
             [
              "2007-01-01"
             ],
             {
              "frame": {
               "duration": 0,
               "redraw": true
              },
              "fromcurrent": true,
              "mode": "immediate",
              "transition": {
               "duration": 0,
               "easing": "linear"
              }
             }
            ],
            "label": "2007-01-01",
            "method": "animate"
           },
           {
            "args": [
             [
              "2008-01-01"
             ],
             {
              "frame": {
               "duration": 0,
               "redraw": true
              },
              "fromcurrent": true,
              "mode": "immediate",
              "transition": {
               "duration": 0,
               "easing": "linear"
              }
             }
            ],
            "label": "2008-01-01",
            "method": "animate"
           },
           {
            "args": [
             [
              "2009-01-01"
             ],
             {
              "frame": {
               "duration": 0,
               "redraw": true
              },
              "fromcurrent": true,
              "mode": "immediate",
              "transition": {
               "duration": 0,
               "easing": "linear"
              }
             }
            ],
            "label": "2009-01-01",
            "method": "animate"
           },
           {
            "args": [
             [
              "2010-01-01"
             ],
             {
              "frame": {
               "duration": 0,
               "redraw": true
              },
              "fromcurrent": true,
              "mode": "immediate",
              "transition": {
               "duration": 0,
               "easing": "linear"
              }
             }
            ],
            "label": "2010-01-01",
            "method": "animate"
           },
           {
            "args": [
             [
              "2011-01-01"
             ],
             {
              "frame": {
               "duration": 0,
               "redraw": true
              },
              "fromcurrent": true,
              "mode": "immediate",
              "transition": {
               "duration": 0,
               "easing": "linear"
              }
             }
            ],
            "label": "2011-01-01",
            "method": "animate"
           },
           {
            "args": [
             [
              "2012-01-01"
             ],
             {
              "frame": {
               "duration": 0,
               "redraw": true
              },
              "fromcurrent": true,
              "mode": "immediate",
              "transition": {
               "duration": 0,
               "easing": "linear"
              }
             }
            ],
            "label": "2012-01-01",
            "method": "animate"
           },
           {
            "args": [
             [
              "2013-01-01"
             ],
             {
              "frame": {
               "duration": 0,
               "redraw": true
              },
              "fromcurrent": true,
              "mode": "immediate",
              "transition": {
               "duration": 0,
               "easing": "linear"
              }
             }
            ],
            "label": "2013-01-01",
            "method": "animate"
           },
           {
            "args": [
             [
              "2014-01-01"
             ],
             {
              "frame": {
               "duration": 0,
               "redraw": true
              },
              "fromcurrent": true,
              "mode": "immediate",
              "transition": {
               "duration": 0,
               "easing": "linear"
              }
             }
            ],
            "label": "2014-01-01",
            "method": "animate"
           },
           {
            "args": [
             [
              "2015-01-01"
             ],
             {
              "frame": {
               "duration": 0,
               "redraw": true
              },
              "fromcurrent": true,
              "mode": "immediate",
              "transition": {
               "duration": 0,
               "easing": "linear"
              }
             }
            ],
            "label": "2015-01-01",
            "method": "animate"
           },
           {
            "args": [
             [
              "2016-01-01"
             ],
             {
              "frame": {
               "duration": 0,
               "redraw": true
              },
              "fromcurrent": true,
              "mode": "immediate",
              "transition": {
               "duration": 0,
               "easing": "linear"
              }
             }
            ],
            "label": "2016-01-01",
            "method": "animate"
           },
           {
            "args": [
             [
              "2017-01-01"
             ],
             {
              "frame": {
               "duration": 0,
               "redraw": true
              },
              "fromcurrent": true,
              "mode": "immediate",
              "transition": {
               "duration": 0,
               "easing": "linear"
              }
             }
            ],
            "label": "2017-01-01",
            "method": "animate"
           }
          ],
          "x": 0.1,
          "xanchor": "left",
          "y": 0,
          "yanchor": "top"
         }
        ],
        "template": {
         "data": {
          "bar": [
           {
            "error_x": {
             "color": "#2a3f5f"
            },
            "error_y": {
             "color": "#2a3f5f"
            },
            "marker": {
             "line": {
              "color": "#E5ECF6",
              "width": 0.5
             },
             "pattern": {
              "fillmode": "overlay",
              "size": 10,
              "solidity": 0.2
             }
            },
            "type": "bar"
           }
          ],
          "barpolar": [
           {
            "marker": {
             "line": {
              "color": "#E5ECF6",
              "width": 0.5
             },
             "pattern": {
              "fillmode": "overlay",
              "size": 10,
              "solidity": 0.2
             }
            },
            "type": "barpolar"
           }
          ],
          "carpet": [
           {
            "aaxis": {
             "endlinecolor": "#2a3f5f",
             "gridcolor": "white",
             "linecolor": "white",
             "minorgridcolor": "white",
             "startlinecolor": "#2a3f5f"
            },
            "baxis": {
             "endlinecolor": "#2a3f5f",
             "gridcolor": "white",
             "linecolor": "white",
             "minorgridcolor": "white",
             "startlinecolor": "#2a3f5f"
            },
            "type": "carpet"
           }
          ],
          "choropleth": [
           {
            "colorbar": {
             "outlinewidth": 0,
             "ticks": ""
            },
            "type": "choropleth"
           }
          ],
          "contour": [
           {
            "colorbar": {
             "outlinewidth": 0,
             "ticks": ""
            },
            "colorscale": [
             [
              0,
              "#0d0887"
             ],
             [
              0.1111111111111111,
              "#46039f"
             ],
             [
              0.2222222222222222,
              "#7201a8"
             ],
             [
              0.3333333333333333,
              "#9c179e"
             ],
             [
              0.4444444444444444,
              "#bd3786"
             ],
             [
              0.5555555555555556,
              "#d8576b"
             ],
             [
              0.6666666666666666,
              "#ed7953"
             ],
             [
              0.7777777777777778,
              "#fb9f3a"
             ],
             [
              0.8888888888888888,
              "#fdca26"
             ],
             [
              1,
              "#f0f921"
             ]
            ],
            "type": "contour"
           }
          ],
          "contourcarpet": [
           {
            "colorbar": {
             "outlinewidth": 0,
             "ticks": ""
            },
            "type": "contourcarpet"
           }
          ],
          "heatmap": [
           {
            "colorbar": {
             "outlinewidth": 0,
             "ticks": ""
            },
            "colorscale": [
             [
              0,
              "#0d0887"
             ],
             [
              0.1111111111111111,
              "#46039f"
             ],
             [
              0.2222222222222222,
              "#7201a8"
             ],
             [
              0.3333333333333333,
              "#9c179e"
             ],
             [
              0.4444444444444444,
              "#bd3786"
             ],
             [
              0.5555555555555556,
              "#d8576b"
             ],
             [
              0.6666666666666666,
              "#ed7953"
             ],
             [
              0.7777777777777778,
              "#fb9f3a"
             ],
             [
              0.8888888888888888,
              "#fdca26"
             ],
             [
              1,
              "#f0f921"
             ]
            ],
            "type": "heatmap"
           }
          ],
          "heatmapgl": [
           {
            "colorbar": {
             "outlinewidth": 0,
             "ticks": ""
            },
            "colorscale": [
             [
              0,
              "#0d0887"
             ],
             [
              0.1111111111111111,
              "#46039f"
             ],
             [
              0.2222222222222222,
              "#7201a8"
             ],
             [
              0.3333333333333333,
              "#9c179e"
             ],
             [
              0.4444444444444444,
              "#bd3786"
             ],
             [
              0.5555555555555556,
              "#d8576b"
             ],
             [
              0.6666666666666666,
              "#ed7953"
             ],
             [
              0.7777777777777778,
              "#fb9f3a"
             ],
             [
              0.8888888888888888,
              "#fdca26"
             ],
             [
              1,
              "#f0f921"
             ]
            ],
            "type": "heatmapgl"
           }
          ],
          "histogram": [
           {
            "marker": {
             "pattern": {
              "fillmode": "overlay",
              "size": 10,
              "solidity": 0.2
             }
            },
            "type": "histogram"
           }
          ],
          "histogram2d": [
           {
            "colorbar": {
             "outlinewidth": 0,
             "ticks": ""
            },
            "colorscale": [
             [
              0,
              "#0d0887"
             ],
             [
              0.1111111111111111,
              "#46039f"
             ],
             [
              0.2222222222222222,
              "#7201a8"
             ],
             [
              0.3333333333333333,
              "#9c179e"
             ],
             [
              0.4444444444444444,
              "#bd3786"
             ],
             [
              0.5555555555555556,
              "#d8576b"
             ],
             [
              0.6666666666666666,
              "#ed7953"
             ],
             [
              0.7777777777777778,
              "#fb9f3a"
             ],
             [
              0.8888888888888888,
              "#fdca26"
             ],
             [
              1,
              "#f0f921"
             ]
            ],
            "type": "histogram2d"
           }
          ],
          "histogram2dcontour": [
           {
            "colorbar": {
             "outlinewidth": 0,
             "ticks": ""
            },
            "colorscale": [
             [
              0,
              "#0d0887"
             ],
             [
              0.1111111111111111,
              "#46039f"
             ],
             [
              0.2222222222222222,
              "#7201a8"
             ],
             [
              0.3333333333333333,
              "#9c179e"
             ],
             [
              0.4444444444444444,
              "#bd3786"
             ],
             [
              0.5555555555555556,
              "#d8576b"
             ],
             [
              0.6666666666666666,
              "#ed7953"
             ],
             [
              0.7777777777777778,
              "#fb9f3a"
             ],
             [
              0.8888888888888888,
              "#fdca26"
             ],
             [
              1,
              "#f0f921"
             ]
            ],
            "type": "histogram2dcontour"
           }
          ],
          "mesh3d": [
           {
            "colorbar": {
             "outlinewidth": 0,
             "ticks": ""
            },
            "type": "mesh3d"
           }
          ],
          "parcoords": [
           {
            "line": {
             "colorbar": {
              "outlinewidth": 0,
              "ticks": ""
             }
            },
            "type": "parcoords"
           }
          ],
          "pie": [
           {
            "automargin": true,
            "type": "pie"
           }
          ],
          "scatter": [
           {
            "fillpattern": {
             "fillmode": "overlay",
             "size": 10,
             "solidity": 0.2
            },
            "type": "scatter"
           }
          ],
          "scatter3d": [
           {
            "line": {
             "colorbar": {
              "outlinewidth": 0,
              "ticks": ""
             }
            },
            "marker": {
             "colorbar": {
              "outlinewidth": 0,
              "ticks": ""
             }
            },
            "type": "scatter3d"
           }
          ],
          "scattercarpet": [
           {
            "marker": {
             "colorbar": {
              "outlinewidth": 0,
              "ticks": ""
             }
            },
            "type": "scattercarpet"
           }
          ],
          "scattergeo": [
           {
            "marker": {
             "colorbar": {
              "outlinewidth": 0,
              "ticks": ""
             }
            },
            "type": "scattergeo"
           }
          ],
          "scattergl": [
           {
            "marker": {
             "colorbar": {
              "outlinewidth": 0,
              "ticks": ""
             }
            },
            "type": "scattergl"
           }
          ],
          "scattermapbox": [
           {
            "marker": {
             "colorbar": {
              "outlinewidth": 0,
              "ticks": ""
             }
            },
            "type": "scattermapbox"
           }
          ],
          "scatterpolar": [
           {
            "marker": {
             "colorbar": {
              "outlinewidth": 0,
              "ticks": ""
             }
            },
            "type": "scatterpolar"
           }
          ],
          "scatterpolargl": [
           {
            "marker": {
             "colorbar": {
              "outlinewidth": 0,
              "ticks": ""
             }
            },
            "type": "scatterpolargl"
           }
          ],
          "scatterternary": [
           {
            "marker": {
             "colorbar": {
              "outlinewidth": 0,
              "ticks": ""
             }
            },
            "type": "scatterternary"
           }
          ],
          "surface": [
           {
            "colorbar": {
             "outlinewidth": 0,
             "ticks": ""
            },
            "colorscale": [
             [
              0,
              "#0d0887"
             ],
             [
              0.1111111111111111,
              "#46039f"
             ],
             [
              0.2222222222222222,
              "#7201a8"
             ],
             [
              0.3333333333333333,
              "#9c179e"
             ],
             [
              0.4444444444444444,
              "#bd3786"
             ],
             [
              0.5555555555555556,
              "#d8576b"
             ],
             [
              0.6666666666666666,
              "#ed7953"
             ],
             [
              0.7777777777777778,
              "#fb9f3a"
             ],
             [
              0.8888888888888888,
              "#fdca26"
             ],
             [
              1,
              "#f0f921"
             ]
            ],
            "type": "surface"
           }
          ],
          "table": [
           {
            "cells": {
             "fill": {
              "color": "#EBF0F8"
             },
             "line": {
              "color": "white"
             }
            },
            "header": {
             "fill": {
              "color": "#C8D4E3"
             },
             "line": {
              "color": "white"
             }
            },
            "type": "table"
           }
          ]
         },
         "layout": {
          "annotationdefaults": {
           "arrowcolor": "#2a3f5f",
           "arrowhead": 0,
           "arrowwidth": 1
          },
          "autotypenumbers": "strict",
          "coloraxis": {
           "colorbar": {
            "outlinewidth": 0,
            "ticks": ""
           }
          },
          "colorscale": {
           "diverging": [
            [
             0,
             "#8e0152"
            ],
            [
             0.1,
             "#c51b7d"
            ],
            [
             0.2,
             "#de77ae"
            ],
            [
             0.3,
             "#f1b6da"
            ],
            [
             0.4,
             "#fde0ef"
            ],
            [
             0.5,
             "#f7f7f7"
            ],
            [
             0.6,
             "#e6f5d0"
            ],
            [
             0.7,
             "#b8e186"
            ],
            [
             0.8,
             "#7fbc41"
            ],
            [
             0.9,
             "#4d9221"
            ],
            [
             1,
             "#276419"
            ]
           ],
           "sequential": [
            [
             0,
             "#0d0887"
            ],
            [
             0.1111111111111111,
             "#46039f"
            ],
            [
             0.2222222222222222,
             "#7201a8"
            ],
            [
             0.3333333333333333,
             "#9c179e"
            ],
            [
             0.4444444444444444,
             "#bd3786"
            ],
            [
             0.5555555555555556,
             "#d8576b"
            ],
            [
             0.6666666666666666,
             "#ed7953"
            ],
            [
             0.7777777777777778,
             "#fb9f3a"
            ],
            [
             0.8888888888888888,
             "#fdca26"
            ],
            [
             1,
             "#f0f921"
            ]
           ],
           "sequentialminus": [
            [
             0,
             "#0d0887"
            ],
            [
             0.1111111111111111,
             "#46039f"
            ],
            [
             0.2222222222222222,
             "#7201a8"
            ],
            [
             0.3333333333333333,
             "#9c179e"
            ],
            [
             0.4444444444444444,
             "#bd3786"
            ],
            [
             0.5555555555555556,
             "#d8576b"
            ],
            [
             0.6666666666666666,
             "#ed7953"
            ],
            [
             0.7777777777777778,
             "#fb9f3a"
            ],
            [
             0.8888888888888888,
             "#fdca26"
            ],
            [
             1,
             "#f0f921"
            ]
           ]
          },
          "colorway": [
           "#636efa",
           "#EF553B",
           "#00cc96",
           "#ab63fa",
           "#FFA15A",
           "#19d3f3",
           "#FF6692",
           "#B6E880",
           "#FF97FF",
           "#FECB52"
          ],
          "font": {
           "color": "#2a3f5f"
          },
          "geo": {
           "bgcolor": "white",
           "lakecolor": "white",
           "landcolor": "#E5ECF6",
           "showlakes": true,
           "showland": true,
           "subunitcolor": "white"
          },
          "hoverlabel": {
           "align": "left"
          },
          "hovermode": "closest",
          "mapbox": {
           "style": "light"
          },
          "paper_bgcolor": "white",
          "plot_bgcolor": "#E5ECF6",
          "polar": {
           "angularaxis": {
            "gridcolor": "white",
            "linecolor": "white",
            "ticks": ""
           },
           "bgcolor": "#E5ECF6",
           "radialaxis": {
            "gridcolor": "white",
            "linecolor": "white",
            "ticks": ""
           }
          },
          "scene": {
           "xaxis": {
            "backgroundcolor": "#E5ECF6",
            "gridcolor": "white",
            "gridwidth": 2,
            "linecolor": "white",
            "showbackground": true,
            "ticks": "",
            "zerolinecolor": "white"
           },
           "yaxis": {
            "backgroundcolor": "#E5ECF6",
            "gridcolor": "white",
            "gridwidth": 2,
            "linecolor": "white",
            "showbackground": true,
            "ticks": "",
            "zerolinecolor": "white"
           },
           "zaxis": {
            "backgroundcolor": "#E5ECF6",
            "gridcolor": "white",
            "gridwidth": 2,
            "linecolor": "white",
            "showbackground": true,
            "ticks": "",
            "zerolinecolor": "white"
           }
          },
          "shapedefaults": {
           "line": {
            "color": "#2a3f5f"
           }
          },
          "ternary": {
           "aaxis": {
            "gridcolor": "white",
            "linecolor": "white",
            "ticks": ""
           },
           "baxis": {
            "gridcolor": "white",
            "linecolor": "white",
            "ticks": ""
           },
           "bgcolor": "#E5ECF6",
           "caxis": {
            "gridcolor": "white",
            "linecolor": "white",
            "ticks": ""
           }
          },
          "title": {
           "x": 0.05
          },
          "xaxis": {
           "automargin": true,
           "gridcolor": "white",
           "linecolor": "white",
           "ticks": "",
           "title": {
            "standoff": 15
           },
           "zerolinecolor": "white",
           "zerolinewidth": 2
          },
          "yaxis": {
           "automargin": true,
           "gridcolor": "white",
           "linecolor": "white",
           "ticks": "",
           "title": {
            "standoff": 15
           },
           "zerolinecolor": "white",
           "zerolinewidth": 2
          }
         }
        },
        "title": {
         "text": "Malaria cases in Africa"
        },
        "updatemenus": [
         {
          "buttons": [
           {
            "args": [
             null,
             {
              "frame": {
               "duration": 500,
               "redraw": true
              },
              "fromcurrent": true,
              "mode": "immediate",
              "transition": {
               "duration": 500,
               "easing": "linear"
              }
             }
            ],
            "label": "&#9654;",
            "method": "animate"
           },
           {
            "args": [
             [
              null
             ],
             {
              "frame": {
               "duration": 0,
               "redraw": true
              },
              "fromcurrent": true,
              "mode": "immediate",
              "transition": {
               "duration": 0,
               "easing": "linear"
              }
             }
            ],
            "label": "&#9724;",
            "method": "animate"
           }
          ],
          "direction": "left",
          "pad": {
           "r": 10,
           "t": 70
          },
          "showactive": false,
          "type": "buttons",
          "x": 0.1,
          "xanchor": "right",
          "y": 0,
          "yanchor": "top"
         }
        ]
       }
      },
      "text/html": [
       "<div>                            <div id=\"c3da2848-b998-4051-85ae-70d2a9dc8b5b\" class=\"plotly-graph-div\" style=\"height:525px; width:100%;\"></div>            <script type=\"text/javascript\">                require([\"plotly\"], function(Plotly) {                    window.PLOTLYENV=window.PLOTLYENV || {};                                    if (document.getElementById(\"c3da2848-b998-4051-85ae-70d2a9dc8b5b\")) {                    Plotly.newPlot(                        \"c3da2848-b998-4051-85ae-70d2a9dc8b5b\",                        [{\"coloraxis\":\"coloraxis\",\"geo\":\"geo\",\"hovertemplate\":\"Year=2007-01-01<br>Country Code=%{location}<br>Malaria cases=%{z}<extra></extra>\",\"locationmode\":\"ISO-3\",\"locations\":[\"DZA\",\"AGO\",\"BEN\",\"BWA\",\"BFA\",\"BDI\",\"CPV\",\"CMR\",\"CAF\",\"TCD\",\"COM\",\"COD\",\"COG\",\"CIV\",\"DJI\",\"EGY\",\"GNQ\",\"ERI\",\"SWZ\",\"ETH\",\"GAB\",\"GMB\",\"GHA\",\"GIN\",\"GNB\",\"KEN\",\"LSO\",\"LBR\",\"LBY\",\"MDG\",\"MWI\",\"MLI\",\"MRT\",\"MUS\",\"MAR\",\"MOZ\",\"NAM\",\"NER\",\"NGA\",\"RWA\",\"STP\",\"SEN\",\"SYC\",\"SLE\",\"SOM\",\"ZAF\",\"SSD\",\"SDN\",\"TZA\",\"TGO\",\"TUN\",\"UGA\",\"ZMB\",\"ZWE\"],\"name\":\"\",\"z\":[26,1533485,0,390,44246,1101644,18,0,0,48288,38913,740858,103213,0,2320,0,6287,15565,84,451816,45186,0,476484,44518,14284,0,0,492272,0,48497,0,0,0,0,0,141663,4242,268164,0,382686,2421,118332,0,0,16675,6327,0,686908,1845917,258716,0,1045378,0,116518],\"type\":\"choropleth\"}],                        {\"template\":{\"data\":{\"histogram2dcontour\":[{\"type\":\"histogram2dcontour\",\"colorbar\":{\"outlinewidth\":0,\"ticks\":\"\"},\"colorscale\":[[0.0,\"#0d0887\"],[0.1111111111111111,\"#46039f\"],[0.2222222222222222,\"#7201a8\"],[0.3333333333333333,\"#9c179e\"],[0.4444444444444444,\"#bd3786\"],[0.5555555555555556,\"#d8576b\"],[0.6666666666666666,\"#ed7953\"],[0.7777777777777778,\"#fb9f3a\"],[0.8888888888888888,\"#fdca26\"],[1.0,\"#f0f921\"]]}],\"choropleth\":[{\"type\":\"choropleth\",\"colorbar\":{\"outlinewidth\":0,\"ticks\":\"\"}}],\"histogram2d\":[{\"type\":\"histogram2d\",\"colorbar\":{\"outlinewidth\":0,\"ticks\":\"\"},\"colorscale\":[[0.0,\"#0d0887\"],[0.1111111111111111,\"#46039f\"],[0.2222222222222222,\"#7201a8\"],[0.3333333333333333,\"#9c179e\"],[0.4444444444444444,\"#bd3786\"],[0.5555555555555556,\"#d8576b\"],[0.6666666666666666,\"#ed7953\"],[0.7777777777777778,\"#fb9f3a\"],[0.8888888888888888,\"#fdca26\"],[1.0,\"#f0f921\"]]}],\"heatmap\":[{\"type\":\"heatmap\",\"colorbar\":{\"outlinewidth\":0,\"ticks\":\"\"},\"colorscale\":[[0.0,\"#0d0887\"],[0.1111111111111111,\"#46039f\"],[0.2222222222222222,\"#7201a8\"],[0.3333333333333333,\"#9c179e\"],[0.4444444444444444,\"#bd3786\"],[0.5555555555555556,\"#d8576b\"],[0.6666666666666666,\"#ed7953\"],[0.7777777777777778,\"#fb9f3a\"],[0.8888888888888888,\"#fdca26\"],[1.0,\"#f0f921\"]]}],\"heatmapgl\":[{\"type\":\"heatmapgl\",\"colorbar\":{\"outlinewidth\":0,\"ticks\":\"\"},\"colorscale\":[[0.0,\"#0d0887\"],[0.1111111111111111,\"#46039f\"],[0.2222222222222222,\"#7201a8\"],[0.3333333333333333,\"#9c179e\"],[0.4444444444444444,\"#bd3786\"],[0.5555555555555556,\"#d8576b\"],[0.6666666666666666,\"#ed7953\"],[0.7777777777777778,\"#fb9f3a\"],[0.8888888888888888,\"#fdca26\"],[1.0,\"#f0f921\"]]}],\"contourcarpet\":[{\"type\":\"contourcarpet\",\"colorbar\":{\"outlinewidth\":0,\"ticks\":\"\"}}],\"contour\":[{\"type\":\"contour\",\"colorbar\":{\"outlinewidth\":0,\"ticks\":\"\"},\"colorscale\":[[0.0,\"#0d0887\"],[0.1111111111111111,\"#46039f\"],[0.2222222222222222,\"#7201a8\"],[0.3333333333333333,\"#9c179e\"],[0.4444444444444444,\"#bd3786\"],[0.5555555555555556,\"#d8576b\"],[0.6666666666666666,\"#ed7953\"],[0.7777777777777778,\"#fb9f3a\"],[0.8888888888888888,\"#fdca26\"],[1.0,\"#f0f921\"]]}],\"surface\":[{\"type\":\"surface\",\"colorbar\":{\"outlinewidth\":0,\"ticks\":\"\"},\"colorscale\":[[0.0,\"#0d0887\"],[0.1111111111111111,\"#46039f\"],[0.2222222222222222,\"#7201a8\"],[0.3333333333333333,\"#9c179e\"],[0.4444444444444444,\"#bd3786\"],[0.5555555555555556,\"#d8576b\"],[0.6666666666666666,\"#ed7953\"],[0.7777777777777778,\"#fb9f3a\"],[0.8888888888888888,\"#fdca26\"],[1.0,\"#f0f921\"]]}],\"mesh3d\":[{\"type\":\"mesh3d\",\"colorbar\":{\"outlinewidth\":0,\"ticks\":\"\"}}],\"scatter\":[{\"fillpattern\":{\"fillmode\":\"overlay\",\"size\":10,\"solidity\":0.2},\"type\":\"scatter\"}],\"parcoords\":[{\"type\":\"parcoords\",\"line\":{\"colorbar\":{\"outlinewidth\":0,\"ticks\":\"\"}}}],\"scatterpolargl\":[{\"type\":\"scatterpolargl\",\"marker\":{\"colorbar\":{\"outlinewidth\":0,\"ticks\":\"\"}}}],\"bar\":[{\"error_x\":{\"color\":\"#2a3f5f\"},\"error_y\":{\"color\":\"#2a3f5f\"},\"marker\":{\"line\":{\"color\":\"#E5ECF6\",\"width\":0.5},\"pattern\":{\"fillmode\":\"overlay\",\"size\":10,\"solidity\":0.2}},\"type\":\"bar\"}],\"scattergeo\":[{\"type\":\"scattergeo\",\"marker\":{\"colorbar\":{\"outlinewidth\":0,\"ticks\":\"\"}}}],\"scatterpolar\":[{\"type\":\"scatterpolar\",\"marker\":{\"colorbar\":{\"outlinewidth\":0,\"ticks\":\"\"}}}],\"histogram\":[{\"marker\":{\"pattern\":{\"fillmode\":\"overlay\",\"size\":10,\"solidity\":0.2}},\"type\":\"histogram\"}],\"scattergl\":[{\"type\":\"scattergl\",\"marker\":{\"colorbar\":{\"outlinewidth\":0,\"ticks\":\"\"}}}],\"scatter3d\":[{\"type\":\"scatter3d\",\"line\":{\"colorbar\":{\"outlinewidth\":0,\"ticks\":\"\"}},\"marker\":{\"colorbar\":{\"outlinewidth\":0,\"ticks\":\"\"}}}],\"scattermapbox\":[{\"type\":\"scattermapbox\",\"marker\":{\"colorbar\":{\"outlinewidth\":0,\"ticks\":\"\"}}}],\"scatterternary\":[{\"type\":\"scatterternary\",\"marker\":{\"colorbar\":{\"outlinewidth\":0,\"ticks\":\"\"}}}],\"scattercarpet\":[{\"type\":\"scattercarpet\",\"marker\":{\"colorbar\":{\"outlinewidth\":0,\"ticks\":\"\"}}}],\"carpet\":[{\"aaxis\":{\"endlinecolor\":\"#2a3f5f\",\"gridcolor\":\"white\",\"linecolor\":\"white\",\"minorgridcolor\":\"white\",\"startlinecolor\":\"#2a3f5f\"},\"baxis\":{\"endlinecolor\":\"#2a3f5f\",\"gridcolor\":\"white\",\"linecolor\":\"white\",\"minorgridcolor\":\"white\",\"startlinecolor\":\"#2a3f5f\"},\"type\":\"carpet\"}],\"table\":[{\"cells\":{\"fill\":{\"color\":\"#EBF0F8\"},\"line\":{\"color\":\"white\"}},\"header\":{\"fill\":{\"color\":\"#C8D4E3\"},\"line\":{\"color\":\"white\"}},\"type\":\"table\"}],\"barpolar\":[{\"marker\":{\"line\":{\"color\":\"#E5ECF6\",\"width\":0.5},\"pattern\":{\"fillmode\":\"overlay\",\"size\":10,\"solidity\":0.2}},\"type\":\"barpolar\"}],\"pie\":[{\"automargin\":true,\"type\":\"pie\"}]},\"layout\":{\"autotypenumbers\":\"strict\",\"colorway\":[\"#636efa\",\"#EF553B\",\"#00cc96\",\"#ab63fa\",\"#FFA15A\",\"#19d3f3\",\"#FF6692\",\"#B6E880\",\"#FF97FF\",\"#FECB52\"],\"font\":{\"color\":\"#2a3f5f\"},\"hovermode\":\"closest\",\"hoverlabel\":{\"align\":\"left\"},\"paper_bgcolor\":\"white\",\"plot_bgcolor\":\"#E5ECF6\",\"polar\":{\"bgcolor\":\"#E5ECF6\",\"angularaxis\":{\"gridcolor\":\"white\",\"linecolor\":\"white\",\"ticks\":\"\"},\"radialaxis\":{\"gridcolor\":\"white\",\"linecolor\":\"white\",\"ticks\":\"\"}},\"ternary\":{\"bgcolor\":\"#E5ECF6\",\"aaxis\":{\"gridcolor\":\"white\",\"linecolor\":\"white\",\"ticks\":\"\"},\"baxis\":{\"gridcolor\":\"white\",\"linecolor\":\"white\",\"ticks\":\"\"},\"caxis\":{\"gridcolor\":\"white\",\"linecolor\":\"white\",\"ticks\":\"\"}},\"coloraxis\":{\"colorbar\":{\"outlinewidth\":0,\"ticks\":\"\"}},\"colorscale\":{\"sequential\":[[0.0,\"#0d0887\"],[0.1111111111111111,\"#46039f\"],[0.2222222222222222,\"#7201a8\"],[0.3333333333333333,\"#9c179e\"],[0.4444444444444444,\"#bd3786\"],[0.5555555555555556,\"#d8576b\"],[0.6666666666666666,\"#ed7953\"],[0.7777777777777778,\"#fb9f3a\"],[0.8888888888888888,\"#fdca26\"],[1.0,\"#f0f921\"]],\"sequentialminus\":[[0.0,\"#0d0887\"],[0.1111111111111111,\"#46039f\"],[0.2222222222222222,\"#7201a8\"],[0.3333333333333333,\"#9c179e\"],[0.4444444444444444,\"#bd3786\"],[0.5555555555555556,\"#d8576b\"],[0.6666666666666666,\"#ed7953\"],[0.7777777777777778,\"#fb9f3a\"],[0.8888888888888888,\"#fdca26\"],[1.0,\"#f0f921\"]],\"diverging\":[[0,\"#8e0152\"],[0.1,\"#c51b7d\"],[0.2,\"#de77ae\"],[0.3,\"#f1b6da\"],[0.4,\"#fde0ef\"],[0.5,\"#f7f7f7\"],[0.6,\"#e6f5d0\"],[0.7,\"#b8e186\"],[0.8,\"#7fbc41\"],[0.9,\"#4d9221\"],[1,\"#276419\"]]},\"xaxis\":{\"gridcolor\":\"white\",\"linecolor\":\"white\",\"ticks\":\"\",\"title\":{\"standoff\":15},\"zerolinecolor\":\"white\",\"automargin\":true,\"zerolinewidth\":2},\"yaxis\":{\"gridcolor\":\"white\",\"linecolor\":\"white\",\"ticks\":\"\",\"title\":{\"standoff\":15},\"zerolinecolor\":\"white\",\"automargin\":true,\"zerolinewidth\":2},\"scene\":{\"xaxis\":{\"backgroundcolor\":\"#E5ECF6\",\"gridcolor\":\"white\",\"linecolor\":\"white\",\"showbackground\":true,\"ticks\":\"\",\"zerolinecolor\":\"white\",\"gridwidth\":2},\"yaxis\":{\"backgroundcolor\":\"#E5ECF6\",\"gridcolor\":\"white\",\"linecolor\":\"white\",\"showbackground\":true,\"ticks\":\"\",\"zerolinecolor\":\"white\",\"gridwidth\":2},\"zaxis\":{\"backgroundcolor\":\"#E5ECF6\",\"gridcolor\":\"white\",\"linecolor\":\"white\",\"showbackground\":true,\"ticks\":\"\",\"zerolinecolor\":\"white\",\"gridwidth\":2}},\"shapedefaults\":{\"line\":{\"color\":\"#2a3f5f\"}},\"annotationdefaults\":{\"arrowcolor\":\"#2a3f5f\",\"arrowhead\":0,\"arrowwidth\":1},\"geo\":{\"bgcolor\":\"white\",\"landcolor\":\"#E5ECF6\",\"subunitcolor\":\"white\",\"showland\":true,\"showlakes\":true,\"lakecolor\":\"white\"},\"title\":{\"x\":0.05},\"mapbox\":{\"style\":\"light\"}}},\"geo\":{\"domain\":{\"x\":[0.0,1.0],\"y\":[0.0,1.0]},\"center\":{},\"scope\":\"africa\"},\"coloraxis\":{\"colorbar\":{\"title\":{\"text\":\"Malaria cases\"}},\"colorscale\":[[0.0,\"rgb(247,251,255)\"],[0.125,\"rgb(222,235,247)\"],[0.25,\"rgb(198,219,239)\"],[0.375,\"rgb(158,202,225)\"],[0.5,\"rgb(107,174,214)\"],[0.625,\"rgb(66,146,198)\"],[0.75,\"rgb(33,113,181)\"],[0.875,\"rgb(8,81,156)\"],[1.0,\"rgb(8,48,107)\"]]},\"legend\":{\"tracegroupgap\":0},\"title\":{\"text\":\"Malaria cases in Africa\"},\"updatemenus\":[{\"buttons\":[{\"args\":[null,{\"frame\":{\"duration\":500,\"redraw\":true},\"mode\":\"immediate\",\"fromcurrent\":true,\"transition\":{\"duration\":500,\"easing\":\"linear\"}}],\"label\":\"&#9654;\",\"method\":\"animate\"},{\"args\":[[null],{\"frame\":{\"duration\":0,\"redraw\":true},\"mode\":\"immediate\",\"fromcurrent\":true,\"transition\":{\"duration\":0,\"easing\":\"linear\"}}],\"label\":\"&#9724;\",\"method\":\"animate\"}],\"direction\":\"left\",\"pad\":{\"r\":10,\"t\":70},\"showactive\":false,\"type\":\"buttons\",\"x\":0.1,\"xanchor\":\"right\",\"y\":0,\"yanchor\":\"top\"}],\"sliders\":[{\"active\":0,\"currentvalue\":{\"prefix\":\"Year=\"},\"len\":0.9,\"pad\":{\"b\":10,\"t\":60},\"steps\":[{\"args\":[[\"2007-01-01\"],{\"frame\":{\"duration\":0,\"redraw\":true},\"mode\":\"immediate\",\"fromcurrent\":true,\"transition\":{\"duration\":0,\"easing\":\"linear\"}}],\"label\":\"2007-01-01\",\"method\":\"animate\"},{\"args\":[[\"2008-01-01\"],{\"frame\":{\"duration\":0,\"redraw\":true},\"mode\":\"immediate\",\"fromcurrent\":true,\"transition\":{\"duration\":0,\"easing\":\"linear\"}}],\"label\":\"2008-01-01\",\"method\":\"animate\"},{\"args\":[[\"2009-01-01\"],{\"frame\":{\"duration\":0,\"redraw\":true},\"mode\":\"immediate\",\"fromcurrent\":true,\"transition\":{\"duration\":0,\"easing\":\"linear\"}}],\"label\":\"2009-01-01\",\"method\":\"animate\"},{\"args\":[[\"2010-01-01\"],{\"frame\":{\"duration\":0,\"redraw\":true},\"mode\":\"immediate\",\"fromcurrent\":true,\"transition\":{\"duration\":0,\"easing\":\"linear\"}}],\"label\":\"2010-01-01\",\"method\":\"animate\"},{\"args\":[[\"2011-01-01\"],{\"frame\":{\"duration\":0,\"redraw\":true},\"mode\":\"immediate\",\"fromcurrent\":true,\"transition\":{\"duration\":0,\"easing\":\"linear\"}}],\"label\":\"2011-01-01\",\"method\":\"animate\"},{\"args\":[[\"2012-01-01\"],{\"frame\":{\"duration\":0,\"redraw\":true},\"mode\":\"immediate\",\"fromcurrent\":true,\"transition\":{\"duration\":0,\"easing\":\"linear\"}}],\"label\":\"2012-01-01\",\"method\":\"animate\"},{\"args\":[[\"2013-01-01\"],{\"frame\":{\"duration\":0,\"redraw\":true},\"mode\":\"immediate\",\"fromcurrent\":true,\"transition\":{\"duration\":0,\"easing\":\"linear\"}}],\"label\":\"2013-01-01\",\"method\":\"animate\"},{\"args\":[[\"2014-01-01\"],{\"frame\":{\"duration\":0,\"redraw\":true},\"mode\":\"immediate\",\"fromcurrent\":true,\"transition\":{\"duration\":0,\"easing\":\"linear\"}}],\"label\":\"2014-01-01\",\"method\":\"animate\"},{\"args\":[[\"2015-01-01\"],{\"frame\":{\"duration\":0,\"redraw\":true},\"mode\":\"immediate\",\"fromcurrent\":true,\"transition\":{\"duration\":0,\"easing\":\"linear\"}}],\"label\":\"2015-01-01\",\"method\":\"animate\"},{\"args\":[[\"2016-01-01\"],{\"frame\":{\"duration\":0,\"redraw\":true},\"mode\":\"immediate\",\"fromcurrent\":true,\"transition\":{\"duration\":0,\"easing\":\"linear\"}}],\"label\":\"2016-01-01\",\"method\":\"animate\"},{\"args\":[[\"2017-01-01\"],{\"frame\":{\"duration\":0,\"redraw\":true},\"mode\":\"immediate\",\"fromcurrent\":true,\"transition\":{\"duration\":0,\"easing\":\"linear\"}}],\"label\":\"2017-01-01\",\"method\":\"animate\"}],\"x\":0.1,\"xanchor\":\"left\",\"y\":0,\"yanchor\":\"top\"}]},                        {\"responsive\": true}                    ).then(function(){\n",
       "                            Plotly.addFrames('c3da2848-b998-4051-85ae-70d2a9dc8b5b', [{\"data\":[{\"coloraxis\":\"coloraxis\",\"geo\":\"geo\",\"hovertemplate\":\"Year=2007-01-01<br>Country Code=%{location}<br>Malaria cases=%{z}<extra></extra>\",\"locationmode\":\"ISO-3\",\"locations\":[\"DZA\",\"AGO\",\"BEN\",\"BWA\",\"BFA\",\"BDI\",\"CPV\",\"CMR\",\"CAF\",\"TCD\",\"COM\",\"COD\",\"COG\",\"CIV\",\"DJI\",\"EGY\",\"GNQ\",\"ERI\",\"SWZ\",\"ETH\",\"GAB\",\"GMB\",\"GHA\",\"GIN\",\"GNB\",\"KEN\",\"LSO\",\"LBR\",\"LBY\",\"MDG\",\"MWI\",\"MLI\",\"MRT\",\"MUS\",\"MAR\",\"MOZ\",\"NAM\",\"NER\",\"NGA\",\"RWA\",\"STP\",\"SEN\",\"SYC\",\"SLE\",\"SOM\",\"ZAF\",\"SSD\",\"SDN\",\"TZA\",\"TGO\",\"TUN\",\"UGA\",\"ZMB\",\"ZWE\"],\"name\":\"\",\"z\":[26,1533485,0,390,44246,1101644,18,0,0,48288,38913,740858,103213,0,2320,0,6287,15565,84,451816,45186,0,476484,44518,14284,0,0,492272,0,48497,0,0,0,0,0,141663,4242,268164,0,382686,2421,118332,0,0,16675,6327,0,686908,1845917,258716,0,1045378,0,116518],\"type\":\"choropleth\"}],\"name\":\"2007-01-01\"},{\"data\":[{\"coloraxis\":\"coloraxis\",\"geo\":\"geo\",\"hovertemplate\":\"Year=2008-01-01<br>Country Code=%{location}<br>Malaria cases=%{z}<extra></extra>\",\"locationmode\":\"ISO-3\",\"locations\":[\"DZA\",\"AGO\",\"BEN\",\"BWA\",\"BFA\",\"BDI\",\"CPV\",\"CMR\",\"CAF\",\"COM\",\"TCD\",\"COD\",\"COG\",\"CIV\",\"DJI\",\"EGY\",\"GNQ\",\"ERI\",\"SWZ\",\"ETH\",\"GAB\",\"GMB\",\"GHA\",\"GIN\",\"GNB\",\"KEN\",\"LSO\",\"LBR\",\"LBY\",\"MDG\",\"MWI\",\"MLI\",\"MRT\",\"MUS\",\"MAR\",\"MOZ\",\"NAM\",\"NER\",\"NGA\",\"RWA\",\"STP\",\"SEN\",\"SYC\",\"SLE\",\"SOM\",\"ZAF\",\"SSD\",\"SDN\",\"TZA\",\"TGO\",\"TUN\",\"UGA\",\"ZMB\",\"ZWE\"],\"name\":\"\",\"z\":[3,1377992,0,927,36514,876741,35,0,0,38917,47757,2270,117291,3527,2289,0,9503,8764,58,458561,40701,39164,1094483,33405,11299,839903,0,606952,0,93234,0,0,302,0,0,120259,1092,682685,143079,316242,6258,241926,0,176356,36905,7796,52011,569296,4508,397283,0,979298,0,32788],\"type\":\"choropleth\"}],\"name\":\"2008-01-01\"},{\"data\":[{\"coloraxis\":\"coloraxis\",\"geo\":\"geo\",\"hovertemplate\":\"Year=2009-01-01<br>Country Code=%{location}<br>Malaria cases=%{z}<extra></extra>\",\"locationmode\":\"ISO-3\",\"locations\":[\"DZA\",\"AGO\",\"BEN\",\"BWA\",\"BFA\",\"BDI\",\"CPV\",\"CMR\",\"CAF\",\"TCD\",\"COM\",\"COD\",\"COG\",\"CIV\",\"DJI\",\"EGY\",\"GNQ\",\"ERI\",\"SWZ\",\"ETH\",\"GAB\",\"GMB\",\"GHA\",\"GIN\",\"GNB\",\"KEN\",\"LSO\",\"LBR\",\"LBY\",\"MDG\",\"MWI\",\"MLI\",\"MRT\",\"MUS\",\"MAR\",\"MOZ\",\"NAM\",\"NER\",\"NGA\",\"RWA\",\"STP\",\"SEN\",\"SYC\",\"SLE\",\"SOM\",\"ZAF\",\"SSD\",\"SDN\",\"TZA\",\"TGO\",\"TUN\",\"UGA\",\"ZMB\",\"ZWE\"],\"name\":\"\",\"z\":[0,1573422,889597,1024,182527,1185622,65,0,0,0,38920,1879694,92855,7388,2686,0,14184,11759,106,1144640,660,50378,1104370,35841,11757,0,0,839581,0,215110,0,0,940,0,0,93874,505,309675,479845,698745,6182,165933,0,646808,25202,6072,0,711462,211,571611,0,1301337,0,114028],\"type\":\"choropleth\"}],\"name\":\"2009-01-01\"},{\"data\":[{\"coloraxis\":\"coloraxis\",\"geo\":\"geo\",\"hovertemplate\":\"Year=2010-01-01<br>Country Code=%{location}<br>Malaria cases=%{z}<extra></extra>\",\"locationmode\":\"ISO-3\",\"locations\":[\"DZA\",\"AGO\",\"BEN\",\"BWA\",\"BFA\",\"BDI\",\"CPV\",\"CMR\",\"CAF\",\"TCD\",\"COM\",\"COD\",\"COG\",\"CIV\",\"DJI\",\"EGY\",\"GNQ\",\"ERI\",\"SWZ\",\"ETH\",\"GAB\",\"GMB\",\"GHA\",\"GIN\",\"GNB\",\"KEN\",\"LSO\",\"LBR\",\"LBY\",\"MDG\",\"MWI\",\"MLI\",\"MRT\",\"MUS\",\"MAR\",\"MOZ\",\"NAM\",\"NER\",\"NGA\",\"RWA\",\"STP\",\"SEN\",\"SYC\",\"SLE\",\"SOM\",\"ZAF\",\"SSD\",\"SDN\",\"TZA\",\"TGO\",\"TUN\",\"UGA\",\"ZMB\",\"ZWE\"],\"name\":\"\",\"z\":[1,1682870,0,1046,804539,1763447,47,0,0,200448,36538,2417780,0,62726,1010,0,53813,35982,268,1158197,13936,116353,1071637,20936,50391,898531,0,922173,0,202450,0,239787,6367,0,0,1522577,556,642774,551187,669322,2740,330331,0,934028,24833,8060,900283,720557,1278998,1006702,0,1581160,0,249379],\"type\":\"choropleth\"}],\"name\":\"2010-01-01\"},{\"data\":[{\"coloraxis\":\"coloraxis\",\"geo\":\"geo\",\"hovertemplate\":\"Year=2011-01-01<br>Country Code=%{location}<br>Malaria cases=%{z}<extra></extra>\",\"locationmode\":\"ISO-3\",\"locations\":[\"DZA\",\"AGO\",\"BEN\",\"BWA\",\"BFA\",\"BDI\",\"CPV\",\"CMR\",\"CAF\",\"TCD\",\"COM\",\"COD\",\"COG\",\"CIV\",\"DJI\",\"EGY\",\"GNQ\",\"ERI\",\"SWZ\",\"ETH\",\"GAB\",\"GMB\",\"GHA\",\"GIN\",\"GNB\",\"KEN\",\"LSO\",\"LBR\",\"LBY\",\"MDG\",\"MWI\",\"MLI\",\"MRT\",\"MUS\",\"MAR\",\"MOZ\",\"NAM\",\"NER\",\"NGA\",\"RWA\",\"STP\",\"SEN\",\"SYC\",\"SLE\",\"SOM\",\"ZAF\",\"SSD\",\"SDN\",\"TZA\",\"TGO\",\"TUN\",\"UGA\",\"ZMB\",\"ZWE\"],\"name\":\"\",\"z\":[1,1632282,68745,432,428113,1575237,7,33086,0,181126,24856,4561981,37744,29976,2189,0,22466,34848,549,1480306,0,268020,1041260,95574,71982,1002805,0,1921159,0,224498,304499,307035,5991,0,0,1756874,1860,838585,0,273293,8442,274119,0,638859,3351,9866,112024,506806,2150761,519450,0,231873,0,319935],\"type\":\"choropleth\"}],\"name\":\"2011-01-01\"},{\"data\":[{\"coloraxis\":\"coloraxis\",\"geo\":\"geo\",\"hovertemplate\":\"Year=2012-01-01<br>Country Code=%{location}<br>Malaria cases=%{z}<extra></extra>\",\"locationmode\":\"ISO-3\",\"locations\":[\"DZA\",\"AGO\",\"BEN\",\"BWA\",\"BFA\",\"BDI\",\"CPV\",\"CMR\",\"CAF\",\"TCD\",\"COM\",\"COD\",\"COG\",\"CIV\",\"DJI\",\"EGY\",\"GNQ\",\"ERI\",\"SWZ\",\"ETH\",\"GAB\",\"GMB\",\"GHA\",\"GIN\",\"GNB\",\"KEN\",\"LSO\",\"LBR\",\"LBY\",\"MDG\",\"MWI\",\"MLI\",\"MRT\",\"MUS\",\"MAR\",\"MOZ\",\"NAM\",\"NER\",\"NGA\",\"RWA\",\"STP\",\"SEN\",\"SYC\",\"SLE\",\"SOM\",\"ZAF\",\"SSD\",\"SDN\",\"TZA\",\"TGO\",\"TUN\",\"UGA\",\"ZMB\",\"ZWE\"],\"name\":\"\",\"z\":[55,1496834,705839,193,3858046,2166690,1,66656,87566,7710,49840,4791598,120319,1140627,2153,0,15169,21815,562,1692578,19753,313469,3755166,340258,50381,1453471,0,1412629,0,402900,1564984,968136,9037,0,0,1853276,194,2329260,0,563852,10701,280241,0,1537322,35712,6621,225371,526931,1986955,909129,0,2662258,0,276963],\"type\":\"choropleth\"}],\"name\":\"2012-01-01\"},{\"data\":[{\"coloraxis\":\"coloraxis\",\"geo\":\"geo\",\"hovertemplate\":\"Year=2013-01-01<br>Country Code=%{location}<br>Malaria cases=%{z}<extra></extra>\",\"locationmode\":\"ISO-3\",\"locations\":[\"DZA\",\"AGO\",\"BEN\",\"BWA\",\"BFA\",\"BDI\",\"CPV\",\"CMR\",\"CAF\",\"TCD\",\"COM\",\"COD\",\"COG\",\"CIV\",\"DJI\",\"EGY\",\"GNQ\",\"ERI\",\"SWZ\",\"ETH\",\"GAB\",\"GMB\",\"GHA\",\"GIN\",\"GNB\",\"KEN\",\"LSO\",\"LBR\",\"LBY\",\"MDG\",\"MWI\",\"MLI\",\"MRT\",\"MUS\",\"MAR\",\"MOZ\",\"NAM\",\"NER\",\"NGA\",\"RWA\",\"STP\",\"SEN\",\"SYC\",\"SLE\",\"SOM\",\"ZAF\",\"SSD\",\"SDN\",\"TZA\",\"TGO\",\"TUN\",\"UGA\",\"ZMB\",\"ZWE\"],\"name\":\"\",\"z\":[8,1999868,1090602,456,3769051,4178338,22,69232,163701,754565,53156,6719887,43232,2524326,1684,0,16405,21317,962,2645454,28982,242513,1639451,211257,54584,2375129,0,1244220,0,433450,1280892,1506940,13085,0,0,3282172,4911,2373591,0,1040557,9243,366687,0,1701958,8944,8645,262520,592383,1550250,965334,0,1502362,0,422633],\"type\":\"choropleth\"}],\"name\":\"2013-01-01\"},{\"data\":[{\"coloraxis\":\"coloraxis\",\"geo\":\"geo\",\"hovertemplate\":\"Year=2014-01-01<br>Country Code=%{location}<br>Malaria cases=%{z}<extra></extra>\",\"locationmode\":\"ISO-3\",\"locations\":[\"DZA\",\"AGO\",\"BEN\",\"BWA\",\"BFA\",\"BDI\",\"CPV\",\"CMR\",\"CAF\",\"TCD\",\"COM\",\"COD\",\"COG\",\"CIV\",\"DJI\",\"EGY\",\"GNQ\",\"ERI\",\"SWZ\",\"ETH\",\"GAB\",\"GMB\",\"GHA\",\"GIN\",\"GNB\",\"KEN\",\"LSO\",\"LBR\",\"LBY\",\"MDG\",\"MWI\",\"MLI\",\"MRT\",\"MUS\",\"MAR\",\"MOZ\",\"NAM\",\"NER\",\"NGA\",\"RWA\",\"STP\",\"SEN\",\"SYC\",\"SLE\",\"SOM\",\"ZAF\",\"SSD\",\"SDN\",\"TZA\",\"TGO\",\"TUN\",\"UGA\",\"ZMB\",\"ZWE\"],\"name\":\"\",\"z\":[0,2298979,1130558,1346,5428655,4726299,26,0,295088,914032,2203,10288519,66323,3712831,9439,0,20417,50534,711,2118815,31900,168256,3415912,660207,93431,2851555,0,881224,0,468743,2905310,2220956,15835,0,0,7407175,15914,2010489,7826954,1719904,1754,268912,0,1374476,11001,11705,71377,1068506,680442,1524339,0,3631939,4077547,548276],\"type\":\"choropleth\"}],\"name\":\"2014-01-01\"},{\"data\":[{\"coloraxis\":\"coloraxis\",\"geo\":\"geo\",\"hovertemplate\":\"Year=2015-01-01<br>Country Code=%{location}<br>Malaria cases=%{z}<extra></extra>\",\"locationmode\":\"ISO-3\",\"locations\":[\"DZA\",\"AGO\",\"BEN\",\"BWA\",\"BFA\",\"BDI\",\"CPV\",\"CMR\",\"CAF\",\"TCD\",\"COM\",\"COD\",\"COG\",\"CIV\",\"DJI\",\"EGY\",\"GNQ\",\"ERI\",\"SWZ\",\"ETH\",\"GAB\",\"GMB\",\"GHA\",\"GIN\",\"GNB\",\"KEN\",\"LSO\",\"LBR\",\"LBY\",\"MDG\",\"MWI\",\"MLI\",\"MRT\",\"MUS\",\"MAR\",\"MOZ\",\"NAM\",\"NER\",\"NGA\",\"RWA\",\"STP\",\"SEN\",\"SYC\",\"SLE\",\"SOM\",\"ZAF\",\"SSD\",\"SDN\",\"TZA\",\"TGO\",\"TUN\",\"UGA\",\"ZMB\",\"ZWE\"],\"name\":\"\",\"z\":[0,2769305,1524739,326,7015446,5428710,7,1193281,598833,787046,1300,12538805,51529,3375904,9473,0,15142,28036,157,1867059,23867,245435,4319919,810979,146027,1581168,0,941711,0,937241,3661238,2454508,22631,0,0,8222814,12168,2392108,7131972,2694566,2058,492253,0,1483376,20953,1157,24371,586827,4241364,1508015,0,7137662,4184661,482379],\"type\":\"choropleth\"}],\"name\":\"2015-01-01\"},{\"data\":[{\"coloraxis\":\"coloraxis\",\"geo\":\"geo\",\"hovertemplate\":\"Year=2016-01-01<br>Country Code=%{location}<br>Malaria cases=%{z}<extra></extra>\",\"locationmode\":\"ISO-3\",\"locations\":[\"DZA\",\"AGO\",\"BEN\",\"BWA\",\"BFA\",\"BDI\",\"CPV\",\"CMR\",\"CAF\",\"TCD\",\"COM\",\"COD\",\"COG\",\"CIV\",\"DJI\",\"EGY\",\"GNQ\",\"ERI\",\"SWZ\",\"ETH\",\"GAB\",\"GMB\",\"GHA\",\"GIN\",\"GNB\",\"KEN\",\"LSO\",\"LBR\",\"LBY\",\"MDG\",\"MWI\",\"MLI\",\"MRT\",\"MUS\",\"MAR\",\"MOZ\",\"NAM\",\"NER\",\"NGA\",\"RWA\",\"STP\",\"SEN\",\"SYC\",\"SLE\",\"SOM\",\"ZAF\",\"SSD\",\"SDN\",\"TZA\",\"TGO\",\"TUN\",\"UGA\",\"ZMB\",\"ZWE\"],\"name\":\"\",\"z\":[0,3794253,1395618,716,9779411,8793176,48,1694002,1032764,1294768,1143,16821130,171847,3645081,13804,0,147714,24251,350,1718504,23915,159997,4505442,992146,152404,2931406,0,1191137,0,655480,4827373,2311098,23042,0,0,9690873,25198,4258110,12293820,4725577,2238,349540,0,1775306,35628,4323,7619,575015,5188863,1746234,0,9385132,4851319,314003],\"type\":\"choropleth\"}],\"name\":\"2016-01-01\"},{\"data\":[{\"coloraxis\":\"coloraxis\",\"geo\":\"geo\",\"hovertemplate\":\"Year=2017-01-01<br>Country Code=%{location}<br>Malaria cases=%{z}<extra></extra>\",\"locationmode\":\"ISO-3\",\"locations\":[\"DZA\",\"AGO\",\"BEN\",\"BWA\",\"BFA\",\"BDI\",\"CPV\",\"CMR\",\"CAF\",\"TCD\",\"COM\",\"COD\",\"COG\",\"CIV\",\"DJI\",\"EGY\",\"GNQ\",\"ERI\",\"SWZ\",\"ETH\",\"GAB\",\"GMB\",\"GHA\",\"GIN\",\"GNB\",\"KEN\",\"LSO\",\"LBR\",\"LBY\",\"MDG\",\"MWI\",\"MLI\",\"MRT\",\"MUS\",\"MAR\",\"MOZ\",\"NAM\",\"NER\",\"NGA\",\"RWA\",\"STP\",\"SEN\",\"SYC\",\"SLE\",\"SOM\",\"ZAF\",\"SSD\",\"SDN\",\"TZA\",\"TGO\",\"TUN\",\"UGA\",\"ZMB\",\"ZWE\"],\"name\":\"\",\"z\":[0,3874892,1774022,1900,10255415,8453810,423,1317371,383309,1962372,3230,16793002,127939,3475953,14671,0,15725,54005,724,1530739,35244,72412,5584185,1335323,92846,3419883,0,1783968,0,935229,4901344,2097797,20105,0,0,9892601,54268,2761268,11639713,4413473,2239,395706,0,1651236,35138,22517,1488005,720879,5354819,1755577,0,11667831,5505639,467508],\"type\":\"choropleth\"}],\"name\":\"2017-01-01\"}]);\n",
       "                        }).then(function(){\n",
       "                            \n",
       "var gd = document.getElementById('c3da2848-b998-4051-85ae-70d2a9dc8b5b');\n",
       "var x = new MutationObserver(function (mutations, observer) {{\n",
       "        var display = window.getComputedStyle(gd).display;\n",
       "        if (!display || display === 'none') {{\n",
       "            console.log([gd, 'removed!']);\n",
       "            Plotly.purge(gd);\n",
       "            observer.disconnect();\n",
       "        }}\n",
       "}});\n",
       "\n",
       "// Listen for the removal of the full notebook cells\n",
       "var notebookContainer = gd.closest('#notebook-container');\n",
       "if (notebookContainer) {{\n",
       "    x.observe(notebookContainer, {childList: true});\n",
       "}}\n",
       "\n",
       "// Listen for the clearing of the current output cell\n",
       "var outputEl = gd.closest('.output');\n",
       "if (outputEl) {{\n",
       "    x.observe(outputEl, {childList: true});\n",
       "}}\n",
       "\n",
       "                        })                };                });            </script>        </div>"
      ]
     },
     "metadata": {},
     "output_type": "display_data"
    }
   ],
   "source": [
    "# Malaria cases at risk\n",
    "fig2 = px.choropleth(df,locations=df['Country Code'],\n",
    "                     color=df['Malaria cases'],\n",
    "                     color_continuous_scale='Blues',\n",
    "                     locationmode='ISO-3',scope='africa',\n",
    "                     animation_frame=df['Year'],title=\"Malaria cases in Africa\",\n",
    "                     labels={'color':'Malaria cases'})\n",
    "\n",
    "fig2.show()"
   ]
  },
  {
   "cell_type": "markdown",
   "metadata": {
    "id": "-QvvizIc2kHG"
   },
   "source": [
    "# Modeling"
   ]
  },
  {
   "cell_type": "code",
   "execution_count": 44,
   "metadata": {
    "id": "5S8fnPK8z0w_"
   },
   "outputs": [],
   "source": [
    "from sklearn.model_selection import train_test_split, RandomizedSearchCV\n",
    "from sklearn import metrics\n",
    "from sklearn.preprocessing import LabelEncoder, MinMaxScaler\n",
    "\n",
    "#import regression models\n",
    "from sklearn.linear_model import LinearRegression, Ridge, Lasso\n",
    "from sklearn.svm import SVR\n",
    "from sklearn.ensemble import RandomForestRegressor\n",
    "import pickle"
   ]
  },
  {
   "cell_type": "code",
   "execution_count": 45,
   "metadata": {
    "id": "-z3nJInb9-ZY"
   },
   "outputs": [
    {
     "data": {
      "text/html": [
       "<div>\n",
       "<style scoped>\n",
       "    .dataframe tbody tr th:only-of-type {\n",
       "        vertical-align: middle;\n",
       "    }\n",
       "\n",
       "    .dataframe tbody tr th {\n",
       "        vertical-align: top;\n",
       "    }\n",
       "\n",
       "    .dataframe thead th {\n",
       "        text-align: right;\n",
       "    }\n",
       "</style>\n",
       "<table border=\"1\" class=\"dataframe\">\n",
       "  <thead>\n",
       "    <tr style=\"text-align: right;\">\n",
       "      <th></th>\n",
       "      <th>Country Name</th>\n",
       "      <th>Year</th>\n",
       "      <th>Country Code</th>\n",
       "      <th>Incidence rate</th>\n",
       "      <th>Malaria cases</th>\n",
       "      <th>% Use ITNs</th>\n",
       "      <th>% Child fever</th>\n",
       "      <th>% IPT</th>\n",
       "      <th>% Safe DW all</th>\n",
       "      <th>% Safe DW rural</th>\n",
       "      <th>% Safe DW urban</th>\n",
       "      <th>% Safe sanitation all</th>\n",
       "      <th>% Safe sanitation rural</th>\n",
       "      <th>% Safe sanitation urban</th>\n",
       "      <th>% Rural pop</th>\n",
       "      <th>% Rural annual growth</th>\n",
       "      <th>% Urban pop</th>\n",
       "      <th>% Urban annual growth</th>\n",
       "      <th>% Basic DW all</th>\n",
       "      <th>% Basic DW rural</th>\n",
       "      <th>% Basic DW urban</th>\n",
       "      <th>% Basic sanitation all</th>\n",
       "      <th>% Basic sanitation rural</th>\n",
       "      <th>% Basic sanitation urban</th>\n",
       "      <th>latitude</th>\n",
       "      <th>longitude</th>\n",
       "      <th>geometry</th>\n",
       "    </tr>\n",
       "  </thead>\n",
       "  <tbody>\n",
       "    <tr>\n",
       "      <th>0</th>\n",
       "      <td>Algeria</td>\n",
       "      <td>2007</td>\n",
       "      <td>DZA</td>\n",
       "      <td>0.01</td>\n",
       "      <td>26.0</td>\n",
       "      <td>0.0</td>\n",
       "      <td>0.0</td>\n",
       "      <td>0.0</td>\n",
       "      <td>0.0</td>\n",
       "      <td>0.0</td>\n",
       "      <td>0.00</td>\n",
       "      <td>18.24</td>\n",
       "      <td>19.96</td>\n",
       "      <td>17.33</td>\n",
       "      <td>34.65</td>\n",
       "      <td>-0.60</td>\n",
       "      <td>65.35</td>\n",
       "      <td>2.71</td>\n",
       "      <td>91.68</td>\n",
       "      <td>85.83</td>\n",
       "      <td>94.78</td>\n",
       "      <td>85.85</td>\n",
       "      <td>76.94</td>\n",
       "      <td>90.57</td>\n",
       "      <td>28.033886</td>\n",
       "      <td>1.659626</td>\n",
       "      <td>POINT (28.033886 1.659626)</td>\n",
       "    </tr>\n",
       "    <tr>\n",
       "      <th>1</th>\n",
       "      <td>Angola</td>\n",
       "      <td>2007</td>\n",
       "      <td>AGO</td>\n",
       "      <td>286.72</td>\n",
       "      <td>1533485.0</td>\n",
       "      <td>18.0</td>\n",
       "      <td>29.8</td>\n",
       "      <td>1.5</td>\n",
       "      <td>0.0</td>\n",
       "      <td>0.0</td>\n",
       "      <td>0.00</td>\n",
       "      <td>0.00</td>\n",
       "      <td>0.00</td>\n",
       "      <td>0.00</td>\n",
       "      <td>42.48</td>\n",
       "      <td>1.91</td>\n",
       "      <td>57.52</td>\n",
       "      <td>5.01</td>\n",
       "      <td>47.96</td>\n",
       "      <td>23.77</td>\n",
       "      <td>65.83</td>\n",
       "      <td>37.26</td>\n",
       "      <td>14.00</td>\n",
       "      <td>54.44</td>\n",
       "      <td>-11.202692</td>\n",
       "      <td>17.873887</td>\n",
       "      <td>POINT (-11.202692 17.873887)</td>\n",
       "    </tr>\n",
       "    <tr>\n",
       "      <th>2</th>\n",
       "      <td>Benin</td>\n",
       "      <td>2007</td>\n",
       "      <td>BEN</td>\n",
       "      <td>480.24</td>\n",
       "      <td>0.0</td>\n",
       "      <td>0.0</td>\n",
       "      <td>0.0</td>\n",
       "      <td>0.0</td>\n",
       "      <td>0.0</td>\n",
       "      <td>0.0</td>\n",
       "      <td>0.00</td>\n",
       "      <td>0.00</td>\n",
       "      <td>0.00</td>\n",
       "      <td>0.00</td>\n",
       "      <td>58.44</td>\n",
       "      <td>1.99</td>\n",
       "      <td>41.56</td>\n",
       "      <td>4.09</td>\n",
       "      <td>63.78</td>\n",
       "      <td>54.92</td>\n",
       "      <td>76.24</td>\n",
       "      <td>11.80</td>\n",
       "      <td>4.29</td>\n",
       "      <td>22.36</td>\n",
       "      <td>9.307690</td>\n",
       "      <td>2.315834</td>\n",
       "      <td>POINT (9.307689999999999 2.315834)</td>\n",
       "    </tr>\n",
       "    <tr>\n",
       "      <th>3</th>\n",
       "      <td>Botswana</td>\n",
       "      <td>2007</td>\n",
       "      <td>BWA</td>\n",
       "      <td>1.03</td>\n",
       "      <td>390.0</td>\n",
       "      <td>0.0</td>\n",
       "      <td>0.0</td>\n",
       "      <td>0.0</td>\n",
       "      <td>0.0</td>\n",
       "      <td>0.0</td>\n",
       "      <td>83.96</td>\n",
       "      <td>0.00</td>\n",
       "      <td>0.00</td>\n",
       "      <td>0.00</td>\n",
       "      <td>42.07</td>\n",
       "      <td>-1.44</td>\n",
       "      <td>57.93</td>\n",
       "      <td>4.80</td>\n",
       "      <td>78.89</td>\n",
       "      <td>57.60</td>\n",
       "      <td>94.35</td>\n",
       "      <td>61.60</td>\n",
       "      <td>39.99</td>\n",
       "      <td>77.30</td>\n",
       "      <td>-22.328474</td>\n",
       "      <td>24.684866</td>\n",
       "      <td>POINT (-22.328474 24.684866)</td>\n",
       "    </tr>\n",
       "    <tr>\n",
       "      <th>4</th>\n",
       "      <td>Burkina Faso</td>\n",
       "      <td>2007</td>\n",
       "      <td>BFA</td>\n",
       "      <td>503.80</td>\n",
       "      <td>44246.0</td>\n",
       "      <td>0.0</td>\n",
       "      <td>0.0</td>\n",
       "      <td>0.0</td>\n",
       "      <td>0.0</td>\n",
       "      <td>0.0</td>\n",
       "      <td>0.00</td>\n",
       "      <td>0.00</td>\n",
       "      <td>0.00</td>\n",
       "      <td>0.00</td>\n",
       "      <td>77.00</td>\n",
       "      <td>2.16</td>\n",
       "      <td>23.00</td>\n",
       "      <td>5.91</td>\n",
       "      <td>52.27</td>\n",
       "      <td>45.13</td>\n",
       "      <td>76.15</td>\n",
       "      <td>15.60</td>\n",
       "      <td>6.38</td>\n",
       "      <td>46.49</td>\n",
       "      <td>12.238333</td>\n",
       "      <td>-1.561593</td>\n",
       "      <td>POINT (12.238333 -1.561593)</td>\n",
       "    </tr>\n",
       "  </tbody>\n",
       "</table>\n",
       "</div>"
      ],
      "text/plain": [
       "   Country Name  Year Country Code  Incidence rate  Malaria cases  % Use ITNs  \\\n",
       "0       Algeria  2007          DZA            0.01           26.0         0.0   \n",
       "1        Angola  2007          AGO          286.72      1533485.0        18.0   \n",
       "2         Benin  2007          BEN          480.24            0.0         0.0   \n",
       "3      Botswana  2007          BWA            1.03          390.0         0.0   \n",
       "4  Burkina Faso  2007          BFA          503.80        44246.0         0.0   \n",
       "\n",
       "   % Child fever  % IPT  % Safe DW all  % Safe DW rural  % Safe DW urban  \\\n",
       "0            0.0    0.0            0.0              0.0             0.00   \n",
       "1           29.8    1.5            0.0              0.0             0.00   \n",
       "2            0.0    0.0            0.0              0.0             0.00   \n",
       "3            0.0    0.0            0.0              0.0            83.96   \n",
       "4            0.0    0.0            0.0              0.0             0.00   \n",
       "\n",
       "   % Safe sanitation all  % Safe sanitation rural  % Safe sanitation urban  \\\n",
       "0                  18.24                    19.96                    17.33   \n",
       "1                   0.00                     0.00                     0.00   \n",
       "2                   0.00                     0.00                     0.00   \n",
       "3                   0.00                     0.00                     0.00   \n",
       "4                   0.00                     0.00                     0.00   \n",
       "\n",
       "   % Rural pop  % Rural annual growth  % Urban pop  % Urban annual growth  \\\n",
       "0        34.65                  -0.60        65.35                   2.71   \n",
       "1        42.48                   1.91        57.52                   5.01   \n",
       "2        58.44                   1.99        41.56                   4.09   \n",
       "3        42.07                  -1.44        57.93                   4.80   \n",
       "4        77.00                   2.16        23.00                   5.91   \n",
       "\n",
       "   % Basic DW all  % Basic DW rural  % Basic DW urban  % Basic sanitation all  \\\n",
       "0           91.68             85.83             94.78                   85.85   \n",
       "1           47.96             23.77             65.83                   37.26   \n",
       "2           63.78             54.92             76.24                   11.80   \n",
       "3           78.89             57.60             94.35                   61.60   \n",
       "4           52.27             45.13             76.15                   15.60   \n",
       "\n",
       "   % Basic sanitation rural  % Basic sanitation urban   latitude  longitude  \\\n",
       "0                     76.94                     90.57  28.033886   1.659626   \n",
       "1                     14.00                     54.44 -11.202692  17.873887   \n",
       "2                      4.29                     22.36   9.307690   2.315834   \n",
       "3                     39.99                     77.30 -22.328474  24.684866   \n",
       "4                      6.38                     46.49  12.238333  -1.561593   \n",
       "\n",
       "                             geometry  \n",
       "0          POINT (28.033886 1.659626)  \n",
       "1        POINT (-11.202692 17.873887)  \n",
       "2  POINT (9.307689999999999 2.315834)  \n",
       "3        POINT (-22.328474 24.684866)  \n",
       "4         POINT (12.238333 -1.561593)  "
      ]
     },
     "execution_count": 45,
     "metadata": {},
     "output_type": "execute_result"
    }
   ],
   "source": [
    "# view the first five rows of the model dataset\n",
    "model_data.head()"
   ]
  },
  {
   "cell_type": "code",
   "execution_count": 46,
   "metadata": {
    "colab": {
     "base_uri": "https://localhost:8080/"
    },
    "id": "z13QWKjb75JV",
    "outputId": "fb03ab80-fa9c-489f-c32d-3c00bdd57754"
   },
   "outputs": [
    {
     "name": "stdout",
     "output_type": "stream",
     "text": [
      "Categorical features:  Index(['Country Name', 'Country Code', 'geometry'], dtype='object')\n",
      "Numerical features:  ['Year', 'Incidence rate', 'Malaria cases', '% Use ITNs', '% Child fever', '% IPT', '% Safe DW all', '% Safe DW rural', '% Safe DW urban', '% Safe sanitation all', '% Safe sanitation rural', '% Safe sanitation urban', '% Rural pop', '% Rural annual growth', '% Urban pop', '% Urban annual growth', '% Basic DW all', '% Basic DW rural', '% Basic DW urban', '% Basic sanitation all', '% Basic sanitation rural', '% Basic sanitation urban', 'latitude', 'longitude']\n"
     ]
    }
   ],
   "source": [
    "# find categorical variable and encode\n",
    "cat_features = model_data.select_dtypes(include=['object', 'category']).columns\n",
    "num_features = [col for col in model_data.columns if col not in cat_features]\n",
    "\n",
    "# print categorical variable\n",
    "print(\"Categorical features: \", cat_features)\n",
    "\n",
    "# print numerical variable\n",
    "print(\"Numerical features: \", num_features)"
   ]
  },
  {
   "cell_type": "code",
   "execution_count": 47,
   "metadata": {
    "id": "jnGsGzv29Hhb"
   },
   "outputs": [],
   "source": [
    "# label encoding\n",
    "le = LabelEncoder()\n",
    "for i in cat_features:\n",
    "    model_data[i] = le.fit_transform(model_data[i])"
   ]
  },
  {
   "cell_type": "code",
   "execution_count": 48,
   "metadata": {},
   "outputs": [],
   "source": [
    "# the features - 'Year' will be drooped as it has it represents a timeframe the data was collected as well as other features due to their correlation \n",
    "# 'Country Code', 'latitude', 'longitude', 'geometry' will be dropped due to correlation with 'Country Name'\n",
    "cols_to_drop = ['Year', 'Country Code', '% Safe DW all', '% Safe DW rural', '% Safe DW urban', \n",
    "                '% Safe sanitation all', '% Safe sanitation rural', '% Safe sanitation urban', \n",
    "                '% Rural annual growth', '% Urban annual growth', '% Basic DW rural', '% Basic DW urban', \n",
    "                '% Basic sanitation rural', '% Basic sanitation urban', 'latitude', 'longitude', 'geometry']\n",
    "\n",
    "# drop columns\n",
    "model_data = model_data.drop(columns=cols_to_drop)"
   ]
  },
  {
   "cell_type": "code",
   "execution_count": 49,
   "metadata": {},
   "outputs": [],
   "source": [
    "# create response variables to be scaled\n",
    "response_var = model_data.drop(\"Malaria cases\", axis=1)\n",
    "\n",
    "# standardize data\n",
    "scaler = MinMaxScaler()\n",
    "scaled_df = pd.DataFrame(scaler.fit_transform(response_var), columns=response_var.columns)\n",
    "\n",
    "# add target variable to response variable\n",
    "scaled_df[\"Malaria cases\"] = model_data[\"Malaria cases\"]"
   ]
  },
  {
   "cell_type": "code",
   "execution_count": 50,
   "metadata": {
    "id": "AdqTZKTm4pXp"
   },
   "outputs": [],
   "source": [
    "# create explanatory variable (X) and response variable (y)\n",
    "X = scaled_df.drop(\"Malaria cases\", axis=1)\n",
    "y = scaled_df[\"Malaria cases\"]"
   ]
  },
  {
   "cell_type": "code",
   "execution_count": 51,
   "metadata": {
    "colab": {
     "base_uri": "https://localhost:8080/"
    },
    "id": "rbiBnqS61Gf9",
    "outputId": "652dca2a-1bc6-4195-f8d9-b3cf7d4e0221"
   },
   "outputs": [
    {
     "name": "stdout",
     "output_type": "stream",
     "text": [
      "X_train shape: (415, 9)\n",
      "y_train shape: (415,)\n",
      "X_test shape: (179, 9)\n",
      "y_test shape: (179,)\n"
     ]
    }
   ],
   "source": [
    "# split data into train and test sets - 70:30\n",
    "X_train, X_test, y_train, y_test = train_test_split(X, y, test_size=0.3, random_state=42)\n",
    "\n",
    "print(\"X_train shape:\", X_train.shape)\n",
    "print(\"y_train shape:\", y_train.shape)\n",
    "print(\"X_test shape:\", X_test.shape)\n",
    "print(\"y_test shape:\", y_test.shape)"
   ]
  },
  {
   "cell_type": "code",
   "execution_count": 52,
   "metadata": {
    "colab": {
     "base_uri": "https://localhost:8080/"
    },
    "id": "zGs-_QK91JrD",
    "outputId": "ff91e4de-b1c6-466a-a7ab-91b23838252e"
   },
   "outputs": [
    {
     "name": "stdout",
     "output_type": "stream",
     "text": [
      "True\n",
      "True\n"
     ]
    }
   ],
   "source": [
    "#  assert data split to avoid leakage\n",
    "print(len(X_train) + len(X_test) == len(X))\n",
    "print(len(y_train) + len(y_test) == len(y))"
   ]
  },
  {
   "cell_type": "code",
   "execution_count": 53,
   "metadata": {},
   "outputs": [],
   "source": [
    "# instantiate models\n",
    "modelclasses = {'LinearR': LinearRegression(), \n",
    "                'SVR': SVR(), \n",
    "                'LassoR': Lasso(), \n",
    "                'RidgeR': Ridge(),\n",
    "                'RandomForest': RandomForestRegressor()\n",
    "                }"
   ]
  },
  {
   "cell_type": "code",
   "execution_count": 55,
   "metadata": {},
   "outputs": [
    {
     "data": {
      "text/html": [
       "<div>\n",
       "<style scoped>\n",
       "    .dataframe tbody tr th:only-of-type {\n",
       "        vertical-align: middle;\n",
       "    }\n",
       "\n",
       "    .dataframe tbody tr th {\n",
       "        vertical-align: top;\n",
       "    }\n",
       "\n",
       "    .dataframe thead th {\n",
       "        text-align: right;\n",
       "    }\n",
       "</style>\n",
       "<table border=\"1\" class=\"dataframe\">\n",
       "  <thead>\n",
       "    <tr style=\"text-align: right;\">\n",
       "      <th></th>\n",
       "      <th>Model</th>\n",
       "      <th>RMSE Score</th>\n",
       "      <th>R2 Score</th>\n",
       "    </tr>\n",
       "  </thead>\n",
       "  <tbody>\n",
       "    <tr>\n",
       "      <th>0</th>\n",
       "      <td>LinearR</td>\n",
       "      <td>1.881523e+06</td>\n",
       "      <td>0.140088</td>\n",
       "    </tr>\n",
       "    <tr>\n",
       "      <th>1</th>\n",
       "      <td>SVR</td>\n",
       "      <td>2.184207e+06</td>\n",
       "      <td>-0.158837</td>\n",
       "    </tr>\n",
       "    <tr>\n",
       "      <th>2</th>\n",
       "      <td>LassoR</td>\n",
       "      <td>1.881524e+06</td>\n",
       "      <td>0.140087</td>\n",
       "    </tr>\n",
       "    <tr>\n",
       "      <th>3</th>\n",
       "      <td>RidgeR</td>\n",
       "      <td>1.886581e+06</td>\n",
       "      <td>0.135459</td>\n",
       "    </tr>\n",
       "    <tr>\n",
       "      <th>4</th>\n",
       "      <td>RandomForest</td>\n",
       "      <td>1.013449e+06</td>\n",
       "      <td>0.750518</td>\n",
       "    </tr>\n",
       "  </tbody>\n",
       "</table>\n",
       "</div>"
      ],
      "text/plain": [
       "          Model    RMSE Score  R2 Score\n",
       "0       LinearR  1.881523e+06  0.140088\n",
       "1           SVR  2.184207e+06 -0.158837\n",
       "2        LassoR  1.881524e+06  0.140087\n",
       "3        RidgeR  1.886581e+06  0.135459\n",
       "4  RandomForest  1.013449e+06  0.750518"
      ]
     },
     "execution_count": 55,
     "metadata": {},
     "output_type": "execute_result"
    }
   ],
   "source": [
    "# Iteration of models\n",
    "\n",
    "# create a list to store model results\n",
    "rmse_scores = []\n",
    "r2_scores = []\n",
    "\n",
    "for model_name, model_method in modelclasses.items():\n",
    "   \n",
    "    # fit model to training data\n",
    "    model_method.fit(X_train, y_train)\n",
    "    \n",
    "    # predict the outcomes on the test set\n",
    "    y_pred = model_method.predict(X_test)\n",
    "    \n",
    "    # append RMSE evaluation metric for the model to the list \n",
    "    rmse_scores.append(np.sqrt(metrics.mean_squared_error(y_test, y_pred)))\n",
    "    \n",
    "    # append R2 score evaluation metric for the model to the list\n",
    "    r2_scores.append(metrics.r2_score(y_test, y_pred))\n",
    "    \n",
    "# create a dataframe to store the results\n",
    "reg_results = pd.DataFrame({\"Model\":modelclasses.keys(), \"RMSE Score\": rmse_scores, \"R2 Score\": r2_scores})\n",
    "reg_results"
   ]
  },
  {
   "cell_type": "code",
   "execution_count": 56,
   "metadata": {},
   "outputs": [
    {
     "data": {
      "image/png": "[encoded data removed]",
      "text/plain": [
       "<Figure size 432x288 with 1 Axes>"
      ]
     },
     "metadata": {},
     "output_type": "display_data"
    }
   ],
   "source": [
    "# plot the R2 Score \n",
    "sns.barplot(x=reg_results['R2 Score'], y=reg_results.Model);"
   ]
  },
  {
   "cell_type": "code",
   "execution_count": 57,
   "metadata": {},
   "outputs": [
    {
     "data": {
      "text/html": [
       "<div>\n",
       "<style scoped>\n",
       "    .dataframe tbody tr th:only-of-type {\n",
       "        vertical-align: middle;\n",
       "    }\n",
       "\n",
       "    .dataframe tbody tr th {\n",
       "        vertical-align: top;\n",
       "    }\n",
       "\n",
       "    .dataframe thead th {\n",
       "        text-align: right;\n",
       "    }\n",
       "</style>\n",
       "<table border=\"1\" class=\"dataframe\">\n",
       "  <thead>\n",
       "    <tr style=\"text-align: right;\">\n",
       "      <th></th>\n",
       "      <th>Coefficient</th>\n",
       "    </tr>\n",
       "  </thead>\n",
       "  <tbody>\n",
       "    <tr>\n",
       "      <th>% IPT</th>\n",
       "      <td>2.295431e+06</td>\n",
       "    </tr>\n",
       "    <tr>\n",
       "      <th>Incidence rate</th>\n",
       "      <td>1.843782e+06</td>\n",
       "    </tr>\n",
       "    <tr>\n",
       "      <th>% Rural pop</th>\n",
       "      <td>9.374347e+05</td>\n",
       "    </tr>\n",
       "    <tr>\n",
       "      <th>% Basic sanitation all</th>\n",
       "      <td>8.847038e+05</td>\n",
       "    </tr>\n",
       "    <tr>\n",
       "      <th>% Use ITNs</th>\n",
       "      <td>8.123364e+05</td>\n",
       "    </tr>\n",
       "    <tr>\n",
       "      <th>Country Name</th>\n",
       "      <td>-4.369864e+04</td>\n",
       "    </tr>\n",
       "    <tr>\n",
       "      <th>% Child fever</th>\n",
       "      <td>-3.378519e+05</td>\n",
       "    </tr>\n",
       "    <tr>\n",
       "      <th>% Urban pop</th>\n",
       "      <td>-6.735049e+05</td>\n",
       "    </tr>\n",
       "    <tr>\n",
       "      <th>% Basic DW all</th>\n",
       "      <td>-1.230145e+06</td>\n",
       "    </tr>\n",
       "  </tbody>\n",
       "</table>\n",
       "</div>"
      ],
      "text/plain": [
       "                         Coefficient\n",
       "% IPT                   2.295431e+06\n",
       "Incidence rate          1.843782e+06\n",
       "% Rural pop             9.374347e+05\n",
       "% Basic sanitation all  8.847038e+05\n",
       "% Use ITNs              8.123364e+05\n",
       "Country Name           -4.369864e+04\n",
       "% Child fever          -3.378519e+05\n",
       "% Urban pop            -6.735049e+05\n",
       "% Basic DW all         -1.230145e+06"
      ]
     },
     "execution_count": 57,
     "metadata": {},
     "output_type": "execute_result"
    }
   ],
   "source": [
    "# obtain feature weights for linear regression\n",
    "coefficient = (list(modelclasses.values())[0]).coef_\n",
    "\n",
    "# create a dataframe of feature weight\n",
    "feature_weight = pd.DataFrame(coefficient, X.columns, columns=[\"Coefficient\"]).sort_values(by=\"Coefficient\", ascending=False)\n",
    "feature_weight"
   ]
  },
  {
   "cell_type": "code",
   "execution_count": 58,
   "metadata": {},
   "outputs": [
    {
     "data": {
      "image/png": "[encoded data removed]",
      "text/plain": [
       "<Figure size 792x576 with 1 Axes>"
      ]
     },
     "metadata": {},
     "output_type": "display_data"
    }
   ],
   "source": [
    "# plot feature weights using seaborn\n",
    "plt.figure(figsize=(11,8))\n",
    "plt.xlabel('Coefficient')\n",
    "plt.ylabel('Features')\n",
    "plt.title('Linear Regression Feature Weights')\n",
    "sns.barplot(x=feature_weight['Coefficient'], y=feature_weight.index);"
   ]
  },
  {
   "cell_type": "code",
   "execution_count": 59,
   "metadata": {},
   "outputs": [
    {
     "data": {
      "image/png": "[encoded data removed]",
      "text/plain": [
       "<Figure size 792x576 with 1 Axes>"
      ]
     },
     "metadata": {},
     "output_type": "display_data"
    }
   ],
   "source": [
    "# obtain feature weights for random forest regression\n",
    "feat_imp = (list(modelclasses.values())[4]).feature_importances_\n",
    "\n",
    "# create a dataframe of feature weight\n",
    "feat_imp_ = pd.DataFrame(feat_imp, X.columns, columns=[\"Feature Importance\"]).sort_values(by=\"Feature Importance\", ascending=False)\n",
    "\n",
    "# plot feature weights\n",
    "plt.figure(figsize=(11,8))\n",
    "plt.xlabel('Feature Importance')\n",
    "plt.ylabel('Features')\n",
    "plt.title('Random Forest Feature Importance')\n",
    "sns.barplot(x=feat_imp_['Feature Importance'], y=feat_imp_.index);"
   ]
  },
  {
   "cell_type": "code",
   "execution_count": 60,
   "metadata": {},
   "outputs": [
    {
     "name": "stdout",
     "output_type": "stream",
     "text": [
      "Fitting 5 folds for each of 50 candidates, totalling 250 fits\n"
     ]
    },
    {
     "data": {
      "text/html": [
       "<style>#sk-container-id-1 {color: black;background-color: white;}#sk-container-id-1 pre{padding: 0;}#sk-container-id-1 div.sk-toggleable {background-color: white;}#sk-container-id-1 label.sk-toggleable__label {cursor: pointer;display: block;width: 100%;margin-bottom: 0;padding: 0.3em;box-sizing: border-box;text-align: center;}#sk-container-id-1 label.sk-toggleable__label-arrow:before {content: \"▸\";float: left;margin-right: 0.25em;color: #696969;}#sk-container-id-1 label.sk-toggleable__label-arrow:hover:before {color: black;}#sk-container-id-1 div.sk-estimator:hover label.sk-toggleable__label-arrow:before {color: black;}#sk-container-id-1 div.sk-toggleable__content {max-height: 0;max-width: 0;overflow: hidden;text-align: left;background-color: #f0f8ff;}#sk-container-id-1 div.sk-toggleable__content pre {margin: 0.2em;color: black;border-radius: 0.25em;background-color: #f0f8ff;}#sk-container-id-1 input.sk-toggleable__control:checked~div.sk-toggleable__content {max-height: 200px;max-width: 100%;overflow: auto;}#sk-container-id-1 input.sk-toggleable__control:checked~label.sk-toggleable__label-arrow:before {content: \"▾\";}#sk-container-id-1 div.sk-estimator input.sk-toggleable__control:checked~label.sk-toggleable__label {background-color: #d4ebff;}#sk-container-id-1 div.sk-label input.sk-toggleable__control:checked~label.sk-toggleable__label {background-color: #d4ebff;}#sk-container-id-1 input.sk-hidden--visually {border: 0;clip: rect(1px 1px 1px 1px);clip: rect(1px, 1px, 1px, 1px);height: 1px;margin: -1px;overflow: hidden;padding: 0;position: absolute;width: 1px;}#sk-container-id-1 div.sk-estimator {font-family: monospace;background-color: #f0f8ff;border: 1px dotted black;border-radius: 0.25em;box-sizing: border-box;margin-bottom: 0.5em;}#sk-container-id-1 div.sk-estimator:hover {background-color: #d4ebff;}#sk-container-id-1 div.sk-parallel-item::after {content: \"\";width: 100%;border-bottom: 1px solid gray;flex-grow: 1;}#sk-container-id-1 div.sk-label:hover label.sk-toggleable__label {background-color: #d4ebff;}#sk-container-id-1 div.sk-serial::before {content: \"\";position: absolute;border-left: 1px solid gray;box-sizing: border-box;top: 0;bottom: 0;left: 50%;z-index: 0;}#sk-container-id-1 div.sk-serial {display: flex;flex-direction: column;align-items: center;background-color: white;padding-right: 0.2em;padding-left: 0.2em;position: relative;}#sk-container-id-1 div.sk-item {position: relative;z-index: 1;}#sk-container-id-1 div.sk-parallel {display: flex;align-items: stretch;justify-content: center;background-color: white;position: relative;}#sk-container-id-1 div.sk-item::before, #sk-container-id-1 div.sk-parallel-item::before {content: \"\";position: absolute;border-left: 1px solid gray;box-sizing: border-box;top: 0;bottom: 0;left: 50%;z-index: -1;}#sk-container-id-1 div.sk-parallel-item {display: flex;flex-direction: column;z-index: 1;position: relative;background-color: white;}#sk-container-id-1 div.sk-parallel-item:first-child::after {align-self: flex-end;width: 50%;}#sk-container-id-1 div.sk-parallel-item:last-child::after {align-self: flex-start;width: 50%;}#sk-container-id-1 div.sk-parallel-item:only-child::after {width: 0;}#sk-container-id-1 div.sk-dashed-wrapped {border: 1px dashed gray;margin: 0 0.4em 0.5em 0.4em;box-sizing: border-box;padding-bottom: 0.4em;background-color: white;}#sk-container-id-1 div.sk-label label {font-family: monospace;font-weight: bold;display: inline-block;line-height: 1.2em;}#sk-container-id-1 div.sk-label-container {text-align: center;}#sk-container-id-1 div.sk-container {/* jupyter's `normalize.less` sets `[hidden] { display: none; }` but bootstrap.min.css set `[hidden] { display: none !important; }` so we also need the `!important` here to be able to override the default hidden behavior on the sphinx rendered scikit-learn.org. See: https://github.com/scikit-learn/scikit-learn/issues/21755 */display: inline-block !important;position: relative;}#sk-container-id-1 div.sk-text-repr-fallback {display: none;}</style><div id=\"sk-container-id-1\" class=\"sk-top-container\"><div class=\"sk-text-repr-fallback\"><pre>RandomizedSearchCV(cv=5, estimator=RandomForestRegressor(), n_iter=50,\n",
       "                   n_jobs=-1,\n",
       "                   param_distributions={&#x27;max_depth&#x27;: [10, 20, 30, 40, 50, 60,\n",
       "                                                      70, 80, 90, 100],\n",
       "                                        &#x27;min_samples_leaf&#x27;: [1, 2, 4],\n",
       "                                        &#x27;min_samples_split&#x27;: [2, 5, 10],\n",
       "                                        &#x27;n_estimators&#x27;: [200, 400, 600, 800,\n",
       "                                                         1000, 1200, 1400, 1600,\n",
       "                                                         1800, 2000]},\n",
       "                   random_state=1, scoring=&#x27;r2&#x27;, verbose=1)</pre><b>In a Jupyter environment, please rerun this cell to show the HTML representation or trust the notebook. <br />On GitHub, the HTML representation is unable to render, please try loading this page with nbviewer.org.</b></div><div class=\"sk-container\" hidden><div class=\"sk-item sk-dashed-wrapped\"><div class=\"sk-label-container\"><div class=\"sk-label sk-toggleable\"><input class=\"sk-toggleable__control sk-hidden--visually\" id=\"sk-estimator-id-1\" type=\"checkbox\" ><label for=\"sk-estimator-id-1\" class=\"sk-toggleable__label sk-toggleable__label-arrow\">RandomizedSearchCV</label><div class=\"sk-toggleable__content\"><pre>RandomizedSearchCV(cv=5, estimator=RandomForestRegressor(), n_iter=50,\n",
       "                   n_jobs=-1,\n",
       "                   param_distributions={&#x27;max_depth&#x27;: [10, 20, 30, 40, 50, 60,\n",
       "                                                      70, 80, 90, 100],\n",
       "                                        &#x27;min_samples_leaf&#x27;: [1, 2, 4],\n",
       "                                        &#x27;min_samples_split&#x27;: [2, 5, 10],\n",
       "                                        &#x27;n_estimators&#x27;: [200, 400, 600, 800,\n",
       "                                                         1000, 1200, 1400, 1600,\n",
       "                                                         1800, 2000]},\n",
       "                   random_state=1, scoring=&#x27;r2&#x27;, verbose=1)</pre></div></div></div><div class=\"sk-parallel\"><div class=\"sk-parallel-item\"><div class=\"sk-item\"><div class=\"sk-label-container\"><div class=\"sk-label sk-toggleable\"><input class=\"sk-toggleable__control sk-hidden--visually\" id=\"sk-estimator-id-2\" type=\"checkbox\" ><label for=\"sk-estimator-id-2\" class=\"sk-toggleable__label sk-toggleable__label-arrow\">estimator: RandomForestRegressor</label><div class=\"sk-toggleable__content\"><pre>RandomForestRegressor()</pre></div></div></div><div class=\"sk-serial\"><div class=\"sk-item\"><div class=\"sk-estimator sk-toggleable\"><input class=\"sk-toggleable__control sk-hidden--visually\" id=\"sk-estimator-id-3\" type=\"checkbox\" ><label for=\"sk-estimator-id-3\" class=\"sk-toggleable__label sk-toggleable__label-arrow\">RandomForestRegressor</label><div class=\"sk-toggleable__content\"><pre>RandomForestRegressor()</pre></div></div></div></div></div></div></div></div></div></div>"
      ],
      "text/plain": [
       "RandomizedSearchCV(cv=5, estimator=RandomForestRegressor(), n_iter=50,\n",
       "                   n_jobs=-1,\n",
       "                   param_distributions={'max_depth': [10, 20, 30, 40, 50, 60,\n",
       "                                                      70, 80, 90, 100],\n",
       "                                        'min_samples_leaf': [1, 2, 4],\n",
       "                                        'min_samples_split': [2, 5, 10],\n",
       "                                        'n_estimators': [200, 400, 600, 800,\n",
       "                                                         1000, 1200, 1400, 1600,\n",
       "                                                         1800, 2000]},\n",
       "                   random_state=1, scoring='r2', verbose=1)"
      ]
     },
     "execution_count": 60,
     "metadata": {},
     "output_type": "execute_result"
    }
   ],
   "source": [
    "# # Hyperparameter tuning for Random Forest Regressor using RandomizedSearchCV\n",
    "model = RandomForestRegressor()\n",
    "\n",
    "random_search = RandomizedSearchCV(estimator=model,\n",
    "                                  param_distributions={\n",
    "                                    'max_depth': [10, 20, 30, 40, 50, 60, 70, 80, 90, 100],\n",
    "                                    'min_samples_leaf': [1, 2, 4],\n",
    "                                    'min_samples_split': [2, 5, 10],\n",
    "                                    'n_estimators': [200, 400, 600, 800, 1000, 1200, 1400, 1600, 1800, 2000]\n",
    "                                  },cv=5, scoring=\"r2\",verbose=1,n_jobs=-1, \n",
    "                                  n_iter=50, random_state = 1\n",
    "                                )\n",
    "random_search.fit(X_train,y_train)"
   ]
  },
  {
   "cell_type": "code",
   "execution_count": 61,
   "metadata": {},
   "outputs": [
    {
     "name": "stdout",
     "output_type": "stream",
     "text": [
      " Results from Random Search \n",
      "\n",
      " The best estimator across ALL searched params:\n",
      " RandomForestRegressor(max_depth=60, n_estimators=600)\n",
      "\n",
      " The best score across ALL searched params:\n",
      " 0.5743774378869447\n",
      "\n",
      " The best parameters across ALL searched params:\n",
      " {'n_estimators': 600, 'min_samples_split': 2, 'min_samples_leaf': 1, 'max_depth': 60}\n"
     ]
    }
   ],
   "source": [
    "print(\" Results from Random Search \" )\n",
    "print(\"\\n The best estimator across ALL searched params:\\n\", random_search.best_estimator_)\n",
    "print(\"\\n The best score across ALL searched params:\\n\", random_search.best_score_)\n",
    "print(\"\\n The best parameters across ALL searched params:\\n\", random_search.best_params_)"
   ]
  },
  {
   "cell_type": "code",
   "execution_count": 66,
   "metadata": {
    "id": "YT924Bek1wKM"
   },
   "outputs": [],
   "source": [
    "# Build Random Forest Regression Model\n",
    "model = RandomForestRegressor(max_depth=60, n_estimators=600, min_samples_leaf=1, min_samples_split= 2, random_state=42)\n",
    "\n",
    "# fit model\n",
    "model.fit(X_train, y_train)\n",
    "\n",
    "# make predictions on the test set\n",
    "y_pred = model.predict(X_test)"
   ]
  },
  {
   "cell_type": "code",
   "execution_count": 67,
   "metadata": {
    "id": "Zkuo0LDZ3iri"
   },
   "outputs": [],
   "source": [
    "# Evaluation Metrics\n",
    "def evaluation_metrics_func(y_test, y_pred):\n",
    "    \n",
    "    #print('Evaluation metric results:-')\n",
    "    print(f'RMSE is : {np.sqrt(metrics.mean_squared_error(y_test, y_pred))}')\n",
    "    print(f'R2 is : {metrics.r2_score(y_test, y_pred)}',end='\\n\\n')"
   ]
  },
  {
   "cell_type": "code",
   "execution_count": 68,
   "metadata": {
    "colab": {
     "base_uri": "https://localhost:8080/"
    },
    "id": "epnPWKiJ3wEF",
    "outputId": "2925cacf-9a98-42a2-f60f-93de9f605e3d"
   },
   "outputs": [
    {
     "name": "stdout",
     "output_type": "stream",
     "text": [
      "RMSE is : 992197.153989306\n",
      "R2 is : 0.7608718420556293\n",
      "\n"
     ]
    }
   ],
   "source": [
    "# Computing the evaluation metrics\n",
    "evaluation_metrics_func(y_test, y_pred)"
   ]
  },
  {
   "cell_type": "code",
   "execution_count": 69,
   "metadata": {},
   "outputs": [],
   "source": [
    "# save the model to disk\n",
    "filename = 'finalized_model.sav'\n",
    "pickle.dump(model, open(filename, 'wb'))"
   ]
  }
 ],
 "metadata": {
  "colab": {
   "provenance": []
  },
  "kernelspec": {
   "display_name": "Python 3",
   "language": "python",
   "name": "python3"
  },
  "language_info": {
   "codemirror_mode": {
    "name": "ipython",
    "version": 3
   },
   "file_extension": ".py",
   "mimetype": "text/x-python",
   "name": "python",
   "nbconvert_exporter": "python",
   "pygments_lexer": "ipython3",
   "version": "3.9.13"
  },
  "vscode": {
   "interpreter": {
    "hash": "82ed002fa2d4956f5c6aec99bcefe0f73a9f79882f3c9e2319b14958a5896ac5"
   }
  }
 },
 "nbformat": 4,
 "nbformat_minor": 1
}
